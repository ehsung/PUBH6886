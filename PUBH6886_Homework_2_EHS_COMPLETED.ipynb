{
  "nbformat": 4,
  "nbformat_minor": 0,
  "metadata": {
    "colab": {
      "provenance": [],
      "authorship_tag": "ABX9TyM+BxLxljwNbqNH23PH/1SA",
      "include_colab_link": true
    },
    "kernelspec": {
      "name": "ir",
      "display_name": "R"
    },
    "language_info": {
      "name": "R"
    }
  },
  "cells": [
    {
      "cell_type": "markdown",
      "metadata": {
        "id": "view-in-github",
        "colab_type": "text"
      },
      "source": [
        "<a href=\"https://colab.research.google.com/github/ehsung/PUBH6886/blob/main/PUBH6886_Homework_2_EHS_COMPLETED.ipynb\" target=\"_parent\"><img src=\"https://colab.research.google.com/assets/colab-badge.svg\" alt=\"Open In Colab\"/></a>"
      ]
    },
    {
      "cell_type": "markdown",
      "source": [
        "# PUBH 6886 Homework 2\n",
        "## Completed by Edward Sung\n",
        "## Completed on 10/08/24"
      ],
      "metadata": {
        "id": "P8f3T9h6w4uH"
      }
    },
    {
      "cell_type": "markdown",
      "source": [
        "Note: suppressWarnings() is used on train() since it generates a lot of warnings related to:\n",
        "\n",
        "Warning message:\n",
        "“Setting row names on a tibble is deprecated.”"
      ],
      "metadata": {
        "id": "f_g56-WW6S-a"
      }
    },
    {
      "cell_type": "markdown",
      "source": [
        "# Table of Contents\n",
        "\n",
        ">[Question 1 -- reg_data.csv](#updateTitle=true&folderId=1r-g8wJfeKaGd9a8yLWY3NoKaegmzbrzB&scrollTo=ZHnVPFtK8o4u)\n",
        "\n",
        ">>[(a)](#updateTitle=true&folderId=1r-g8wJfeKaGd9a8yLWY3NoKaegmzbrzB&scrollTo=pfSf7x_r8wl6)\n",
        "\n",
        ">>[(b)](#updateTitle=true&folderId=1r-g8wJfeKaGd9a8yLWY3NoKaegmzbrzB&scrollTo=hxX_AJVoACbB)\n",
        "\n",
        ">>[(c)](#updateTitle=true&folderId=1r-g8wJfeKaGd9a8yLWY3NoKaegmzbrzB&scrollTo=MNdRQSq-Ap_s)\n",
        "\n",
        ">>[(d)](#updateTitle=true&folderId=1r-g8wJfeKaGd9a8yLWY3NoKaegmzbrzB&scrollTo=DSSCtjokDtZx)\n",
        "\n",
        ">[Question 2 - mus14data.csv](#updateTitle=true&folderId=1r-g8wJfeKaGd9a8yLWY3NoKaegmzbrzB&scrollTo=uJvzd2EQGAKS)\n",
        "\n",
        ">>[Part I (Validation Set Approach)](#updateTitle=true&folderId=1r-g8wJfeKaGd9a8yLWY3NoKaegmzbrzB&scrollTo=1OFhiC1lHWNc)\n",
        "\n",
        ">>>[(a)](#updateTitle=true&folderId=1r-g8wJfeKaGd9a8yLWY3NoKaegmzbrzB&scrollTo=MeyMZsIuHY0q)\n",
        "\n",
        ">>>[(b)](#updateTitle=true&folderId=1r-g8wJfeKaGd9a8yLWY3NoKaegmzbrzB&scrollTo=s4_8iv_zmvQ9)\n",
        "\n",
        ">>>[(c)](#updateTitle=true&folderId=1r-g8wJfeKaGd9a8yLWY3NoKaegmzbrzB&scrollTo=0yNo8F55noPV)\n",
        "\n",
        ">>>[(d)](#updateTitle=true&folderId=1r-g8wJfeKaGd9a8yLWY3NoKaegmzbrzB&scrollTo=EFSmWE3oKXdY)\n",
        "\n",
        ">>[Part II (Cross-Validation Approach)](#updateTitle=true&folderId=1r-g8wJfeKaGd9a8yLWY3NoKaegmzbrzB&scrollTo=_GZDGS2LHqEk)\n",
        "\n",
        ">>>[(e)](#updateTitle=true&folderId=1r-g8wJfeKaGd9a8yLWY3NoKaegmzbrzB&scrollTo=zwA7N23THwTM)\n",
        "\n",
        ">>>[(f)](#updateTitle=true&folderId=1r-g8wJfeKaGd9a8yLWY3NoKaegmzbrzB&scrollTo=u4-hERaDjGbs)\n",
        "\n",
        ">>>[(g)](#updateTitle=true&folderId=1r-g8wJfeKaGd9a8yLWY3NoKaegmzbrzB&scrollTo=daDFX3fS64JW)\n",
        "\n",
        ">>>[(h)](#updateTitle=true&folderId=1r-g8wJfeKaGd9a8yLWY3NoKaegmzbrzB&scrollTo=UcpvcWVRMBup)\n",
        "\n",
        ">>>[(i)](#updateTitle=true&folderId=1r-g8wJfeKaGd9a8yLWY3NoKaegmzbrzB&scrollTo=1BJMoeMnWV3S)\n",
        "\n",
        ">>>[(j)](#updateTitle=true&folderId=1r-g8wJfeKaGd9a8yLWY3NoKaegmzbrzB&scrollTo=estEZ2hScgeA)\n",
        "\n"
      ],
      "metadata": {
        "colab_type": "toc",
        "id": "P-ELlsscGEWg"
      }
    },
    {
      "cell_type": "code",
      "execution_count": null,
      "metadata": {
        "id": "dxg68i3vw2bt"
      },
      "outputs": [],
      "source": [
        "# Install Libraries\n",
        "install.packages(\"caret\")\n",
        "install.packages(\"ggplot2\")\n",
        "install.packages(\"pROC\")\n",
        "install.packages(\"naivebayes\")\n",
        "install.packages(\"psych\")"
      ]
    },
    {
      "cell_type": "code",
      "source": [
        "# Load libraries\n",
        "library(dplyr)\n",
        "library(caret)\n",
        "library(ggplot2)\n",
        "library(pROC)\n",
        "library(naivebayes)\n",
        "library(psych)\n",
        "library(readr)\n",
        "library(class)\n",
        "library(MASS)"
      ],
      "metadata": {
        "id": "BL2_PCzq3NMN"
      },
      "execution_count": 40,
      "outputs": []
    },
    {
      "cell_type": "markdown",
      "source": [
        "# Question 1 -- reg_data.csv\n",
        "(40 pts.) The csv file reg_data.csv contains simulated data with 200 observations on 7 variables: x1, x2,\n",
        "x3, x4, x5, x6, and y. In this problem, you will write your own code to conduct leave-one-out cross-validation\n",
        "(LOOCV) and 5-fold cross-validation (CV) to compute estimates for the test error of a linear model with y\n",
        "as the response and all other variables as predictors."
      ],
      "metadata": {
        "id": "ZHnVPFtK8o4u"
      }
    },
    {
      "cell_type": "code",
      "source": [
        "# Load in data\n",
        "reg_data <- read_csv(\"/content/reg_data.csv\")\n",
        "\n",
        "# View data\n",
        "dim(reg_data)\n",
        "\n",
        "head(reg_data)"
      ],
      "metadata": {
        "colab": {
          "base_uri": "https://localhost:8080/",
          "height": 429
        },
        "id": "Ez7vNfWg3Vu0",
        "outputId": "fe401066-931d-42d6-f9b5-9f703802b8f9"
      },
      "execution_count": 42,
      "outputs": [
        {
          "output_type": "stream",
          "name": "stderr",
          "text": [
            "\u001b[1mRows: \u001b[22m\u001b[34m200\u001b[39m \u001b[1mColumns: \u001b[22m\u001b[34m7\u001b[39m\n",
            "\u001b[36m──\u001b[39m \u001b[1mColumn specification\u001b[22m \u001b[36m────────────────────────────────────────────────────────\u001b[39m\n",
            "\u001b[1mDelimiter:\u001b[22m \",\"\n",
            "\u001b[32mdbl\u001b[39m (7): x1, x2, x3, x4, x5, x6, y\n",
            "\n",
            "\u001b[36mℹ\u001b[39m Use `spec()` to retrieve the full column specification for this data.\n",
            "\u001b[36mℹ\u001b[39m Specify the column types or set `show_col_types = FALSE` to quiet this message.\n"
          ]
        },
        {
          "output_type": "display_data",
          "data": {
            "text/html": [
              "<style>\n",
              ".list-inline {list-style: none; margin:0; padding: 0}\n",
              ".list-inline>li {display: inline-block}\n",
              ".list-inline>li:not(:last-child)::after {content: \"\\00b7\"; padding: 0 .5ex}\n",
              "</style>\n",
              "<ol class=list-inline><li>200</li><li>7</li></ol>\n"
            ],
            "text/markdown": "1. 200\n2. 7\n\n\n",
            "text/latex": "\\begin{enumerate*}\n\\item 200\n\\item 7\n\\end{enumerate*}\n",
            "text/plain": [
              "[1] 200   7"
            ]
          },
          "metadata": {}
        },
        {
          "output_type": "display_data",
          "data": {
            "text/html": [
              "<table class=\"dataframe\">\n",
              "<caption>A tibble: 6 × 7</caption>\n",
              "<thead>\n",
              "\t<tr><th scope=col>x1</th><th scope=col>x2</th><th scope=col>x3</th><th scope=col>x4</th><th scope=col>x5</th><th scope=col>x6</th><th scope=col>y</th></tr>\n",
              "\t<tr><th scope=col>&lt;dbl&gt;</th><th scope=col>&lt;dbl&gt;</th><th scope=col>&lt;dbl&gt;</th><th scope=col>&lt;dbl&gt;</th><th scope=col>&lt;dbl&gt;</th><th scope=col>&lt;dbl&gt;</th><th scope=col>&lt;dbl&gt;</th></tr>\n",
              "</thead>\n",
              "<tbody>\n",
              "\t<tr><td>-1.4805676</td><td>-2.98645607</td><td> 0.08712577</td><td>-1.4143294</td><td>-0.06748027</td><td>-2.5204781</td><td> 4.954282</td></tr>\n",
              "\t<tr><td> 1.5771695</td><td>-0.05054728</td><td>-1.36818436</td><td> 1.2760058</td><td>-0.20285061</td><td> 0.5159200</td><td>14.328271</td></tr>\n",
              "\t<tr><td>-0.9567445</td><td> 1.29951288</td><td>-1.39008345</td><td>-0.1442224</td><td> 0.15804987</td><td> 1.5817516</td><td> 8.086903</td></tr>\n",
              "\t<tr><td>-0.9200052</td><td>-1.35140108</td><td> 0.30526776</td><td> 0.7335033</td><td>-0.24980420</td><td> 0.4900354</td><td> 6.889574</td></tr>\n",
              "\t<tr><td>-1.9976421</td><td>-0.94979891</td><td> 0.15537138</td><td>-0.6607897</td><td>-0.30466253</td><td> 1.1993885</td><td> 5.282593</td></tr>\n",
              "\t<tr><td>-0.2722960</td><td> 1.68610180</td><td> 0.21445206</td><td> 1.3705340</td><td>-0.44977789</td><td>-0.9967298</td><td>11.015119</td></tr>\n",
              "</tbody>\n",
              "</table>\n"
            ],
            "text/markdown": "\nA tibble: 6 × 7\n\n| x1 &lt;dbl&gt; | x2 &lt;dbl&gt; | x3 &lt;dbl&gt; | x4 &lt;dbl&gt; | x5 &lt;dbl&gt; | x6 &lt;dbl&gt; | y &lt;dbl&gt; |\n|---|---|---|---|---|---|---|\n| -1.4805676 | -2.98645607 |  0.08712577 | -1.4143294 | -0.06748027 | -2.5204781 |  4.954282 |\n|  1.5771695 | -0.05054728 | -1.36818436 |  1.2760058 | -0.20285061 |  0.5159200 | 14.328271 |\n| -0.9567445 |  1.29951288 | -1.39008345 | -0.1442224 |  0.15804987 |  1.5817516 |  8.086903 |\n| -0.9200052 | -1.35140108 |  0.30526776 |  0.7335033 | -0.24980420 |  0.4900354 |  6.889574 |\n| -1.9976421 | -0.94979891 |  0.15537138 | -0.6607897 | -0.30466253 |  1.1993885 |  5.282593 |\n| -0.2722960 |  1.68610180 |  0.21445206 |  1.3705340 | -0.44977789 | -0.9967298 | 11.015119 |\n\n",
            "text/latex": "A tibble: 6 × 7\n\\begin{tabular}{lllllll}\n x1 & x2 & x3 & x4 & x5 & x6 & y\\\\\n <dbl> & <dbl> & <dbl> & <dbl> & <dbl> & <dbl> & <dbl>\\\\\n\\hline\n\t -1.4805676 & -2.98645607 &  0.08712577 & -1.4143294 & -0.06748027 & -2.5204781 &  4.954282\\\\\n\t  1.5771695 & -0.05054728 & -1.36818436 &  1.2760058 & -0.20285061 &  0.5159200 & 14.328271\\\\\n\t -0.9567445 &  1.29951288 & -1.39008345 & -0.1442224 &  0.15804987 &  1.5817516 &  8.086903\\\\\n\t -0.9200052 & -1.35140108 &  0.30526776 &  0.7335033 & -0.24980420 &  0.4900354 &  6.889574\\\\\n\t -1.9976421 & -0.94979891 &  0.15537138 & -0.6607897 & -0.30466253 &  1.1993885 &  5.282593\\\\\n\t -0.2722960 &  1.68610180 &  0.21445206 &  1.3705340 & -0.44977789 & -0.9967298 & 11.015119\\\\\n\\end{tabular}\n",
            "text/plain": [
              "  x1         x2          x3          x4         x5          x6        \n",
              "1 -1.4805676 -2.98645607  0.08712577 -1.4143294 -0.06748027 -2.5204781\n",
              "2  1.5771695 -0.05054728 -1.36818436  1.2760058 -0.20285061  0.5159200\n",
              "3 -0.9567445  1.29951288 -1.39008345 -0.1442224  0.15804987  1.5817516\n",
              "4 -0.9200052 -1.35140108  0.30526776  0.7335033 -0.24980420  0.4900354\n",
              "5 -1.9976421 -0.94979891  0.15537138 -0.6607897 -0.30466253  1.1993885\n",
              "6 -0.2722960  1.68610180  0.21445206  1.3705340 -0.44977789 -0.9967298\n",
              "  y        \n",
              "1  4.954282\n",
              "2 14.328271\n",
              "3  8.086903\n",
              "4  6.889574\n",
              "5  5.282593\n",
              "6 11.015119"
            ]
          },
          "metadata": {}
        }
      ]
    },
    {
      "cell_type": "markdown",
      "source": [
        "## (a)\n",
        "(15 pts.) Write your own code to compute the LOOCV RMSE for the linear model. Provide the\n",
        "LOOCV estimate for the RMSE."
      ],
      "metadata": {
        "id": "pfSf7x_r8wl6"
      }
    },
    {
      "cell_type": "code",
      "source": [
        "# Compute LOOCV RMSE\n",
        "n <- nrow(reg_data)\n",
        "rmse_values <- numeric(n)\n",
        "\n",
        "for (i in 1:n) {\n",
        "  # Leave one observation out\n",
        "  train_data <- reg_data[-i, ]\n",
        "  test_data <- reg_data[i, , drop = FALSE]\n",
        "\n",
        "  # Fit the model on the training data\n",
        "  train_model <- lm(y ~ x1 + x2 + x3 + x4 + x5 + x6, data = train_data)\n",
        "\n",
        "  # Predict the left-out observation\n",
        "  prediction <- predict(train_model, newdata = test_data)\n",
        "\n",
        "  # Calculate RMSE for this fold\n",
        "  rmse_values[i] <- (prediction - test_data$y)^2\n",
        "}\n",
        "\n",
        "# Calculate mean RMSE\n",
        "mean_rmse <- sqrt(mean(rmse_values))\n",
        "mean_rmse"
      ],
      "metadata": {
        "colab": {
          "base_uri": "https://localhost:8080/",
          "height": 34
        },
        "id": "Qye-dMed8bsf",
        "outputId": "c3ca58b6-2016-4752-f063-609250cc66c5"
      },
      "execution_count": 43,
      "outputs": [
        {
          "output_type": "display_data",
          "data": {
            "text/html": [
              "1.61994648699978"
            ],
            "text/markdown": "1.61994648699978",
            "text/latex": "1.61994648699978",
            "text/plain": [
              "[1] 1.619946"
            ]
          },
          "metadata": {}
        }
      ]
    },
    {
      "cell_type": "markdown",
      "source": [
        "## (b)\n",
        "(5 pts.) Use the train() function from the caret package to confirm that your LOOCV estimate is\n",
        "correct."
      ],
      "metadata": {
        "id": "hxX_AJVoACbB"
      }
    },
    {
      "cell_type": "code",
      "source": [
        "# Use the train() with lm and LOOCV\n",
        "lm_reg_data_loocv <- suppressWarnings(train(x = reg_data[,1:6], y = reg_data$y,\n",
        "                                            method = \"lm\", trControl = trainControl(method = \"LOOCV\")))\n",
        "\n",
        "lm_reg_data_loocv$results$RMSE"
      ],
      "metadata": {
        "colab": {
          "base_uri": "https://localhost:8080/",
          "height": 34
        },
        "id": "qRo7EfiW9B2s",
        "outputId": "a7dc3d2b-2db9-410e-af26-642a23c3bef5"
      },
      "execution_count": 44,
      "outputs": [
        {
          "output_type": "display_data",
          "data": {
            "text/html": [
              "1.61994648699978"
            ],
            "text/markdown": "1.61994648699978",
            "text/latex": "1.61994648699978",
            "text/plain": [
              "[1] 1.619946"
            ]
          },
          "metadata": {}
        }
      ]
    },
    {
      "cell_type": "markdown",
      "source": [
        "Both my manually coded and package LOOCV RMSE match.\n",
        "\n",
        "RMSE = 1.61994648699978"
      ],
      "metadata": {
        "id": "CVO9uCwtANSf"
      }
    },
    {
      "cell_type": "markdown",
      "source": [
        "## (c)\n",
        "(15 pts.) Write your own code to compute the 5-fold CV RMSE for the linear model. Provide the 5-fold\n",
        "CV estimate for the RMSE. Since the rows of the data set are already randomly ordered, use rows 1 -\n",
        "40 for fold 1, 41 - 80 for fold 2, 81 - 120, for fold 3, 121 - 160 for fold 4, and 161 - 200 for fold 5."
      ],
      "metadata": {
        "id": "MNdRQSq-Ap_s"
      }
    },
    {
      "cell_type": "code",
      "source": [
        "# Create the 5 fold list\n",
        "cv_folds <- list(\n",
        "  fold1 = reg_data[1:40, ],\n",
        "  fold2 = reg_data[41:80, ],\n",
        "  fold3 = reg_data[81:120, ],\n",
        "  fold4 = reg_data[121:160, ],\n",
        "  fold5 = reg_data[161:200, ]\n",
        "  )\n",
        "\n",
        "rmse_values <- numeric(length(cv_folds))\n",
        "\n",
        "for (i in 1:length(cv_folds)) {\n",
        "  # Create training and testing sets for each fold\n",
        "  test_data <- cv_folds[[i]]\n",
        "  train_data <- do.call(rbind, cv_folds[-i])\n",
        "\n",
        "  # Fit the model on the training data\n",
        "  train_model <- lm(y ~ x1 + x2 + x3 + x4 + x5 + x6, data = train_data)\n",
        "\n",
        "  # Predict on the test data\n",
        "  predictions <- predict(train_model, newdata = test_data)\n",
        "\n",
        "  # Calculate RMSE for this fold\n",
        "  rmse_values[i] <- sqrt(mean((predictions - test_data$y)^2))\n",
        "}\n",
        "\n",
        "# Calculate mean RMSE\n",
        "mean_rmse <- mean(rmse_values)\n",
        "mean_rmse"
      ],
      "metadata": {
        "colab": {
          "base_uri": "https://localhost:8080/",
          "height": 34
        },
        "id": "R_FH4D4oAq-b",
        "outputId": "012a3188-8ef6-48e8-bd72-19c8161171f0"
      },
      "execution_count": 45,
      "outputs": [
        {
          "output_type": "display_data",
          "data": {
            "text/html": [
              "1.6230370311353"
            ],
            "text/markdown": "1.6230370311353",
            "text/latex": "1.6230370311353",
            "text/plain": [
              "[1] 1.623037"
            ]
          },
          "metadata": {}
        }
      ]
    },
    {
      "cell_type": "markdown",
      "source": [
        "## (d)\n",
        "(5 pts.) Use the train() function from the caret package to confirm that your 5-fold CV estimate is\n",
        "correct. The trControl argument allows you to specify which observations will be used for training\n",
        "and which will be held out for testing in each iteration of resampling if you do not want to use the\n",
        "default randomly generated folds. Use the code below for the trControl argument to obtain a 5-fold\n",
        "CV estimate that uses the same folds as those specified in part (c)"
      ],
      "metadata": {
        "id": "DSSCtjokDtZx"
      }
    },
    {
      "cell_type": "code",
      "source": [
        "# Provided trControl code\n",
        "trControl = trainControl(method = \"cv\",\n",
        "                         index = list(41:200, c(1:40,81:200), c(1:80,121:200),\n",
        "                                     c(1:120,161:200), 1:160),\n",
        "                         indexOut = list(1:40, 41:80, 81:120, 121:160, 161:200))\n",
        "\n",
        "# Use the train() with lm and trControl for 5-fold CV\n",
        "lm_reg_data_5cv <- suppressWarnings(train(x = reg_data[,1:6], y = reg_data$y,\n",
        "                                          method = \"lm\", trControl = trControl))\n",
        "\n",
        "lm_reg_data_5cv$results$RMSE"
      ],
      "metadata": {
        "colab": {
          "base_uri": "https://localhost:8080/",
          "height": 34
        },
        "id": "FoxhcI3aDTUP",
        "outputId": "f2807383-acfa-41c8-fe9f-c4f10382ad0a"
      },
      "execution_count": 46,
      "outputs": [
        {
          "output_type": "display_data",
          "data": {
            "text/html": [
              "1.6230370311353"
            ],
            "text/markdown": "1.6230370311353",
            "text/latex": "1.6230370311353",
            "text/plain": [
              "[1] 1.623037"
            ]
          },
          "metadata": {}
        }
      ]
    },
    {
      "cell_type": "markdown",
      "source": [
        "Both my manually coded and package cv RMSE match.\n",
        "\n",
        "RMSE = 1.6230370311353"
      ],
      "metadata": {
        "id": "EzMh6MlpF1Az"
      }
    },
    {
      "cell_type": "markdown",
      "source": [
        "# Question 2 - mus14data.csv\n",
        "(105 pts.) The csv file mus14data.csv contains data from a cross sectional survey of 3206 individuals on\n",
        "Medicare (source: Cameron & Trivedi 2010). Below you will construct and evaluate a set of classification\n",
        "models that predict whether or not an individual has private insurance (private) or not using the set of\n",
        "other variables shown in the table below as predictors."
      ],
      "metadata": {
        "id": "uJvzd2EQGAKS"
      }
    },
    {
      "cell_type": "code",
      "source": [
        "# Load in data\n",
        "mus14data <- read_csv(\"/content/mus14data.csv\")\n",
        "\n",
        "# Trim data down to using specific predictors\n",
        "select_predictors <- c(\"private\", \"retire\", \"age\", \"hstatusg\", \"hhincome\", \"educyear\", \"married\", \"hisp\", \"chronic\")\n",
        "mus14data_selected <- mus14data %>%\n",
        "  dplyr::select(all_of(select_predictors))\n",
        "\n",
        "# Factor the catagorical variables\n",
        "mus14data_selected$retire <- factor(mus14data_selected$retire)\n",
        "mus14data_selected$hstatusg <- factor(mus14data_selected$hstatusg)\n",
        "mus14data_selected$married <- factor(mus14data_selected$married)\n",
        "mus14data_selected$hisp <- factor(mus14data_selected$hisp)\n",
        "\n",
        "# View data\n",
        "head(mus14data_selected)"
      ],
      "metadata": {
        "colab": {
          "base_uri": "https://localhost:8080/",
          "height": 411
        },
        "id": "wIFKjzPgGCbK",
        "outputId": "db7d41c0-edf1-49fb-cfad-cff1a48ebbd2"
      },
      "execution_count": 47,
      "outputs": [
        {
          "output_type": "stream",
          "name": "stderr",
          "text": [
            "\u001b[1mRows: \u001b[22m\u001b[34m3206\u001b[39m \u001b[1mColumns: \u001b[22m\u001b[34m35\u001b[39m\n",
            "\u001b[36m──\u001b[39m \u001b[1mColumn specification\u001b[22m \u001b[36m────────────────────────────────────────────────────────\u001b[39m\n",
            "\u001b[1mDelimiter:\u001b[22m \",\"\n",
            "\u001b[32mdbl\u001b[39m (35): personid, private, eprhi, age, hisp, white, female, educyear, marr...\n",
            "\n",
            "\u001b[36mℹ\u001b[39m Use `spec()` to retrieve the full column specification for this data.\n",
            "\u001b[36mℹ\u001b[39m Specify the column types or set `show_col_types = FALSE` to quiet this message.\n"
          ]
        },
        {
          "output_type": "display_data",
          "data": {
            "text/html": [
              "<table class=\"dataframe\">\n",
              "<caption>A tibble: 6 × 9</caption>\n",
              "<thead>\n",
              "\t<tr><th scope=col>private</th><th scope=col>retire</th><th scope=col>age</th><th scope=col>hstatusg</th><th scope=col>hhincome</th><th scope=col>educyear</th><th scope=col>married</th><th scope=col>hisp</th><th scope=col>chronic</th></tr>\n",
              "\t<tr><th scope=col>&lt;dbl&gt;</th><th scope=col>&lt;fct&gt;</th><th scope=col>&lt;dbl&gt;</th><th scope=col>&lt;fct&gt;</th><th scope=col>&lt;dbl&gt;</th><th scope=col>&lt;dbl&gt;</th><th scope=col>&lt;fct&gt;</th><th scope=col>&lt;fct&gt;</th><th scope=col>&lt;dbl&gt;</th></tr>\n",
              "</thead>\n",
              "<tbody>\n",
              "\t<tr><td>0</td><td>0</td><td>62</td><td>0</td><td>0</td><td>12</td><td>0</td><td>0</td><td>3</td></tr>\n",
              "\t<tr><td>0</td><td>0</td><td>59</td><td>0</td><td>0</td><td>12</td><td>0</td><td>0</td><td>1</td></tr>\n",
              "\t<tr><td>0</td><td>1</td><td>60</td><td>1</td><td>0</td><td>13</td><td>0</td><td>0</td><td>2</td></tr>\n",
              "\t<tr><td>0</td><td>0</td><td>62</td><td>0</td><td>0</td><td>10</td><td>0</td><td>0</td><td>4</td></tr>\n",
              "\t<tr><td>0</td><td>0</td><td>54</td><td>0</td><td>0</td><td> 9</td><td>0</td><td>0</td><td>6</td></tr>\n",
              "\t<tr><td>0</td><td>1</td><td>62</td><td>1</td><td>0</td><td>12</td><td>1</td><td>0</td><td>0</td></tr>\n",
              "</tbody>\n",
              "</table>\n"
            ],
            "text/markdown": "\nA tibble: 6 × 9\n\n| private &lt;dbl&gt; | retire &lt;fct&gt; | age &lt;dbl&gt; | hstatusg &lt;fct&gt; | hhincome &lt;dbl&gt; | educyear &lt;dbl&gt; | married &lt;fct&gt; | hisp &lt;fct&gt; | chronic &lt;dbl&gt; |\n|---|---|---|---|---|---|---|---|---|\n| 0 | 0 | 62 | 0 | 0 | 12 | 0 | 0 | 3 |\n| 0 | 0 | 59 | 0 | 0 | 12 | 0 | 0 | 1 |\n| 0 | 1 | 60 | 1 | 0 | 13 | 0 | 0 | 2 |\n| 0 | 0 | 62 | 0 | 0 | 10 | 0 | 0 | 4 |\n| 0 | 0 | 54 | 0 | 0 |  9 | 0 | 0 | 6 |\n| 0 | 1 | 62 | 1 | 0 | 12 | 1 | 0 | 0 |\n\n",
            "text/latex": "A tibble: 6 × 9\n\\begin{tabular}{lllllllll}\n private & retire & age & hstatusg & hhincome & educyear & married & hisp & chronic\\\\\n <dbl> & <fct> & <dbl> & <fct> & <dbl> & <dbl> & <fct> & <fct> & <dbl>\\\\\n\\hline\n\t 0 & 0 & 62 & 0 & 0 & 12 & 0 & 0 & 3\\\\\n\t 0 & 0 & 59 & 0 & 0 & 12 & 0 & 0 & 1\\\\\n\t 0 & 1 & 60 & 1 & 0 & 13 & 0 & 0 & 2\\\\\n\t 0 & 0 & 62 & 0 & 0 & 10 & 0 & 0 & 4\\\\\n\t 0 & 0 & 54 & 0 & 0 &  9 & 0 & 0 & 6\\\\\n\t 0 & 1 & 62 & 1 & 0 & 12 & 1 & 0 & 0\\\\\n\\end{tabular}\n",
            "text/plain": [
              "  private retire age hstatusg hhincome educyear married hisp chronic\n",
              "1 0       0      62  0        0        12       0       0    3      \n",
              "2 0       0      59  0        0        12       0       0    1      \n",
              "3 0       1      60  1        0        13       0       0    2      \n",
              "4 0       0      62  0        0        10       0       0    4      \n",
              "5 0       0      54  0        0         9       0       0    6      \n",
              "6 0       1      62  1        0        12       1       0    0      "
            ]
          },
          "metadata": {}
        }
      ]
    },
    {
      "cell_type": "code",
      "source": [
        "# View class distribution\n",
        "table(mus14data_selected$private)"
      ],
      "metadata": {
        "colab": {
          "base_uri": "https://localhost:8080/",
          "height": 71
        },
        "id": "tYxcf9i2Ln0K",
        "outputId": "ee59104d-b4a9-4488-fc43-841479977d52"
      },
      "execution_count": 48,
      "outputs": [
        {
          "output_type": "display_data",
          "data": {
            "text/plain": [
              "\n",
              "   0    1 \n",
              "1965 1241 "
            ]
          },
          "metadata": {}
        }
      ]
    },
    {
      "cell_type": "markdown",
      "source": [
        "## Part I (Validation Set Approach)"
      ],
      "metadata": {
        "id": "1OFhiC1lHWNc"
      }
    },
    {
      "cell_type": "markdown",
      "source": [
        "### (a)\n",
        "(16 pts.) Split the data in to training and validation sets with 70% in the training set and 30% in\n",
        "the test/validation set. Fit a logistic model on the training set and use the estimated model with a\n",
        "threshold of 50% to predict whether or not a subject has private insurance. Take a look at the p-values\n",
        "for the slopes. What do these p-values suggest about the majority of the predictors in the model?\n",
        "Justify your response. Provide an estimate for the test misclassification error. Construct the confusion\n",
        "matrix and compute the true positive rate for classifying an observation as having private insurance\n",
        "and also compute the false positive rate. Use the code below to obtain the row indices for the training\n",
        "and test/validation sets (these ensure a 70/30 split)."
      ],
      "metadata": {
        "id": "MeyMZsIuHY0q"
      }
    },
    {
      "cell_type": "code",
      "source": [
        "# Split data 70% training set, 30% test/validation set\n",
        "set.seed(1234)\n",
        "\n",
        "train_ids <- sample(1:3206, size = ceiling(3206*0.70))\n",
        "test_ids <- setdiff(1:3206, train_ids)\n",
        "\n",
        "train_data <- mus14data_selected[train_ids, ]\n",
        "test_data <- mus14data_selected[test_ids, ]\n",
        "\n",
        "dim(train_data)\n",
        "dim(test_data)"
      ],
      "metadata": {
        "colab": {
          "base_uri": "https://localhost:8080/",
          "height": 52
        },
        "id": "PEJtnClTHaUV",
        "outputId": "4c013a35-927f-4e7a-9e28-3e08aa4e232e"
      },
      "execution_count": 49,
      "outputs": [
        {
          "output_type": "display_data",
          "data": {
            "text/html": [
              "<style>\n",
              ".list-inline {list-style: none; margin:0; padding: 0}\n",
              ".list-inline>li {display: inline-block}\n",
              ".list-inline>li:not(:last-child)::after {content: \"\\00b7\"; padding: 0 .5ex}\n",
              "</style>\n",
              "<ol class=list-inline><li>2245</li><li>9</li></ol>\n"
            ],
            "text/markdown": "1. 2245\n2. 9\n\n\n",
            "text/latex": "\\begin{enumerate*}\n\\item 2245\n\\item 9\n\\end{enumerate*}\n",
            "text/plain": [
              "[1] 2245    9"
            ]
          },
          "metadata": {}
        },
        {
          "output_type": "display_data",
          "data": {
            "text/html": [
              "<style>\n",
              ".list-inline {list-style: none; margin:0; padding: 0}\n",
              ".list-inline>li {display: inline-block}\n",
              ".list-inline>li:not(:last-child)::after {content: \"\\00b7\"; padding: 0 .5ex}\n",
              "</style>\n",
              "<ol class=list-inline><li>961</li><li>9</li></ol>\n"
            ],
            "text/markdown": "1. 961\n2. 9\n\n\n",
            "text/latex": "\\begin{enumerate*}\n\\item 961\n\\item 9\n\\end{enumerate*}\n",
            "text/plain": [
              "[1] 961   9"
            ]
          },
          "metadata": {}
        }
      ]
    },
    {
      "cell_type": "code",
      "source": [
        "# Fit logistic model on train_data\n",
        "logistic_model <- glm(private ~ ., data = train_data, family = binomial(link = \"logit\"))\n",
        "\n",
        "# View p-values for the slopes\n",
        "summary(logistic_model)$coef"
      ],
      "metadata": {
        "colab": {
          "base_uri": "https://localhost:8080/",
          "height": 349
        },
        "id": "cpHuf5yIH6kL",
        "outputId": "e4cf003f-cfc1-4fe0-969d-8c35888f3603"
      },
      "execution_count": 50,
      "outputs": [
        {
          "output_type": "display_data",
          "data": {
            "text/html": [
              "<table class=\"dataframe\">\n",
              "<caption>A matrix: 9 × 4 of type dbl</caption>\n",
              "<thead>\n",
              "\t<tr><th></th><th scope=col>Estimate</th><th scope=col>Std. Error</th><th scope=col>z value</th><th scope=col>Pr(&gt;|z|)</th></tr>\n",
              "</thead>\n",
              "<tbody>\n",
              "\t<tr><th scope=row>(Intercept)</th><td>-2.379801128</td><td>0.8986160284</td><td>-2.6482959</td><td>8.089869e-03</td></tr>\n",
              "\t<tr><th scope=row>retire1</th><td> 0.293587073</td><td>0.1019005730</td><td> 2.8811131</td><td>3.962734e-03</td></tr>\n",
              "\t<tr><th scope=row>age</th><td>-0.011599220</td><td>0.0133771437</td><td>-0.8670924</td><td>3.858914e-01</td></tr>\n",
              "\t<tr><th scope=row>hstatusg1</th><td> 0.342038803</td><td>0.1179895900</td><td> 2.8988897</td><td>3.744867e-03</td></tr>\n",
              "\t<tr><th scope=row>hhincome</th><td> 0.001759817</td><td>0.0008677028</td><td> 2.0281337</td><td>4.254660e-02</td></tr>\n",
              "\t<tr><th scope=row>educyear</th><td> 0.126996111</td><td>0.0174162133</td><td> 7.2918326</td><td>3.057670e-13</td></tr>\n",
              "\t<tr><th scope=row>married1</th><td> 0.705222182</td><td>0.1150117667</td><td> 6.1317394</td><td>8.692340e-10</td></tr>\n",
              "\t<tr><th scope=row>hisp1</th><td>-0.905710051</td><td>0.2447861336</td><td>-3.7000055</td><td>2.155948e-04</td></tr>\n",
              "\t<tr><th scope=row>chronic</th><td> 0.066214854</td><td>0.0358694612</td><td> 1.8459952</td><td>6.489290e-02</td></tr>\n",
              "</tbody>\n",
              "</table>\n"
            ],
            "text/markdown": "\nA matrix: 9 × 4 of type dbl\n\n| <!--/--> | Estimate | Std. Error | z value | Pr(&gt;|z|) |\n|---|---|---|---|---|\n| (Intercept) | -2.379801128 | 0.8986160284 | -2.6482959 | 8.089869e-03 |\n| retire1 |  0.293587073 | 0.1019005730 |  2.8811131 | 3.962734e-03 |\n| age | -0.011599220 | 0.0133771437 | -0.8670924 | 3.858914e-01 |\n| hstatusg1 |  0.342038803 | 0.1179895900 |  2.8988897 | 3.744867e-03 |\n| hhincome |  0.001759817 | 0.0008677028 |  2.0281337 | 4.254660e-02 |\n| educyear |  0.126996111 | 0.0174162133 |  7.2918326 | 3.057670e-13 |\n| married1 |  0.705222182 | 0.1150117667 |  6.1317394 | 8.692340e-10 |\n| hisp1 | -0.905710051 | 0.2447861336 | -3.7000055 | 2.155948e-04 |\n| chronic |  0.066214854 | 0.0358694612 |  1.8459952 | 6.489290e-02 |\n\n",
            "text/latex": "A matrix: 9 × 4 of type dbl\n\\begin{tabular}{r|llll}\n  & Estimate & Std. Error & z value & Pr(>\\textbar{}z\\textbar{})\\\\\n\\hline\n\t(Intercept) & -2.379801128 & 0.8986160284 & -2.6482959 & 8.089869e-03\\\\\n\tretire1 &  0.293587073 & 0.1019005730 &  2.8811131 & 3.962734e-03\\\\\n\tage & -0.011599220 & 0.0133771437 & -0.8670924 & 3.858914e-01\\\\\n\thstatusg1 &  0.342038803 & 0.1179895900 &  2.8988897 & 3.744867e-03\\\\\n\thhincome &  0.001759817 & 0.0008677028 &  2.0281337 & 4.254660e-02\\\\\n\teducyear &  0.126996111 & 0.0174162133 &  7.2918326 & 3.057670e-13\\\\\n\tmarried1 &  0.705222182 & 0.1150117667 &  6.1317394 & 8.692340e-10\\\\\n\thisp1 & -0.905710051 & 0.2447861336 & -3.7000055 & 2.155948e-04\\\\\n\tchronic &  0.066214854 & 0.0358694612 &  1.8459952 & 6.489290e-02\\\\\n\\end{tabular}\n",
            "text/plain": [
              "            Estimate     Std. Error   z value    Pr(>|z|)    \n",
              "(Intercept) -2.379801128 0.8986160284 -2.6482959 8.089869e-03\n",
              "retire1      0.293587073 0.1019005730  2.8811131 3.962734e-03\n",
              "age         -0.011599220 0.0133771437 -0.8670924 3.858914e-01\n",
              "hstatusg1    0.342038803 0.1179895900  2.8988897 3.744867e-03\n",
              "hhincome     0.001759817 0.0008677028  2.0281337 4.254660e-02\n",
              "educyear     0.126996111 0.0174162133  7.2918326 3.057670e-13\n",
              "married1     0.705222182 0.1150117667  6.1317394 8.692340e-10\n",
              "hisp1       -0.905710051 0.2447861336 -3.7000055 2.155948e-04\n",
              "chronic      0.066214854 0.0358694612  1.8459952 6.489290e-02"
            ]
          },
          "metadata": {}
        }
      ]
    },
    {
      "cell_type": "markdown",
      "source": [
        "Using a p-value threshold of 0.05, a p-value less than that suggests that the predictor is statistically significant in predicting private insurance.\n",
        "\n",
        "The majority of the predictors have less than 0.05, thus most likely have meaningful contribution to the model in predicting private insurance. These predicators with less than 0.05 are: `retire`, `hstatusg`, `hhincome`, and `hisp`, with `educyear`, `married` having very low p-values, meaning they are the strongest predictors.\n",
        "\n",
        "`age` and `chronic` are not statistically significant at the p-value threshold, so they are not good predicators for private insurance."
      ],
      "metadata": {
        "id": "fOQO7kmDV226"
      }
    },
    {
      "cell_type": "code",
      "source": [
        "# Predict probabilities on the test set using the trained model\n",
        "predicted_probs <- predict(logistic_model, newdata = test_data, type = \"response\")\n",
        "\n",
        "# Classify using a 50% threshold\n",
        "predicted_classes <- ifelse(predicted_probs > 0.5, 1, 0)\n",
        "\n",
        "# Generate confusiong matrix\n",
        "conf_matrix <- table(Predicted = predicted_classes, Actual = test_data$private)\n",
        "\n",
        "conf_matrix"
      ],
      "metadata": {
        "colab": {
          "base_uri": "https://localhost:8080/",
          "height": 88
        },
        "id": "UGT3cZC5U2Dv",
        "outputId": "0474fab0-4a93-4733-af34-4fb199ca71bb"
      },
      "execution_count": 51,
      "outputs": [
        {
          "output_type": "display_data",
          "data": {
            "text/plain": [
              "         Actual\n",
              "Predicted   0   1\n",
              "        0 482 284\n",
              "        1 102  93"
            ]
          },
          "metadata": {}
        }
      ]
    },
    {
      "cell_type": "code",
      "source": [
        "# Cell Values\n",
        "TP <- conf_matrix[2, 2]  # True Positives\n",
        "FN <- conf_matrix[1, 2]  # False Negatives\n",
        "FP <- conf_matrix[2, 1]  # False Positives\n",
        "TN <- conf_matrix[1, 1]  # True Negatives\n",
        "\n",
        "\n",
        "# Test correct classification (Accuracy)\n",
        "accuracy <- (TP + TN) / (TP + TN + FP + FN)\n",
        "print(paste(\"Accuracy:\", accuracy))\n",
        "\n",
        "# Test misclassification error (misclassification)\n",
        "misclassification <- 1 - accuracy\n",
        "print(paste(\"Misclassification Error:\", misclassification))\n",
        "\n",
        "# Test True Positive Rate (TPR)\n",
        "TPR <- TP / (TP + FN)\n",
        "print(paste(\"True Positive Rate (TPR):\", TPR))\n",
        "\n",
        "# Test False Positive Rate (FPR)\n",
        "FPR <- FP / (FP + TN)\n",
        "print(paste(\"False Positive Rate (FPR):\", FPR))"
      ],
      "metadata": {
        "colab": {
          "base_uri": "https://localhost:8080/"
        },
        "id": "1QbmO_RaH_7x",
        "outputId": "01044c44-d684-4b6f-a06a-0b1ff7e3e5a0"
      },
      "execution_count": 52,
      "outputs": [
        {
          "output_type": "stream",
          "name": "stdout",
          "text": [
            "[1] \"Accuracy: 0.598335067637877\"\n",
            "[1] \"Misclassification Error: 0.401664932362123\"\n",
            "[1] \"True Positive Rate (TPR): 0.246684350132626\"\n",
            "[1] \"False Positive Rate (FPR): 0.174657534246575\"\n"
          ]
        }
      ]
    },
    {
      "cell_type": "markdown",
      "source": [
        "### (b)\n",
        "(15 pts.) Using the validation data from part (a), provide histograms of the predicted probabilities in\n",
        "each outcome class, construct a calibration plot (bin the predicted probabilities into bins of length\n",
        "0.10), and compute Cohen’s κ. Collectively, do these diagnostics suggest that the classifier that you fit\n",
        "in part (a) performs well or performs poorly?"
      ],
      "metadata": {
        "id": "s4_8iv_zmvQ9"
      }
    },
    {
      "cell_type": "code",
      "source": [
        "# Histogram of predicted_probs on test_data\n",
        "results <- data.frame(\n",
        "  Actual = test_data$private,\n",
        "  Predicted_Prob = predicted_probs\n",
        ")\n",
        "\n",
        "ggplot(results, aes(x = Predicted_Prob)) +\n",
        "  geom_histogram(binwidth = 0.1, aes(fill = as.factor(Actual)), alpha = 0.8, boundary = 0) +\n",
        "  geom_vline(xintercept = 0.5, linetype = \"dashed\", color = \"black\", size = 1) +\n",
        "  facet_wrap(~Actual, scales = \"free\") +\n",
        "  scale_fill_manual(values = c(\"0\" = \"blue\", \"1\" = \"red\")) +\n",
        "  labs(title = \"Histograms of Predicted Probabilities by Class\",\n",
        "           x = \"Predicted Probability\",\n",
        "           y = \"Count\",\n",
        "        fill = \"Actual Class\") +\n",
        "  theme_minimal()"
      ],
      "metadata": {
        "colab": {
          "base_uri": "https://localhost:8080/",
          "height": 437
        },
        "id": "_pTrxNKlbPym",
        "outputId": "2c6a401f-c2fd-455c-9f9c-71765cc78d88"
      },
      "execution_count": 53,
      "outputs": [
        {
          "output_type": "display_data",
          "data": {
            "text/plain": [
              "plot without title"
            ],
            "image/png": "[encoded data removed]"
          },
          "metadata": {
            "image/png": {
              "width": 420,
              "height": 420
            }
          }
        }
      ]
    },
    {
      "cell_type": "code",
      "source": [
        "# Calibration Plot on predicted_probs on test_data\n",
        "results$pred_bin <- cut(predicted_probs, breaks = c(0, 0.1, 0.2, 0.3, 0.4, 0.5, 0.6, 0.7, 0.8, 0.9, 1), include.lowest=TRUE)\n",
        "\n",
        "cal_data <- results %>%\n",
        "  group_by(pred_bin) %>%\n",
        "  summarize(event_prob = mean(Actual))\n",
        "\n",
        "cal_data"
      ],
      "metadata": {
        "colab": {
          "base_uri": "https://localhost:8080/",
          "height": 349
        },
        "id": "ZPbaqFcHsRyc",
        "outputId": "cd27813e-7350-4c31-e938-ed9ac082b636"
      },
      "execution_count": 54,
      "outputs": [
        {
          "output_type": "display_data",
          "data": {
            "text/html": [
              "<table class=\"dataframe\">\n",
              "<caption>A tibble: 8 × 2</caption>\n",
              "<thead>\n",
              "\t<tr><th scope=col>pred_bin</th><th scope=col>event_prob</th></tr>\n",
              "\t<tr><th scope=col>&lt;fct&gt;</th><th scope=col>&lt;dbl&gt;</th></tr>\n",
              "</thead>\n",
              "<tbody>\n",
              "\t<tr><td>[0,0.1]  </td><td>0.05714286</td></tr>\n",
              "\t<tr><td>(0.1,0.2]</td><td>0.16494845</td></tr>\n",
              "\t<tr><td>(0.2,0.3]</td><td>0.30952381</td></tr>\n",
              "\t<tr><td>(0.3,0.4]</td><td>0.40500000</td></tr>\n",
              "\t<tr><td>(0.4,0.5]</td><td>0.50000000</td></tr>\n",
              "\t<tr><td>(0.5,0.6]</td><td>0.44347826</td></tr>\n",
              "\t<tr><td>(0.6,0.7]</td><td>0.51948052</td></tr>\n",
              "\t<tr><td>(0.7,0.8]</td><td>0.66666667</td></tr>\n",
              "</tbody>\n",
              "</table>\n"
            ],
            "text/markdown": "\nA tibble: 8 × 2\n\n| pred_bin &lt;fct&gt; | event_prob &lt;dbl&gt; |\n|---|---|\n| [0,0.1]   | 0.05714286 |\n| (0.1,0.2] | 0.16494845 |\n| (0.2,0.3] | 0.30952381 |\n| (0.3,0.4] | 0.40500000 |\n| (0.4,0.5] | 0.50000000 |\n| (0.5,0.6] | 0.44347826 |\n| (0.6,0.7] | 0.51948052 |\n| (0.7,0.8] | 0.66666667 |\n\n",
            "text/latex": "A tibble: 8 × 2\n\\begin{tabular}{ll}\n pred\\_bin & event\\_prob\\\\\n <fct> & <dbl>\\\\\n\\hline\n\t {[}0,0.1{]}   & 0.05714286\\\\\n\t (0.1,0.2{]} & 0.16494845\\\\\n\t (0.2,0.3{]} & 0.30952381\\\\\n\t (0.3,0.4{]} & 0.40500000\\\\\n\t (0.4,0.5{]} & 0.50000000\\\\\n\t (0.5,0.6{]} & 0.44347826\\\\\n\t (0.6,0.7{]} & 0.51948052\\\\\n\t (0.7,0.8{]} & 0.66666667\\\\\n\\end{tabular}\n",
            "text/plain": [
              "  pred_bin  event_prob\n",
              "1 [0,0.1]   0.05714286\n",
              "2 (0.1,0.2] 0.16494845\n",
              "3 (0.2,0.3] 0.30952381\n",
              "4 (0.3,0.4] 0.40500000\n",
              "5 (0.4,0.5] 0.50000000\n",
              "6 (0.5,0.6] 0.44347826\n",
              "7 (0.6,0.7] 0.51948052\n",
              "8 (0.7,0.8] 0.66666667"
            ]
          },
          "metadata": {}
        }
      ]
    },
    {
      "cell_type": "code",
      "source": [
        "# add bin midpoints for plotting\n",
        "cal_data$bin_mid <- c(0.05, 0.15, 0.25, 0.35, 0.45, 0.55, 0.65, 0.75)\n",
        "\n",
        "# make claibration plot\n",
        "cal_data %>% ggplot(aes(x = bin_mid, y = event_prob)) +\n",
        "  geom_point() +\n",
        "  geom_abline(slope = 1, intercept = 0, lty = 2, col = \"grey\") +\n",
        "  ylab(\"Actual Event Percentage\") +\n",
        "  xlab(\"Bin Midpoint\") + xlim(0,0.8) +\n",
        "  theme_bw()"
      ],
      "metadata": {
        "colab": {
          "base_uri": "https://localhost:8080/",
          "height": 437
        },
        "id": "LzRWQIWDt3OT",
        "outputId": "1968f3e2-a229-4c32-aa57-87dc124a1775"
      },
      "execution_count": 55,
      "outputs": [
        {
          "output_type": "display_data",
          "data": {
            "text/plain": [
              "plot without title"
            ],
            "image/png": "[encoded data removed]"
          },
          "metadata": {
            "image/png": {
              "width": 420,
              "height": 420
            }
          }
        }
      ]
    },
    {
      "cell_type": "code",
      "source": [
        "# Computed Cohen's k on test_data\n",
        "cohen.kappa(cbind(test_data$private, predicted_classes))"
      ],
      "metadata": {
        "colab": {
          "base_uri": "https://localhost:8080/",
          "height": 178
        },
        "id": "gwNSrG1vj0b0",
        "outputId": "0cd25773-0799-400e-ad91-6035b15c929f"
      },
      "execution_count": 56,
      "outputs": [
        {
          "output_type": "display_data",
          "data": {
            "text/plain": [
              "Call: cohen.kappa1(x = x, w = w, n.obs = n.obs, alpha = alpha, levels = levels, \n",
              "    w.exp = w.exp)\n",
              "\n",
              "Cohen Kappa and Weighted Kappa correlation coefficients and confidence boundaries \n",
              "                 lower estimate upper\n",
              "unweighted kappa 0.021    0.079  0.14\n",
              "weighted kappa   0.021    0.079  0.14\n",
              "\n",
              " Number of subjects = 961 "
            ]
          },
          "metadata": {}
        }
      ]
    },
    {
      "cell_type": "markdown",
      "source": [
        "The histogram, calibration plot, and computed cohen's k on the test_data collectively suggests that the logistic regression model fit on the training data with a 0.5 threshold is performing poorly.\n",
        "\n",
        "In the histogram, the 0.5 threshold is marked as a dash line in both graphs. We can see for actual class 0 (blue graph), the majority of the predictions are on the left side of the dash, suggesting the model does do okay when predicting no private insurance, but does very poorly when trying to predict having private insurance as seen in the actual class 1 (red graph). For the samples that do have private insurance, the model has predicted that they didn't have insurnace, as shown by the majority counts are on the left side of the 0.5 threshold line.\n",
        "\n",
        "\n",
        "For the calibration plot, well-calibrated prediction probabilities would fall along the 45 degree line. But as seen in our graph, the points are above and below the 45 degree line.\n",
        "\n",
        "Cohen Kappa value for the test_data is 0.079, which is very close to 0. This means there are essentially no agreement between observed and predicted classes."
      ],
      "metadata": {
        "id": "KsY3A0dOm4nc"
      }
    },
    {
      "cell_type": "markdown",
      "source": [
        "### (c)\n",
        " (12 pts.) Suppose that you want to determine if there is a better threshold than 50%. Construct an\n",
        "ROC curve and compute the AUC (based on the test/validation data) for the logistic model that you\n",
        "fit in part (a). What is the optimal threshold if we want the sum of the sensitivity and specificity to\n",
        "be maximized? Does the optimal threshold produce a good predictive model based on sensitivity and\n",
        "specificity? Justify your response."
      ],
      "metadata": {
        "id": "0yNo8F55noPV"
      }
    },
    {
      "cell_type": "code",
      "source": [
        "# Generate ROC\n",
        "logit_roc <- roc(response = results$Actual, predictor = results$Predicted_Prob)\n",
        "logit_roc"
      ],
      "metadata": {
        "colab": {
          "base_uri": "https://localhost:8080/",
          "height": 196
        },
        "id": "XJEM9Yx7no1p",
        "outputId": "71be6f81-39c8-4392-bf10-5e24233d6dc7"
      },
      "execution_count": 57,
      "outputs": [
        {
          "output_type": "stream",
          "name": "stderr",
          "text": [
            "Setting levels: control = 0, case = 1\n",
            "\n",
            "Setting direction: controls < cases\n",
            "\n"
          ]
        },
        {
          "output_type": "display_data",
          "data": {
            "text/plain": [
              "\n",
              "Call:\n",
              "roc.default(response = results$Actual, predictor = results$Predicted_Prob)\n",
              "\n",
              "Data: results$Predicted_Prob in 584 controls (results$Actual 0) < 377 cases (results$Actual 1).\n",
              "Area under the curve: 0.6324"
            ]
          },
          "metadata": {}
        }
      ]
    },
    {
      "cell_type": "markdown",
      "source": [
        "The AUC is 0.6324."
      ],
      "metadata": {
        "id": "EWe-8DMZBw42"
      }
    },
    {
      "cell_type": "code",
      "source": [
        "# Plot ROC Curve with optimal threshold point\n",
        "plot(logit_roc, print.thres = TRUE)"
      ],
      "metadata": {
        "colab": {
          "base_uri": "https://localhost:8080/",
          "height": 437
        },
        "id": "FKNNXTpenxB-",
        "outputId": "849d1636-e5e1-4e0a-f919-7c23abc6587d"
      },
      "execution_count": 58,
      "outputs": [
        {
          "output_type": "display_data",
          "data": {
            "text/plain": [
              "plot without title"
            ],
            "image/png": "[encoded data removed]"
          },
          "metadata": {
            "image/png": {
              "width": 420,
              "height": 420
            }
          }
        }
      ]
    },
    {
      "cell_type": "markdown",
      "source": [
        "The optimal threshold to maximize the sum of sensitivity and specificity is 0.375."
      ],
      "metadata": {
        "id": "qPkqsVZ49CB_"
      }
    },
    {
      "cell_type": "code",
      "source": [
        "# Predict probabilities on the test set using the trained model\n",
        "predicted_probs <- predict(logistic_model, newdata = test_data, type = \"response\")\n",
        "\n",
        "# Classify using the optimal threshold found in ROC\n",
        "predicted_classes <- ifelse(predicted_probs > 0.375, 1, 0)\n",
        "\n",
        "# Generate confusiong matrix\n",
        "conf_matrix <- table(Predicted = predicted_classes, Actual = test_data$private)\n",
        "\n",
        "conf_matrix"
      ],
      "metadata": {
        "colab": {
          "base_uri": "https://localhost:8080/",
          "height": 88
        },
        "id": "QXoeBQJ_7xTb",
        "outputId": "5d8a5377-415b-4c91-ad03-396e08e794bb"
      },
      "execution_count": 59,
      "outputs": [
        {
          "output_type": "display_data",
          "data": {
            "text/plain": [
              "         Actual\n",
              "Predicted   0   1\n",
              "        0 315 117\n",
              "        1 269 260"
            ]
          },
          "metadata": {}
        }
      ]
    },
    {
      "cell_type": "code",
      "source": [
        "# Cell Values\n",
        "TP <- conf_matrix[2, 2]  # True Positives\n",
        "FN <- conf_matrix[1, 2]  # False Negatives\n",
        "FP <- conf_matrix[2, 1]  # False Positives\n",
        "TN <- conf_matrix[1, 1]  # True Negatives\n",
        "\n",
        "\n",
        "# Test correct classification (Accuracy)\n",
        "accuracy <- (TP + TN) / (TP + TN + FP + FN)\n",
        "print(paste(\"Accuracy:\", accuracy))\n",
        "\n",
        "# Test misclassification error (misclassification)\n",
        "misclassification <- 1 - accuracy\n",
        "print(paste(\"Misclassification:\", misclassification))\n",
        "\n",
        "# Test True Positive Rate (TPR)\n",
        "TPR <- TP / (TP + FN)\n",
        "print(paste(\"True Positive Rate (TPR):\", TPR))\n",
        "\n",
        "# Test False Positive Rate (FPR)\n",
        "FPR <- FP / (FP + TN)\n",
        "print(paste(\"False Positive Rate (FPR):\", FPR))"
      ],
      "metadata": {
        "colab": {
          "base_uri": "https://localhost:8080/"
        },
        "id": "Asi_9u1k8ByI",
        "outputId": "5d77f5dc-b768-496d-82aa-56d056d360ad"
      },
      "execution_count": 60,
      "outputs": [
        {
          "output_type": "stream",
          "name": "stdout",
          "text": [
            "[1] \"Accuracy: 0.598335067637877\"\n",
            "[1] \"Misclassification: 0.401664932362123\"\n",
            "[1] \"True Positive Rate (TPR): 0.689655172413793\"\n",
            "[1] \"False Positive Rate (FPR): 0.460616438356164\"\n"
          ]
        }
      ]
    },
    {
      "cell_type": "markdown",
      "source": [
        "The change from 0.5 --> 0.375 (optimal) classification threshold did not make a difference in relation to its overall predictive power, with the test misclassification error still being 0.402, the same as the 0.5 threshold. But the components that make up the misclassification error did change, with the number of true positives (predicting having private insurance) increasing and true negative (prediciting not haveing private insurance) decreasing.\n",
        "\n",
        "There was also a change in the TPR and FPR, both increasing in values respectively, which meant that decreasing the threshold lead to a better TPR at the exchange of a worse FPR.\n",
        "\n",
        "If our goal was to identify more people with private insurance, this new logistic regression model with a lower threshold does perform better as seen in the increase in True Positives and a higher TPR."
      ],
      "metadata": {
        "id": "iKYI16dl-ejD"
      }
    },
    {
      "cell_type": "markdown",
      "source": [
        "### (d)\n",
        "(10 pts.) Fit KNN classifiers on the training data set for K = 5, 10, 15, 20, 25, 30, 35, and 40 using all\n",
        "8 predictors. Use the validation set to select the optimal value of K based on misclassification error.\n",
        "How does the best-performing KNN model compare the the logistic model from part (a) with respect\n",
        "to misclassification error?"
      ],
      "metadata": {
        "id": "EFSmWE3oKXdY"
      }
    },
    {
      "cell_type": "code",
      "source": [
        "# Re-load in data\n",
        "mus14data <- read_csv(\"/content/mus14data.csv\")\n",
        "\n",
        "# Trim data down to using specific predictors\n",
        "select_predictors <- c(\"private\", \"retire\", \"age\", \"hstatusg\", \"hhincome\", \"educyear\", \"married\", \"hisp\", \"chronic\")\n",
        "mus14data_selected <- mus14data %>%\n",
        "  dplyr::select(all_of(select_predictors))"
      ],
      "metadata": {
        "colab": {
          "base_uri": "https://localhost:8080/"
        },
        "id": "feT1tnStDJPY",
        "outputId": "a31fe8e6-698b-46e0-f8f1-cb7caa4ad28e"
      },
      "execution_count": 61,
      "outputs": [
        {
          "output_type": "stream",
          "name": "stderr",
          "text": [
            "\u001b[1mRows: \u001b[22m\u001b[34m3206\u001b[39m \u001b[1mColumns: \u001b[22m\u001b[34m35\u001b[39m\n",
            "\u001b[36m──\u001b[39m \u001b[1mColumn specification\u001b[22m \u001b[36m────────────────────────────────────────────────────────\u001b[39m\n",
            "\u001b[1mDelimiter:\u001b[22m \",\"\n",
            "\u001b[32mdbl\u001b[39m (35): personid, private, eprhi, age, hisp, white, female, educyear, marr...\n",
            "\n",
            "\u001b[36mℹ\u001b[39m Use `spec()` to retrieve the full column specification for this data.\n",
            "\u001b[36mℹ\u001b[39m Specify the column types or set `show_col_types = FALSE` to quiet this message.\n"
          ]
        }
      ]
    },
    {
      "cell_type": "code",
      "source": [
        "# Center and Scale the data\n",
        "mus14data_selected_csc <- data.frame(scale(mus14data_selected[,2:9]))\n",
        "mus14data_selected_csc$private <- mus14data_selected$private\n",
        "\n",
        "# Split data 70% training set, 30% test/validation set (Same split as previous)\n",
        "set.seed(1234)\n",
        "\n",
        "train_ids <- sample(1:3206, size = ceiling(3206*0.70))\n",
        "test_ids <- setdiff(1:3206, train_ids)\n",
        "\n",
        "train_data_csc <- mus14data_selected_csc[train_ids, ]\n",
        "test_data_csc <- mus14data_selected_csc[test_ids, ]\n",
        "\n",
        "# Holds the misclassification errors from the different K\n",
        "misclassification_error <- numeric(length = 8)\n",
        "k_values <- c(5, 10, 15, 20, 25, 30, 35, 40)\n",
        "\n",
        "# Loop through each value of k\n",
        "for (i in seq_along(k_values)) {\n",
        "  k <- k_values[i]  # Get the current value of k\n",
        "\n",
        "  # Fit the KNN model\n",
        "  knn_pred <- knn(train = train_data_csc[, 1:8],\n",
        "                  test = test_data_csc[, 1:8],\n",
        "                  cl = train_data_csc$private,\n",
        "                  k = k,\n",
        "                  prob = TRUE)\n",
        "\n",
        "  # Calculate misclassification error for specific knn_pred model\n",
        "  misclassification_error[i] <- mean(knn_pred != test_data_csc$private)\n",
        "\n",
        "  # Print the results\n",
        "  print(paste0(\"k = \", k, \" - Misclassification Error: \", misclassification_error[i]))\n",
        "}"
      ],
      "metadata": {
        "colab": {
          "base_uri": "https://localhost:8080/"
        },
        "id": "RDvPxh5NKYZL",
        "outputId": "727884b0-c1c7-4e38-d59a-4722afd3b611"
      },
      "execution_count": 62,
      "outputs": [
        {
          "output_type": "stream",
          "name": "stdout",
          "text": [
            "[1] \"k = 5 - Misclassification Error: 0.406867845993757\"\n",
            "[1] \"k = 10 - Misclassification Error: 0.398543184183143\"\n",
            "[1] \"k = 15 - Misclassification Error: 0.394380853277836\"\n",
            "[1] \"k = 20 - Misclassification Error: 0.406867845993757\"\n",
            "[1] \"k = 25 - Misclassification Error: 0.404786680541103\"\n",
            "[1] \"k = 30 - Misclassification Error: 0.413111342351717\"\n",
            "[1] \"k = 35 - Misclassification Error: 0.40894901144641\"\n",
            "[1] \"k = 40 - Misclassification Error: 0.399583766909469\"\n"
          ]
        }
      ]
    },
    {
      "cell_type": "markdown",
      "source": [
        "The best K value based on lowest misclassification error is k=15 with a misclassification error of 0.394. It is essentially on the same level as the logistic classifier model made in (a), where its misclassification error was 0.402, a 0.008 difference."
      ],
      "metadata": {
        "id": "9QayswUdrfgY"
      }
    },
    {
      "cell_type": "markdown",
      "source": [
        "## Part II (Cross-Validation Approach)"
      ],
      "metadata": {
        "id": "_GZDGS2LHqEk"
      }
    },
    {
      "cell_type": "markdown",
      "source": [
        "### (e)\n",
        "(10 pts.) Using the complete data set with all 3206 observations, compute the 10-fold CV misclassification\n",
        "error for the logistic classifier based on all 8 predictors and using a threshold of 50%. How does this\n",
        "compare with the estimate for the test misclassification error that you obtained in part (a)? On average,\n",
        "should we expect this value to be larger or smaller than the misclassification error obtained in part (a)?\n",
        "Justify your response."
      ],
      "metadata": {
        "id": "zwA7N23THwTM"
      }
    },
    {
      "cell_type": "code",
      "source": [
        "# Reload the data\n",
        "mus14data <- read_csv(\"/content/mus14data.csv\")\n",
        "\n",
        "# Trim data down to using specific predictors\n",
        "select_predictors <- c(\"private\", \"retire\", \"age\", \"hstatusg\", \"hhincome\", \"educyear\", \"married\", \"hisp\", \"chronic\")\n",
        "mus14data_selected <- mus14data %>%\n",
        "  dplyr::select(all_of(select_predictors))\n",
        "\n",
        "# Factor the catagorical variables\n",
        "mus14data_selected$retire <- factor(mus14data_selected$retire)\n",
        "mus14data_selected$hstatusg <- factor(mus14data_selected$hstatusg)\n",
        "mus14data_selected$married <- factor(mus14data_selected$married)\n",
        "mus14data_selected$hisp <- factor(mus14data_selected$hisp)\n",
        "mus14data_selected$private <- factor(mus14data_selected$private,\n",
        "                                     levels = c(0, 1),\n",
        "                                     labels = c(\"class0\", \"class1\"))\n",
        "\n",
        "# Confirm data\n",
        "head(mus14data_selected)\n",
        "\n",
        "table(mus14data_selected$private)"
      ],
      "metadata": {
        "colab": {
          "base_uri": "https://localhost:8080/",
          "height": 465
        },
        "id": "R5oGv_1HHtIc",
        "outputId": "ba5945a8-5447-49c3-c26e-44f30d6d872b"
      },
      "execution_count": 63,
      "outputs": [
        {
          "output_type": "stream",
          "name": "stderr",
          "text": [
            "\u001b[1mRows: \u001b[22m\u001b[34m3206\u001b[39m \u001b[1mColumns: \u001b[22m\u001b[34m35\u001b[39m\n",
            "\u001b[36m──\u001b[39m \u001b[1mColumn specification\u001b[22m \u001b[36m────────────────────────────────────────────────────────\u001b[39m\n",
            "\u001b[1mDelimiter:\u001b[22m \",\"\n",
            "\u001b[32mdbl\u001b[39m (35): personid, private, eprhi, age, hisp, white, female, educyear, marr...\n",
            "\n",
            "\u001b[36mℹ\u001b[39m Use `spec()` to retrieve the full column specification for this data.\n",
            "\u001b[36mℹ\u001b[39m Specify the column types or set `show_col_types = FALSE` to quiet this message.\n"
          ]
        },
        {
          "output_type": "display_data",
          "data": {
            "text/html": [
              "<table class=\"dataframe\">\n",
              "<caption>A tibble: 6 × 9</caption>\n",
              "<thead>\n",
              "\t<tr><th scope=col>private</th><th scope=col>retire</th><th scope=col>age</th><th scope=col>hstatusg</th><th scope=col>hhincome</th><th scope=col>educyear</th><th scope=col>married</th><th scope=col>hisp</th><th scope=col>chronic</th></tr>\n",
              "\t<tr><th scope=col>&lt;fct&gt;</th><th scope=col>&lt;fct&gt;</th><th scope=col>&lt;dbl&gt;</th><th scope=col>&lt;fct&gt;</th><th scope=col>&lt;dbl&gt;</th><th scope=col>&lt;dbl&gt;</th><th scope=col>&lt;fct&gt;</th><th scope=col>&lt;fct&gt;</th><th scope=col>&lt;dbl&gt;</th></tr>\n",
              "</thead>\n",
              "<tbody>\n",
              "\t<tr><td>class0</td><td>0</td><td>62</td><td>0</td><td>0</td><td>12</td><td>0</td><td>0</td><td>3</td></tr>\n",
              "\t<tr><td>class0</td><td>0</td><td>59</td><td>0</td><td>0</td><td>12</td><td>0</td><td>0</td><td>1</td></tr>\n",
              "\t<tr><td>class0</td><td>1</td><td>60</td><td>1</td><td>0</td><td>13</td><td>0</td><td>0</td><td>2</td></tr>\n",
              "\t<tr><td>class0</td><td>0</td><td>62</td><td>0</td><td>0</td><td>10</td><td>0</td><td>0</td><td>4</td></tr>\n",
              "\t<tr><td>class0</td><td>0</td><td>54</td><td>0</td><td>0</td><td> 9</td><td>0</td><td>0</td><td>6</td></tr>\n",
              "\t<tr><td>class0</td><td>1</td><td>62</td><td>1</td><td>0</td><td>12</td><td>1</td><td>0</td><td>0</td></tr>\n",
              "</tbody>\n",
              "</table>\n"
            ],
            "text/markdown": "\nA tibble: 6 × 9\n\n| private &lt;fct&gt; | retire &lt;fct&gt; | age &lt;dbl&gt; | hstatusg &lt;fct&gt; | hhincome &lt;dbl&gt; | educyear &lt;dbl&gt; | married &lt;fct&gt; | hisp &lt;fct&gt; | chronic &lt;dbl&gt; |\n|---|---|---|---|---|---|---|---|---|\n| class0 | 0 | 62 | 0 | 0 | 12 | 0 | 0 | 3 |\n| class0 | 0 | 59 | 0 | 0 | 12 | 0 | 0 | 1 |\n| class0 | 1 | 60 | 1 | 0 | 13 | 0 | 0 | 2 |\n| class0 | 0 | 62 | 0 | 0 | 10 | 0 | 0 | 4 |\n| class0 | 0 | 54 | 0 | 0 |  9 | 0 | 0 | 6 |\n| class0 | 1 | 62 | 1 | 0 | 12 | 1 | 0 | 0 |\n\n",
            "text/latex": "A tibble: 6 × 9\n\\begin{tabular}{lllllllll}\n private & retire & age & hstatusg & hhincome & educyear & married & hisp & chronic\\\\\n <fct> & <fct> & <dbl> & <fct> & <dbl> & <dbl> & <fct> & <fct> & <dbl>\\\\\n\\hline\n\t class0 & 0 & 62 & 0 & 0 & 12 & 0 & 0 & 3\\\\\n\t class0 & 0 & 59 & 0 & 0 & 12 & 0 & 0 & 1\\\\\n\t class0 & 1 & 60 & 1 & 0 & 13 & 0 & 0 & 2\\\\\n\t class0 & 0 & 62 & 0 & 0 & 10 & 0 & 0 & 4\\\\\n\t class0 & 0 & 54 & 0 & 0 &  9 & 0 & 0 & 6\\\\\n\t class0 & 1 & 62 & 1 & 0 & 12 & 1 & 0 & 0\\\\\n\\end{tabular}\n",
            "text/plain": [
              "  private retire age hstatusg hhincome educyear married hisp chronic\n",
              "1 class0  0      62  0        0        12       0       0    3      \n",
              "2 class0  0      59  0        0        12       0       0    1      \n",
              "3 class0  1      60  1        0        13       0       0    2      \n",
              "4 class0  0      62  0        0        10       0       0    4      \n",
              "5 class0  0      54  0        0         9       0       0    6      \n",
              "6 class0  1      62  1        0        12       1       0    0      "
            ]
          },
          "metadata": {}
        },
        {
          "output_type": "display_data",
          "data": {
            "text/plain": [
              "\n",
              "class0 class1 \n",
              "  1965   1241 "
            ]
          },
          "metadata": {}
        }
      ]
    },
    {
      "cell_type": "code",
      "source": [
        "# 10-fold CV Logistic Classifier, train() default 50% threshold\n",
        "set.seed(1234)\n",
        "\n",
        "lr_mus14data_selected_10cv <- suppressWarnings(train(x = mus14data_selected[,2:9], y = mus14data_selected$private,\n",
        "                                                     method = \"glm\", family = binomial(link = \"logit\"),\n",
        "                                                     trControl = trainControl(method = \"cv\", number = 10,\n",
        "                                                     classProbs = TRUE, savePredictions = TRUE)))\n",
        "\n",
        "# Calculate misclassification error (1 - accuracy)\n",
        "misclassification_error = 1 - lr_mus14data_selected_10cv$results$Accuracy\n",
        "print(paste(\"Misclassification Error:\", misclassification_error))"
      ],
      "metadata": {
        "colab": {
          "base_uri": "https://localhost:8080/"
        },
        "id": "DRZO-LYkH8VX",
        "outputId": "31af00ab-9225-4268-ce2b-9d0867198f90"
      },
      "execution_count": 64,
      "outputs": [
        {
          "output_type": "stream",
          "name": "stdout",
          "text": [
            "[1] \"Misclassification Error: 0.378042982430681\"\n"
          ]
        }
      ]
    },
    {
      "cell_type": "code",
      "source": [
        "0.402 - 0.378"
      ],
      "metadata": {
        "colab": {
          "base_uri": "https://localhost:8080/",
          "height": 34
        },
        "id": "hj-Ju4uEJTn1",
        "outputId": "dcd949eb-f4d4-4f1b-f93c-39dc95413c0e"
      },
      "execution_count": 65,
      "outputs": [
        {
          "output_type": "display_data",
          "data": {
            "text/html": [
              "0.024"
            ],
            "text/markdown": "0.024",
            "text/latex": "0.024",
            "text/plain": [
              "[1] 0.024"
            ]
          },
          "metadata": {}
        }
      ]
    },
    {
      "cell_type": "markdown",
      "source": [
        "This 10-fold cv logistic classifier model has a lower test misclassification error of 0.378, a 0.024 difference compared to the validation apporach logistic classifer in (a) of 0.402.\n",
        "\n",
        "On average, we would expect k-fold CV misclassification error to be smaller than the validation set approach done in (a). This is because the k-fold CV is being trained and tested on different parts of the same dataset. The model would eventaully train on patterns that would be seen in the test set as it goes through the folds, leading to better predictions and lower misclassification.\n",
        "\n",
        "While validation set approach tests on a completely independent validation set, not seen by the model during training, that may have patterns not present in the training dataset, which will lead to more misclassification."
      ],
      "metadata": {
        "id": "GNACJeCeY4Qz"
      }
    },
    {
      "cell_type": "markdown",
      "source": [
        "### (f)\n",
        "(15 pts.) Using the complete data set with all 3206 observations, determine the optimal threshold for\n",
        "the logistic model fit in part (e) based on 10-fold CV misclassification error. Consider threshold values\n",
        "of 10%, 20%, 30%, 40%, 50%, 60%, 70%, 80%, and 90%. Is the optimal threshold based on 10-fold CV\n",
        "misclassification error the same as the optimal threshold based on 10-fold CV Cohen’s κ? Justify your\n",
        "response."
      ],
      "metadata": {
        "id": "u4-hERaDjGbs"
      }
    },
    {
      "cell_type": "code",
      "source": [
        "# Sequence of threshold values\n",
        "prob_thresh <- seq(0.10, 0.90, by = 0.10)\n",
        "prob_thresh"
      ],
      "metadata": {
        "colab": {
          "base_uri": "https://localhost:8080/",
          "height": 34
        },
        "id": "tbOgODOBW1lF",
        "outputId": "c0bef8d7-2483-45c3-85b2-d8b51cbe314d"
      },
      "execution_count": 66,
      "outputs": [
        {
          "output_type": "display_data",
          "data": {
            "text/html": [
              "<style>\n",
              ".list-inline {list-style: none; margin:0; padding: 0}\n",
              ".list-inline>li {display: inline-block}\n",
              ".list-inline>li:not(:last-child)::after {content: \"\\00b7\"; padding: 0 .5ex}\n",
              "</style>\n",
              "<ol class=list-inline><li>0.1</li><li>0.2</li><li>0.3</li><li>0.4</li><li>0.5</li><li>0.6</li><li>0.7</li><li>0.8</li><li>0.9</li></ol>\n"
            ],
            "text/markdown": "1. 0.1\n2. 0.2\n3. 0.3\n4. 0.4\n5. 0.5\n6. 0.6\n7. 0.7\n8. 0.8\n9. 0.9\n\n\n",
            "text/latex": "\\begin{enumerate*}\n\\item 0.1\n\\item 0.2\n\\item 0.3\n\\item 0.4\n\\item 0.5\n\\item 0.6\n\\item 0.7\n\\item 0.8\n\\item 0.9\n\\end{enumerate*}\n",
            "text/plain": [
              "[1] 0.1 0.2 0.3 0.4 0.5 0.6 0.7 0.8 0.9"
            ]
          },
          "metadata": {}
        }
      ]
    },
    {
      "cell_type": "code",
      "source": [
        "# use thresholder() function to obtain accuracy measures at each threshold\n",
        "lr_mus14data_selected_10cv_ths <- thresholder(lr_mus14data_selected_10cv,\n",
        "                                              threshold = prob_thresh,\n",
        "                                              final = TRUE,\n",
        "                                              statistics = c(\"Sensitivity\", \"Specificity\", \"Accuracy\", \"Kappa\"))\n",
        "\n",
        "# Calculate misclassification error\n",
        "lr_mus14data_selected_10cv_ths$misclassification_error <- 1 - lr_mus14data_selected_10cv_ths$Accuracy\n",
        "\n",
        "lr_mus14data_selected_10cv_ths"
      ],
      "metadata": {
        "colab": {
          "base_uri": "https://localhost:8080/",
          "height": 380
        },
        "id": "GhopELnvjV6O",
        "outputId": "9251a9de-c19c-4d40-dc8e-4adbfa166da5"
      },
      "execution_count": 67,
      "outputs": [
        {
          "output_type": "display_data",
          "data": {
            "text/html": [
              "<table class=\"dataframe\">\n",
              "<caption>A data.frame: 9 × 7</caption>\n",
              "<thead>\n",
              "\t<tr><th scope=col>parameter</th><th scope=col>prob_threshold</th><th scope=col>Sensitivity</th><th scope=col>Specificity</th><th scope=col>Accuracy</th><th scope=col>Kappa</th><th scope=col>misclassification_error</th></tr>\n",
              "\t<tr><th scope=col>&lt;chr&gt;</th><th scope=col>&lt;dbl&gt;</th><th scope=col>&lt;dbl&gt;</th><th scope=col>&lt;dbl&gt;</th><th scope=col>&lt;dbl&gt;</th><th scope=col>&lt;dbl&gt;</th><th scope=col>&lt;dbl&gt;</th></tr>\n",
              "</thead>\n",
              "<tbody>\n",
              "\t<tr><td>none</td><td>0.1</td><td>0.99898477</td><td>0.0008064516</td><td>0.6126015</td><td>-0.0002557865</td><td>0.3873985</td></tr>\n",
              "\t<tr><td>none</td><td>0.2</td><td>0.99796954</td><td>0.0040322581</td><td>0.6132265</td><td> 0.0024430841</td><td>0.3867735</td></tr>\n",
              "\t<tr><td>none</td><td>0.3</td><td>0.99593650</td><td>0.0120838710</td><td>0.6150947</td><td> 0.0097731869</td><td>0.3849053</td></tr>\n",
              "\t<tr><td>none</td><td>0.4</td><td>0.95472651</td><td>0.0958838710</td><td>0.6222714</td><td> 0.0596776668</td><td>0.3777286</td></tr>\n",
              "\t<tr><td>none</td><td>0.5</td><td>0.84073345</td><td>0.2755483871</td><td>0.6219570</td><td> 0.1273671169</td><td>0.3780430</td></tr>\n",
              "\t<tr><td>none</td><td>0.6</td><td>0.59853672</td><td>0.6462580645</td><td>0.6169930</td><td> 0.2328738259</td><td>0.3830070</td></tr>\n",
              "\t<tr><td>none</td><td>0.7</td><td>0.36594064</td><td>0.8573677419</td><td>0.5561537</td><td> 0.1928644578</td><td>0.4438463</td></tr>\n",
              "\t<tr><td>none</td><td>0.8</td><td>0.14912462</td><td>0.9734258065</td><td>0.4681931</td><td> 0.0986685503</td><td>0.5318069</td></tr>\n",
              "\t<tr><td>none</td><td>0.9</td><td>0.04579923</td><td>0.9983870968</td><td>0.4145355</td><td> 0.0346235504</td><td>0.5854645</td></tr>\n",
              "</tbody>\n",
              "</table>\n"
            ],
            "text/markdown": "\nA data.frame: 9 × 7\n\n| parameter &lt;chr&gt; | prob_threshold &lt;dbl&gt; | Sensitivity &lt;dbl&gt; | Specificity &lt;dbl&gt; | Accuracy &lt;dbl&gt; | Kappa &lt;dbl&gt; | misclassification_error &lt;dbl&gt; |\n|---|---|---|---|---|---|---|\n| none | 0.1 | 0.99898477 | 0.0008064516 | 0.6126015 | -0.0002557865 | 0.3873985 |\n| none | 0.2 | 0.99796954 | 0.0040322581 | 0.6132265 |  0.0024430841 | 0.3867735 |\n| none | 0.3 | 0.99593650 | 0.0120838710 | 0.6150947 |  0.0097731869 | 0.3849053 |\n| none | 0.4 | 0.95472651 | 0.0958838710 | 0.6222714 |  0.0596776668 | 0.3777286 |\n| none | 0.5 | 0.84073345 | 0.2755483871 | 0.6219570 |  0.1273671169 | 0.3780430 |\n| none | 0.6 | 0.59853672 | 0.6462580645 | 0.6169930 |  0.2328738259 | 0.3830070 |\n| none | 0.7 | 0.36594064 | 0.8573677419 | 0.5561537 |  0.1928644578 | 0.4438463 |\n| none | 0.8 | 0.14912462 | 0.9734258065 | 0.4681931 |  0.0986685503 | 0.5318069 |\n| none | 0.9 | 0.04579923 | 0.9983870968 | 0.4145355 |  0.0346235504 | 0.5854645 |\n\n",
            "text/latex": "A data.frame: 9 × 7\n\\begin{tabular}{lllllll}\n parameter & prob\\_threshold & Sensitivity & Specificity & Accuracy & Kappa & misclassification\\_error\\\\\n <chr> & <dbl> & <dbl> & <dbl> & <dbl> & <dbl> & <dbl>\\\\\n\\hline\n\t none & 0.1 & 0.99898477 & 0.0008064516 & 0.6126015 & -0.0002557865 & 0.3873985\\\\\n\t none & 0.2 & 0.99796954 & 0.0040322581 & 0.6132265 &  0.0024430841 & 0.3867735\\\\\n\t none & 0.3 & 0.99593650 & 0.0120838710 & 0.6150947 &  0.0097731869 & 0.3849053\\\\\n\t none & 0.4 & 0.95472651 & 0.0958838710 & 0.6222714 &  0.0596776668 & 0.3777286\\\\\n\t none & 0.5 & 0.84073345 & 0.2755483871 & 0.6219570 &  0.1273671169 & 0.3780430\\\\\n\t none & 0.6 & 0.59853672 & 0.6462580645 & 0.6169930 &  0.2328738259 & 0.3830070\\\\\n\t none & 0.7 & 0.36594064 & 0.8573677419 & 0.5561537 &  0.1928644578 & 0.4438463\\\\\n\t none & 0.8 & 0.14912462 & 0.9734258065 & 0.4681931 &  0.0986685503 & 0.5318069\\\\\n\t none & 0.9 & 0.04579923 & 0.9983870968 & 0.4145355 &  0.0346235504 & 0.5854645\\\\\n\\end{tabular}\n",
            "text/plain": [
              "  parameter prob_threshold Sensitivity Specificity  Accuracy  Kappa        \n",
              "1 none      0.1            0.99898477  0.0008064516 0.6126015 -0.0002557865\n",
              "2 none      0.2            0.99796954  0.0040322581 0.6132265  0.0024430841\n",
              "3 none      0.3            0.99593650  0.0120838710 0.6150947  0.0097731869\n",
              "4 none      0.4            0.95472651  0.0958838710 0.6222714  0.0596776668\n",
              "5 none      0.5            0.84073345  0.2755483871 0.6219570  0.1273671169\n",
              "6 none      0.6            0.59853672  0.6462580645 0.6169930  0.2328738259\n",
              "7 none      0.7            0.36594064  0.8573677419 0.5561537  0.1928644578\n",
              "8 none      0.8            0.14912462  0.9734258065 0.4681931  0.0986685503\n",
              "9 none      0.9            0.04579923  0.9983870968 0.4145355  0.0346235504\n",
              "  misclassification_error\n",
              "1 0.3873985              \n",
              "2 0.3867735              \n",
              "3 0.3849053              \n",
              "4 0.3777286              \n",
              "5 0.3780430              \n",
              "6 0.3830070              \n",
              "7 0.4438463              \n",
              "8 0.5318069              \n",
              "9 0.5854645              "
            ]
          },
          "metadata": {}
        }
      ]
    },
    {
      "cell_type": "markdown",
      "source": [
        "No, the optimal threshold that minimizes the 10-fold CV misclassification error is 0.4 at 0.3777, while the optimal threshold that maximizes kappa is 0.6 at a kappa value of 0.2329. The difference is most likely due to misclassification error focusing on raw predictions, while kappa takes into account classes and random agreement. Kappa might be favoring the higher threshold that handles the class imbalance better."
      ],
      "metadata": {
        "id": "hkNJWlDYlsSf"
      }
    },
    {
      "cell_type": "markdown",
      "source": [
        "### (g)  \n",
        "(10 pts.) Using the complete data set with all 3206 observations, fit KNN classifiers with K = 5, 10,\n",
        "15, 20, 25, 30, 35, and 40 using all 8 predictors. What is the optimal value of K based on 10-fold CV\n",
        "misclassification error? Justify your response."
      ],
      "metadata": {
        "id": "daDFX3fS64JW"
      }
    },
    {
      "cell_type": "code",
      "source": [
        "# Reload the data\n",
        "mus14data <- read_csv(\"/content/mus14data.csv\")\n",
        "\n",
        "# Trim data down to using specific predictors\n",
        "select_predictors <- c(\"private\", \"retire\", \"age\", \"hstatusg\", \"hhincome\", \"educyear\", \"married\", \"hisp\", \"chronic\")\n",
        "mus14data_selected <- mus14data %>%\n",
        "  dplyr::select(all_of(select_predictors))\n",
        "\n",
        "# Center and Scale the data\n",
        "mus14data_selected_csc <- data.frame(scale(mus14data_selected[,2:9]))\n",
        "mus14data_selected_csc$private <- factor(mus14data_selected$private,\n",
        "                                         levels = c(0, 1),\n",
        "                                         labels = c(\"class0\", \"class1\"))\n",
        "\n",
        "# Dataframe of specific k values for tuneGrid\n",
        "k_values <- data.frame(k = c(5, 10, 15, 20, 25, 30, 35, 40))\n",
        "\n",
        "# 10-fold CV KNN classifier\n",
        "set.seed(1234)\n",
        "\n",
        "knn_mus14data_selected_10cv <- suppressWarnings(train(x = mus14data_selected_csc[, 1:8],\n",
        "                                                      y = mus14data_selected_csc$private,\n",
        "                                                      method = \"knn\",\n",
        "                                                      trControl = trainControl(method = \"cv\",\n",
        "                                                                               number = 10),\n",
        "                                                      tuneGrid = k_values))\n",
        "\n",
        "knn_mus14data_selected_10cv"
      ],
      "metadata": {
        "colab": {
          "base_uri": "https://localhost:8080/",
          "height": 553
        },
        "id": "CTcP-loMjoE1",
        "outputId": "6576a8df-2bd7-420c-cbaf-b85ed1d65d3b"
      },
      "execution_count": 68,
      "outputs": [
        {
          "output_type": "stream",
          "name": "stderr",
          "text": [
            "\u001b[1mRows: \u001b[22m\u001b[34m3206\u001b[39m \u001b[1mColumns: \u001b[22m\u001b[34m35\u001b[39m\n",
            "\u001b[36m──\u001b[39m \u001b[1mColumn specification\u001b[22m \u001b[36m────────────────────────────────────────────────────────\u001b[39m\n",
            "\u001b[1mDelimiter:\u001b[22m \",\"\n",
            "\u001b[32mdbl\u001b[39m (35): personid, private, eprhi, age, hisp, white, female, educyear, marr...\n",
            "\n",
            "\u001b[36mℹ\u001b[39m Use `spec()` to retrieve the full column specification for this data.\n",
            "\u001b[36mℹ\u001b[39m Specify the column types or set `show_col_types = FALSE` to quiet this message.\n"
          ]
        },
        {
          "output_type": "display_data",
          "data": {
            "text/plain": [
              "k-Nearest Neighbors \n",
              "\n",
              "3206 samples\n",
              "   8 predictor\n",
              "   2 classes: 'class0', 'class1' \n",
              "\n",
              "No pre-processing\n",
              "Resampling: Cross-Validated (10 fold) \n",
              "Summary of sample sizes: 2885, 2886, 2884, 2885, 2885, 2886, ... \n",
              "Resampling results across tuning parameters:\n",
              "\n",
              "  k   Accuracy   Kappa    \n",
              "   5  0.6060448  0.1541163\n",
              "  10  0.6004422  0.1373768\n",
              "  15  0.6060497  0.1441581\n",
              "  20  0.6069823  0.1421461\n",
              "  25  0.6016854  0.1244215\n",
              "  30  0.6063797  0.1328576\n",
              "  35  0.6076248  0.1345077\n",
              "  40  0.6116669  0.1408423\n",
              "\n",
              "Accuracy was used to select the optimal model using the largest value.\n",
              "The final value used for the model was k = 40."
            ]
          },
          "metadata": {}
        }
      ]
    },
    {
      "cell_type": "code",
      "source": [
        "# Calculate the misclassification error (1 - Accuracy)\n",
        "knn_mus14data_selected_10cv_df <- as.data.frame(knn_mus14data_selected_10cv$results)\n",
        "knn_mus14data_selected_10cv_df$misclassification_error = 1 - knn_mus14data_selected_10cv_df$Accuracy\n",
        "knn_mus14data_selected_10cv_df"
      ],
      "metadata": {
        "colab": {
          "base_uri": "https://localhost:8080/",
          "height": 349
        },
        "id": "A5Rto2C078OX",
        "outputId": "90acc751-405a-42e8-a2fa-cc9782f324e7"
      },
      "execution_count": 69,
      "outputs": [
        {
          "output_type": "display_data",
          "data": {
            "text/html": [
              "<table class=\"dataframe\">\n",
              "<caption>A data.frame: 8 × 6</caption>\n",
              "<thead>\n",
              "\t<tr><th></th><th scope=col>k</th><th scope=col>Accuracy</th><th scope=col>Kappa</th><th scope=col>AccuracySD</th><th scope=col>KappaSD</th><th scope=col>misclassification_error</th></tr>\n",
              "\t<tr><th></th><th scope=col>&lt;dbl&gt;</th><th scope=col>&lt;dbl&gt;</th><th scope=col>&lt;dbl&gt;</th><th scope=col>&lt;dbl&gt;</th><th scope=col>&lt;dbl&gt;</th><th scope=col>&lt;dbl&gt;</th></tr>\n",
              "</thead>\n",
              "<tbody>\n",
              "\t<tr><th scope=row>1</th><td> 5</td><td>0.6060448</td><td>0.1541163</td><td>0.02134927</td><td>0.04805439</td><td>0.3939552</td></tr>\n",
              "\t<tr><th scope=row>2</th><td>10</td><td>0.6004422</td><td>0.1373768</td><td>0.03151431</td><td>0.07019562</td><td>0.3995578</td></tr>\n",
              "\t<tr><th scope=row>3</th><td>15</td><td>0.6060497</td><td>0.1441581</td><td>0.01873625</td><td>0.04080273</td><td>0.3939503</td></tr>\n",
              "\t<tr><th scope=row>4</th><td>20</td><td>0.6069823</td><td>0.1421461</td><td>0.02645300</td><td>0.05755657</td><td>0.3930177</td></tr>\n",
              "\t<tr><th scope=row>5</th><td>25</td><td>0.6016854</td><td>0.1244215</td><td>0.02682351</td><td>0.06027985</td><td>0.3983146</td></tr>\n",
              "\t<tr><th scope=row>6</th><td>30</td><td>0.6063797</td><td>0.1328576</td><td>0.02943817</td><td>0.06023496</td><td>0.3936203</td></tr>\n",
              "\t<tr><th scope=row>7</th><td>35</td><td>0.6076248</td><td>0.1345077</td><td>0.02611759</td><td>0.05760120</td><td>0.3923752</td></tr>\n",
              "\t<tr><th scope=row>8</th><td>40</td><td>0.6116669</td><td>0.1408423</td><td>0.01613993</td><td>0.03639981</td><td>0.3883331</td></tr>\n",
              "</tbody>\n",
              "</table>\n"
            ],
            "text/markdown": "\nA data.frame: 8 × 6\n\n| <!--/--> | k &lt;dbl&gt; | Accuracy &lt;dbl&gt; | Kappa &lt;dbl&gt; | AccuracySD &lt;dbl&gt; | KappaSD &lt;dbl&gt; | misclassification_error &lt;dbl&gt; |\n|---|---|---|---|---|---|---|\n| 1 |  5 | 0.6060448 | 0.1541163 | 0.02134927 | 0.04805439 | 0.3939552 |\n| 2 | 10 | 0.6004422 | 0.1373768 | 0.03151431 | 0.07019562 | 0.3995578 |\n| 3 | 15 | 0.6060497 | 0.1441581 | 0.01873625 | 0.04080273 | 0.3939503 |\n| 4 | 20 | 0.6069823 | 0.1421461 | 0.02645300 | 0.05755657 | 0.3930177 |\n| 5 | 25 | 0.6016854 | 0.1244215 | 0.02682351 | 0.06027985 | 0.3983146 |\n| 6 | 30 | 0.6063797 | 0.1328576 | 0.02943817 | 0.06023496 | 0.3936203 |\n| 7 | 35 | 0.6076248 | 0.1345077 | 0.02611759 | 0.05760120 | 0.3923752 |\n| 8 | 40 | 0.6116669 | 0.1408423 | 0.01613993 | 0.03639981 | 0.3883331 |\n\n",
            "text/latex": "A data.frame: 8 × 6\n\\begin{tabular}{r|llllll}\n  & k & Accuracy & Kappa & AccuracySD & KappaSD & misclassification\\_error\\\\\n  & <dbl> & <dbl> & <dbl> & <dbl> & <dbl> & <dbl>\\\\\n\\hline\n\t1 &  5 & 0.6060448 & 0.1541163 & 0.02134927 & 0.04805439 & 0.3939552\\\\\n\t2 & 10 & 0.6004422 & 0.1373768 & 0.03151431 & 0.07019562 & 0.3995578\\\\\n\t3 & 15 & 0.6060497 & 0.1441581 & 0.01873625 & 0.04080273 & 0.3939503\\\\\n\t4 & 20 & 0.6069823 & 0.1421461 & 0.02645300 & 0.05755657 & 0.3930177\\\\\n\t5 & 25 & 0.6016854 & 0.1244215 & 0.02682351 & 0.06027985 & 0.3983146\\\\\n\t6 & 30 & 0.6063797 & 0.1328576 & 0.02943817 & 0.06023496 & 0.3936203\\\\\n\t7 & 35 & 0.6076248 & 0.1345077 & 0.02611759 & 0.05760120 & 0.3923752\\\\\n\t8 & 40 & 0.6116669 & 0.1408423 & 0.01613993 & 0.03639981 & 0.3883331\\\\\n\\end{tabular}\n",
            "text/plain": [
              "  k  Accuracy  Kappa     AccuracySD KappaSD    misclassification_error\n",
              "1  5 0.6060448 0.1541163 0.02134927 0.04805439 0.3939552              \n",
              "2 10 0.6004422 0.1373768 0.03151431 0.07019562 0.3995578              \n",
              "3 15 0.6060497 0.1441581 0.01873625 0.04080273 0.3939503              \n",
              "4 20 0.6069823 0.1421461 0.02645300 0.05755657 0.3930177              \n",
              "5 25 0.6016854 0.1244215 0.02682351 0.06027985 0.3983146              \n",
              "6 30 0.6063797 0.1328576 0.02943817 0.06023496 0.3936203              \n",
              "7 35 0.6076248 0.1345077 0.02611759 0.05760120 0.3923752              \n",
              "8 40 0.6116669 0.1408423 0.01613993 0.03639981 0.3883331              "
            ]
          },
          "metadata": {}
        }
      ]
    },
    {
      "cell_type": "markdown",
      "source": [
        "The optimal k based on misclassification error from the results table is k=40, where it has the smallest misclassification error of 0.388."
      ],
      "metadata": {
        "id": "gB4qc4-RLbpF"
      }
    },
    {
      "cell_type": "markdown",
      "source": [
        "### (h)\n",
        " (10 pts.) Using the complete data set with all 3206 observations, fit LDA and QDA classifiers using all\n",
        "8 predictors. Compute the 10-fold CV misclassification error for each classifier. For these data, why\n",
        "might one argue that that LDA and QDA methods are inappropriate?"
      ],
      "metadata": {
        "id": "UcpvcWVRMBup"
      }
    },
    {
      "cell_type": "code",
      "source": [
        "# 10-fold CV LDA classifier\n",
        "set.seed(1234)\n",
        "\n",
        "lda_mus14data_selected_10cv <- suppressWarnings(train(x = mus14data_selected_csc[, 1:8],\n",
        "                                                      y = mus14data_selected_csc$private,\n",
        "                                                      method = \"lda\",\n",
        "                                                      trControl = trainControl(method = \"cv\",\n",
        "                                                                               number = 10)))\n",
        "\n",
        "lda_mus14data_selected_10cv"
      ],
      "metadata": {
        "colab": {
          "base_uri": "https://localhost:8080/",
          "height": 249
        },
        "id": "PP9f9ikrLlAx",
        "outputId": "804a33e5-902d-4685-941b-c4ddb7ad16ca"
      },
      "execution_count": 70,
      "outputs": [
        {
          "output_type": "display_data",
          "data": {
            "text/plain": [
              "Linear Discriminant Analysis \n",
              "\n",
              "3206 samples\n",
              "   8 predictor\n",
              "   2 classes: 'class0', 'class1' \n",
              "\n",
              "No pre-processing\n",
              "Resampling: Cross-Validated (10 fold) \n",
              "Summary of sample sizes: 2885, 2886, 2884, 2885, 2885, 2886, ... \n",
              "Resampling results:\n",
              "\n",
              "  Accuracy   Kappa    \n",
              "  0.6207138  0.1210944\n"
            ]
          },
          "metadata": {}
        }
      ]
    },
    {
      "cell_type": "code",
      "source": [
        "# 10-fold CV QDA classifier\n",
        "set.seed(1234)\n",
        "\n",
        "qda_mus14data_selected_10cv <- suppressWarnings(train(x = mus14data_selected_csc[, 1:8],\n",
        "                                                      y = mus14data_selected_csc$private,\n",
        "                                                      method = \"qda\",\n",
        "                                                      trControl = trainControl(method = \"cv\",\n",
        "                                                                               number = 10)))\n",
        "\n",
        "qda_mus14data_selected_10cv"
      ],
      "metadata": {
        "colab": {
          "base_uri": "https://localhost:8080/",
          "height": 249
        },
        "id": "0Jk2yOFDMVYm",
        "outputId": "1c62641a-8728-4922-d294-66ee7f54ac08"
      },
      "execution_count": 71,
      "outputs": [
        {
          "output_type": "display_data",
          "data": {
            "text/plain": [
              "Quadratic Discriminant Analysis \n",
              "\n",
              "3206 samples\n",
              "   8 predictor\n",
              "   2 classes: 'class0', 'class1' \n",
              "\n",
              "No pre-processing\n",
              "Resampling: Cross-Validated (10 fold) \n",
              "Summary of sample sizes: 2885, 2886, 2884, 2885, 2885, 2886, ... \n",
              "Resampling results:\n",
              "\n",
              "  Accuracy   Kappa   \n",
              "  0.6010759  0.221991\n"
            ]
          },
          "metadata": {}
        }
      ]
    },
    {
      "cell_type": "code",
      "source": [
        "# Misclassification Error Results\n",
        "lda_misclassification = 1 - lda_mus14data_selected_10cv$results$Accuracy\n",
        "qda_misclassification = 1 - qda_mus14data_selected_10cv$results$Accuracy\n",
        "\n",
        "print(paste(\"The lda_misclassification error is: \", lda_misclassification))\n",
        "print(paste(\"The qda_misclassification error is: \", qda_misclassification))"
      ],
      "metadata": {
        "colab": {
          "base_uri": "https://localhost:8080/"
        },
        "id": "djsFFfmqPZjb",
        "outputId": "a7944149-fc0a-41ac-ae5b-825b429bd915"
      },
      "execution_count": 72,
      "outputs": [
        {
          "output_type": "stream",
          "name": "stdout",
          "text": [
            "[1] \"The lda_misclassification error is:  0.379286185929065\"\n",
            "[1] \"The qda_misclassification error is:  0.398924078723322\"\n"
          ]
        }
      ]
    },
    {
      "cell_type": "markdown",
      "source": [
        "LDA and QDA methods may be inappropriate for this dataset due to there being a lot of catagorical variables, since LDA and QDA handles normally distributed variables better. As seen in the KNN modeling, a k=40 performed the best, this suggests the data points may not be clearly separated, thus needing more neighbors to classify. LDA and QDA would struggle more due to its simplicity and inflexibility compared to other modeling methods."
      ],
      "metadata": {
        "id": "71xQu5PrPWGr"
      }
    },
    {
      "cell_type": "markdown",
      "source": [
        "### (i)\n",
        "(5 pts.) Using the complete data set with all 3206 observations, fit a naive Bayes classifier (using\n",
        "all 8 predictors). Assume that the numerical variables are normally distributed. Use method\n",
        "= \"naive_bayes\" and tuneGrid = data.frame(laplace = 0, usekernel = FALSE, adjust =\n",
        "FALSE) in the train() function. Also, if you have not already, be sure to convert the binary 0/1\n",
        "predictors to factor variables, otherwise these predictors will be treated as numerical and therefore will be assumed to be normally distributed. Compute the 10-fold CV misclassification error for this\n",
        "classifier."
      ],
      "metadata": {
        "id": "1BJMoeMnWV3S"
      }
    },
    {
      "cell_type": "code",
      "source": [
        "# Reload the data\n",
        "mus14data <- read_csv(\"/content/mus14data.csv\")\n",
        "\n",
        "# Trim data down to using specific predictors\n",
        "select_predictors <- c(\"private\", \"retire\", \"age\", \"hstatusg\", \"hhincome\", \"educyear\", \"married\", \"hisp\", \"chronic\")\n",
        "mus14data_selected <- mus14data %>%\n",
        "  dplyr::select(all_of(select_predictors))\n",
        "\n",
        "# Factor the catagorical variables\n",
        "mus14data_selected$retire <- factor(mus14data_selected$retire)\n",
        "mus14data_selected$hstatusg <- factor(mus14data_selected$hstatusg)\n",
        "mus14data_selected$married <- factor(mus14data_selected$married)\n",
        "mus14data_selected$hisp <- factor(mus14data_selected$hisp)\n",
        "mus14data_selected$private <- factor(mus14data_selected$private)\n",
        "\n",
        "# Set up the Naive Bayes tuning parameters\n",
        "nb_tunegrid <- data.frame(laplace = 0, usekernel = FALSE, adjust = FALSE)\n",
        "\n",
        "# Set seed for reproducibility\n",
        "set.seed(1234)\n",
        "\n",
        "# Train Naive Bayes model using 10-fold cross-validation\n",
        "nb_mus14data_selected_10cv <- suppressWarnings(train(x = mus14data_selected[, 1:8],\n",
        "                                                     y = mus14data_selected$private,\n",
        "                                                     method = \"naive_bayes\",\n",
        "                                                     trControl = trainControl(method = \"cv\", number = 10),\n",
        "                                                     tuneGrid = nb_tunegrid))\n",
        "\n",
        "nb_mus14data_selected_10cv"
      ],
      "metadata": {
        "colab": {
          "base_uri": "https://localhost:8080/",
          "height": 481
        },
        "id": "jQgXQiAtPAAc",
        "outputId": "33d84623-5c98-4be2-cce7-2a586b67c80f"
      },
      "execution_count": 73,
      "outputs": [
        {
          "output_type": "stream",
          "name": "stderr",
          "text": [
            "\u001b[1mRows: \u001b[22m\u001b[34m3206\u001b[39m \u001b[1mColumns: \u001b[22m\u001b[34m35\u001b[39m\n",
            "\u001b[36m──\u001b[39m \u001b[1mColumn specification\u001b[22m \u001b[36m────────────────────────────────────────────────────────\u001b[39m\n",
            "\u001b[1mDelimiter:\u001b[22m \",\"\n",
            "\u001b[32mdbl\u001b[39m (35): personid, private, eprhi, age, hisp, white, female, educyear, marr...\n",
            "\n",
            "\u001b[36mℹ\u001b[39m Use `spec()` to retrieve the full column specification for this data.\n",
            "\u001b[36mℹ\u001b[39m Specify the column types or set `show_col_types = FALSE` to quiet this message.\n"
          ]
        },
        {
          "output_type": "display_data",
          "data": {
            "text/plain": [
              "Naive Bayes \n",
              "\n",
              "3206 samples\n",
              "   8 predictor\n",
              "   2 classes: '0', '1' \n",
              "\n",
              "No pre-processing\n",
              "Resampling: Cross-Validated (10 fold) \n",
              "Summary of sample sizes: 2885, 2886, 2884, 2885, 2885, 2886, ... \n",
              "Resampling results:\n",
              "\n",
              "  Accuracy   Kappa    \n",
              "  0.9984404  0.9967171\n",
              "\n",
              "Tuning parameter 'laplace' was held constant at a value of 0\n",
              "Tuning\n",
              " parameter 'usekernel' was held constant at a value of FALSE\n",
              "Tuning\n",
              " parameter 'adjust' was held constant at a value of FALSE"
            ]
          },
          "metadata": {}
        }
      ]
    },
    {
      "cell_type": "code",
      "source": [
        "# Misclassification Error Results\n",
        "bayes_misclassification = 1 - nb_mus14data_selected_10cv$results$Accuracy\n",
        "\n",
        "print(paste(\"The bayes misclassification error is: \", bayes_misclassification))"
      ],
      "metadata": {
        "colab": {
          "base_uri": "https://localhost:8080/"
        },
        "id": "a2kZMdlBYyva",
        "outputId": "d6ebeba2-4bc6-4220-9304-260affbaca2a"
      },
      "execution_count": 74,
      "outputs": [
        {
          "output_type": "stream",
          "name": "stdout",
          "text": [
            "[1] \"The bayes misclassification error is:  0.00155957943925233\"\n"
          ]
        }
      ]
    },
    {
      "cell_type": "markdown",
      "source": [
        "### (j)\n",
        "(2 pts.) Considering all of the classifiers from parts (e) - (h), which is best with respect to 10-fold CV\n",
        "misclassification error?"
      ],
      "metadata": {
        "id": "estEZ2hScgeA"
      }
    },
    {
      "cell_type": "code",
      "source": [
        "# (e) Logistic Regression 10-CV\n",
        "print(paste(\"Logistic Classifier 10-CV misclassification error is: \", 1 - lr_mus14data_selected_10cv$results$Accuracy))\n",
        "print(paste(\"Logistic Classifier @ 0.4 threshold 10-CV misclassification error is: \", 1 - lr_mus14data_selected_10cv_ths[lr_mus14data_selected_10cv_ths$prob_threshold == 0.4, ]$Accuracy))\n",
        "print(paste(\"KNN Classifer @ k=40 10-CV misclassification error is: \", 1 - knn_mus14data_selected_10cv$results$Accuracy[8]))\n",
        "print(paste(\"LDA Classifier 10-CV misclassification error is: \", 1 - lda_mus14data_selected_10cv$results$Accuracy))\n",
        "print(paste(\"QDA Classifier 10-CV misclassification error is: \", 1 - qda_mus14data_selected_10cv$results$Accuracy))"
      ],
      "metadata": {
        "colab": {
          "base_uri": "https://localhost:8080/"
        },
        "id": "ScX334hAfhwv",
        "outputId": "55ff9ecd-bfc8-4aef-cf78-95da99a83819"
      },
      "execution_count": 75,
      "outputs": [
        {
          "output_type": "stream",
          "name": "stdout",
          "text": [
            "[1] \"Logistic Classifier 10-CV misclassification error is:  0.378042982430681\"\n",
            "[1] \"Logistic Classifier @ 0.4 threshold 10-CV misclassification error is:  0.377728553530311\"\n",
            "[1] \"KNN Classifer @ k=40 10-CV misclassification error is:  0.388333109605077\"\n",
            "[1] \"LDA Classifier 10-CV misclassification error is:  0.379286185929065\"\n",
            "[1] \"QDA Classifier 10-CV misclassification error is:  0.398924078723322\"\n"
          ]
        }
      ]
    },
    {
      "cell_type": "markdown",
      "source": [
        "The 10-fold CV model with the lowest misclassification error is Logistic Classifier @ 0.4 threshold 10-CV at a misclassification error value of 0.3777."
      ],
      "metadata": {
        "id": "WkQ9Kf4UHfGV"
      }
    }
  ]
}