{
  "nbformat": 4,
  "nbformat_minor": 0,
  "metadata": {
    "colab": {
      "provenance": [],
      "authorship_tag": "ABX9TyPck69k/a2gHrAiJiacPIas",
      "include_colab_link": true
    },
    "kernelspec": {
      "name": "ir",
      "display_name": "R"
    },
    "language_info": {
      "name": "R"
    }
  },
  "cells": [
    {
      "cell_type": "markdown",
      "metadata": {
        "id": "view-in-github",
        "colab_type": "text"
      },
      "source": [
        "<a href=\"https://colab.research.google.com/github/ehsung/PUBH6886/blob/main/PUBH6886_RLabs10.ipynb\" target=\"_parent\"><img src=\"https://colab.research.google.com/assets/colab-badge.svg\" alt=\"Open In Colab\"/></a>"
      ]
    },
    {
      "cell_type": "markdown",
      "source": [
        "# PUBH 6886: R Lab 010\n",
        "\n",
        "## Edward Sung\n",
        "\n",
        "## 11/12/24"
      ],
      "metadata": {
        "id": "bsVgxUDIhfiK"
      }
    },
    {
      "cell_type": "markdown",
      "source": [
        "# Code from Lecture 10"
      ],
      "metadata": {
        "id": "R5w4JrGYhjiy"
      }
    },
    {
      "cell_type": "markdown",
      "source": [
        ">[Code from Lecture 10](#updateTitle=true&folderId=1r-g8wJfeKaGd9a8yLWY3NoKaegmzbrzB&scrollTo=R5w4JrGYhjiy)\n",
        "\n",
        ">>[Regression Tree Example in R](#updateTitle=true&folderId=1r-g8wJfeKaGd9a8yLWY3NoKaegmzbrzB&scrollTo=1WeOc68LlPvf)\n",
        "\n",
        ">>[Classification Tree Example in R](#updateTitle=true&folderId=1r-g8wJfeKaGd9a8yLWY3NoKaegmzbrzB&scrollTo=HOa5n0_ClbP6)\n",
        "\n",
        ">>[Bagging with Trees Example](#updateTitle=true&folderId=1r-g8wJfeKaGd9a8yLWY3NoKaegmzbrzB&scrollTo=h0WGmseAmWpR)\n",
        "\n",
        ">>[Random Forest with Regression Trees Example](#updateTitle=true&folderId=1r-g8wJfeKaGd9a8yLWY3NoKaegmzbrzB&scrollTo=snLqym9HnHHl)\n",
        "\n"
      ],
      "metadata": {
        "colab_type": "toc",
        "id": "W7vyKNurnm4J"
      }
    },
    {
      "cell_type": "code",
      "source": [
        "# Install Libraries\n",
        "install.packages(\"caret\")\n",
        "install.packages(\"rpart\")\n",
        "install.packages(\"rpart.plot\")\n",
        "install.packages(\"randomForest\")"
      ],
      "metadata": {
        "colab": {
          "base_uri": "https://localhost:8080/"
        },
        "id": "Jx9JOZOYiP47",
        "outputId": "178b1b67-871f-473d-f15a-029fec4c625d"
      },
      "execution_count": 49,
      "outputs": [
        {
          "output_type": "stream",
          "name": "stderr",
          "text": [
            "Installing package into ‘/usr/local/lib/R/site-library’\n",
            "(as ‘lib’ is unspecified)\n",
            "\n",
            "Installing package into ‘/usr/local/lib/R/site-library’\n",
            "(as ‘lib’ is unspecified)\n",
            "\n",
            "Installing package into ‘/usr/local/lib/R/site-library’\n",
            "(as ‘lib’ is unspecified)\n",
            "\n",
            "Installing package into ‘/usr/local/lib/R/site-library’\n",
            "(as ‘lib’ is unspecified)\n",
            "\n"
          ]
        }
      ]
    },
    {
      "cell_type": "code",
      "source": [
        "# Libraries\n",
        "library(dplyr)\n",
        "library(caret)\n",
        "library(rpart)\n",
        "library(rpart.plot)\n",
        "library(randomForest)"
      ],
      "metadata": {
        "id": "MHD4dC6HiL8y"
      },
      "execution_count": 50,
      "outputs": []
    },
    {
      "cell_type": "markdown",
      "source": [
        "## Regression Tree Example in R"
      ],
      "metadata": {
        "id": "1WeOc68LlPvf"
      }
    },
    {
      "cell_type": "code",
      "execution_count": 51,
      "metadata": {
        "colab": {
          "base_uri": "https://localhost:8080/"
        },
        "id": "JjRYMyG4hdCe",
        "outputId": "2c8bf360-22dc-4da1-d416-ec3466a23a30"
      },
      "outputs": [
        {
          "output_type": "stream",
          "name": "stderr",
          "text": [
            "\u001b[1mRows: \u001b[22m\u001b[34m97\u001b[39m \u001b[1mColumns: \u001b[22m\u001b[34m10\u001b[39m\n",
            "\u001b[36m──\u001b[39m \u001b[1mColumn specification\u001b[22m \u001b[36m────────────────────────────────────────────────────────\u001b[39m\n",
            "\u001b[1mDelimiter:\u001b[22m \",\"\n",
            "\u001b[32mdbl\u001b[39m (9): lcavol, lweight, age, lbph, svi, lcp, gleason, pgg45, lpsa\n",
            "\u001b[33mlgl\u001b[39m (1): train\n",
            "\n",
            "\u001b[36mℹ\u001b[39m Use `spec()` to retrieve the full column specification for this data.\n",
            "\u001b[36mℹ\u001b[39m Specify the column types or set `show_col_types = FALSE` to quiet this message.\n"
          ]
        }
      ],
      "source": [
        "# load the prostate data\n",
        "prostate_data <- read_csv(\"/content/prostate_data(3).csv\")\n",
        "\n",
        "# training data set\n",
        "prostate_data_train <- prostate_data[prostate_data$train, ]\n",
        "\n",
        "# testing data set\n",
        "prostate_data_test <- prostate_data[!prostate_data$train, ]"
      ]
    },
    {
      "cell_type": "code",
      "source": [
        "# fit a regression tree via recursive partitioning for lpsa on all eight predictors using training data\n",
        "set.seed(1234)\n",
        "\n",
        "rtree_lpsa_01 <- rpart(lpsa ~ lcavol + lweight + age + lbph + svi + lcp + gleason + pgg45,\n",
        "                       data = prostate_data_train, method = \"anova\",\n",
        "                       control = rpart.control(minsplit = 20, minbucket = 5, cp = 0, xval = 10))"
      ],
      "metadata": {
        "id": "qzLWMOdYj6bj"
      },
      "execution_count": 52,
      "outputs": []
    },
    {
      "cell_type": "code",
      "source": [
        "rtree_lpsa_01"
      ],
      "metadata": {
        "colab": {
          "base_uri": "https://localhost:8080/",
          "height": 303
        },
        "id": "P3UqTxo4j_eN",
        "outputId": "08aad962-005e-47aa-e429-4b7d123571dd"
      },
      "execution_count": 53,
      "outputs": [
        {
          "output_type": "display_data",
          "data": {
            "text/plain": [
              "n= 67 \n",
              "\n",
              "node), split, n, deviance, yval\n",
              "      * denotes terminal node\n",
              "\n",
              " 1) root 67 96.281450 2.4523450  \n",
              "   2) lcavol< 1.050767 25 24.815010 1.5219940  \n",
              "     4) lcavol< -0.4785564 8  5.374086 0.5459795 *\n",
              "     5) lcavol>=-0.4785564 17  8.233809 1.9812950 *\n",
              "   3) lcavol>=1.050767 42 36.947370 3.0061250  \n",
              "     6) lcavol< 2.791651 34 21.288680 2.7485950  \n",
              "      12) lweight< 3.462546 12  7.787709 2.2215290 *\n",
              "      13) lweight>=3.462546 22  8.349072 3.0360850  \n",
              "        26) lbph< -0.5537256 6  2.395393 2.6052980 *\n",
              "        27) lbph>=-0.5537256 16  4.422661 3.1976310 *\n",
              "     7) lcavol>=2.791651 8  3.820225 4.1006300 *"
            ]
          },
          "metadata": {}
        }
      ]
    },
    {
      "cell_type": "code",
      "source": [
        "# rpart automatically determines the alpha\n",
        "# (cost complexity parameter) values\n",
        "# and the corresponding CV error rate (MSE)\n",
        "printcp(rtree_lpsa_01)"
      ],
      "metadata": {
        "colab": {
          "base_uri": "https://localhost:8080/"
        },
        "id": "6WfRJV7wkcwN",
        "outputId": "5120e617-5193-4b06-bc96-664980f1c359"
      },
      "execution_count": 54,
      "outputs": [
        {
          "output_type": "stream",
          "name": "stdout",
          "text": [
            "\n",
            "Regression tree:\n",
            "rpart(formula = lpsa ~ lcavol + lweight + age + lbph + svi + \n",
            "    lcp + gleason + pgg45, data = prostate_data_train, method = \"anova\", \n",
            "    control = rpart.control(minsplit = 20, minbucket = 5, cp = 0, \n",
            "        xval = 10))\n",
            "\n",
            "Variables actually used in tree construction:\n",
            "[1] lbph    lcavol  lweight\n",
            "\n",
            "Root node error: 96.281/67 = 1.437\n",
            "\n",
            "n= 67 \n",
            "\n",
            "        CP nsplit rel error  xerror     xstd\n",
            "1 0.358523      0   1.00000 1.04735 0.181313\n",
            "2 0.122957      1   0.64148 1.08708 0.143706\n",
            "3 0.116400      2   0.51852 0.79781 0.110082\n",
            "4 0.053509      3   0.40212 0.72350 0.102674\n",
            "5 0.015901      4   0.34861 0.67834 0.091668\n",
            "6 0.000000      5   0.33271 0.66974 0.091741\n"
          ]
        }
      ]
    },
    {
      "cell_type": "code",
      "source": [
        "# plot CV curve\n",
        "plotcp(rtree_lpsa_01)"
      ],
      "metadata": {
        "colab": {
          "base_uri": "https://localhost:8080/",
          "height": 437
        },
        "id": "-MUPWS8IkgIO",
        "outputId": "899de159-86f6-45db-f9b8-d916a89ebc80"
      },
      "execution_count": 55,
      "outputs": [
        {
          "output_type": "display_data",
          "data": {
            "text/plain": [
              "plot without title"
            ],
            "image/png": "[encoded data removed]"
          },
          "metadata": {
            "image/png": {
              "width": 420,
              "height": 420
            }
          }
        }
      ]
    },
    {
      "cell_type": "code",
      "source": [
        "rtree_lpsa_01_sel <- rpart(lpsa ~ lcavol + lweight + age +\n",
        "                           lbph + svi + lcp + gleason + pgg45,\n",
        "                         data = prostate_data_train, method = \"anova\",\n",
        "                         control = rpart.control(minsplit = 20, minbucket = 5,\n",
        "                                                 cp = 0.053509, xval = 10))\n",
        "\n",
        "# plot the regression tree for selected alpha (cp) value\n",
        "rpart.plot(rtree_lpsa_01_sel)"
      ],
      "metadata": {
        "colab": {
          "base_uri": "https://localhost:8080/",
          "height": 437
        },
        "id": "VUmKbqYekjEr",
        "outputId": "dc8b3677-6e5e-421c-e5a7-4b74f8ac9794"
      },
      "execution_count": 56,
      "outputs": [
        {
          "output_type": "display_data",
          "data": {
            "text/plain": [
              "plot without title"
            ],
            "image/png": "[encoded data removed]"
          },
          "metadata": {
            "image/png": {
              "width": 420,
              "height": 420
            }
          }
        }
      ]
    },
    {
      "cell_type": "code",
      "source": [
        "pred_rtree_lpsa_01_sel <- predict(rtree_lpsa_01_sel, newdata = prostate_data_test)\n",
        "pred_rtree_lpsa_01_sel"
      ],
      "metadata": {
        "colab": {
          "base_uri": "https://localhost:8080/",
          "height": 104
        },
        "id": "V1s6rMKakpa1",
        "outputId": "06443872-6175-4971-c329-fe0a6f62e1bc"
      },
      "execution_count": 57,
      "outputs": [
        {
          "output_type": "display_data",
          "data": {
            "text/html": [
              "<style>\n",
              ".dl-inline {width: auto; margin:0; padding: 0}\n",
              ".dl-inline>dt, .dl-inline>dd {float: none; width: auto; display: inline-block}\n",
              ".dl-inline>dt::after {content: \":\\0020\"; padding-right: .5ex}\n",
              ".dl-inline>dt:not(:first-of-type) {padding-left: .5ex}\n",
              "</style><dl class=dl-inline><dt>1</dt><dd>1.98129530588235</dd><dt>2</dt><dd>0.5459795</dd><dt>3</dt><dd>1.98129530588235</dd><dt>4</dt><dd>2.74859489705882</dd><dt>5</dt><dd>2.74859489705882</dd><dt>6</dt><dd>1.98129530588235</dd><dt>7</dt><dd>2.74859489705882</dd><dt>8</dt><dd>1.98129530588235</dd><dt>9</dt><dd>1.98129530588235</dd><dt>10</dt><dd>1.98129530588235</dd><dt>11</dt><dd>2.74859489705882</dd><dt>12</dt><dd>2.74859489705882</dd><dt>13</dt><dd>2.74859489705882</dd><dt>14</dt><dd>2.74859489705882</dd><dt>15</dt><dd>2.74859489705882</dd><dt>16</dt><dd>2.74859489705882</dd><dt>17</dt><dd>1.98129530588235</dd><dt>18</dt><dd>2.74859489705882</dd><dt>19</dt><dd>4.10062975</dd><dt>20</dt><dd>1.98129530588235</dd><dt>21</dt><dd>2.74859489705882</dd><dt>22</dt><dd>2.74859489705882</dd><dt>23</dt><dd>2.74859489705882</dd><dt>24</dt><dd>2.74859489705882</dd><dt>25</dt><dd>2.74859489705882</dd><dt>26</dt><dd>2.74859489705882</dd><dt>27</dt><dd>2.74859489705882</dd><dt>28</dt><dd>2.74859489705882</dd><dt>29</dt><dd>4.10062975</dd><dt>30</dt><dd>4.10062975</dd></dl>\n"
            ],
            "text/markdown": "1\n:   1.981295305882352\n:   0.54597953\n:   1.981295305882354\n:   2.748594897058825\n:   2.748594897058826\n:   1.981295305882357\n:   2.748594897058828\n:   1.981295305882359\n:   1.9812953058823510\n:   1.9812953058823511\n:   2.7485948970588212\n:   2.7485948970588213\n:   2.7485948970588214\n:   2.7485948970588215\n:   2.7485948970588216\n:   2.7485948970588217\n:   1.9812953058823518\n:   2.7485948970588219\n:   4.1006297520\n:   1.9812953058823521\n:   2.7485948970588222\n:   2.7485948970588223\n:   2.7485948970588224\n:   2.7485948970588225\n:   2.7485948970588226\n:   2.7485948970588227\n:   2.7485948970588228\n:   2.7485948970588229\n:   4.1006297530\n:   4.10062975\n\n",
            "text/latex": "\\begin{description*}\n\\item[1] 1.98129530588235\n\\item[2] 0.5459795\n\\item[3] 1.98129530588235\n\\item[4] 2.74859489705882\n\\item[5] 2.74859489705882\n\\item[6] 1.98129530588235\n\\item[7] 2.74859489705882\n\\item[8] 1.98129530588235\n\\item[9] 1.98129530588235\n\\item[10] 1.98129530588235\n\\item[11] 2.74859489705882\n\\item[12] 2.74859489705882\n\\item[13] 2.74859489705882\n\\item[14] 2.74859489705882\n\\item[15] 2.74859489705882\n\\item[16] 2.74859489705882\n\\item[17] 1.98129530588235\n\\item[18] 2.74859489705882\n\\item[19] 4.10062975\n\\item[20] 1.98129530588235\n\\item[21] 2.74859489705882\n\\item[22] 2.74859489705882\n\\item[23] 2.74859489705882\n\\item[24] 2.74859489705882\n\\item[25] 2.74859489705882\n\\item[26] 2.74859489705882\n\\item[27] 2.74859489705882\n\\item[28] 2.74859489705882\n\\item[29] 4.10062975\n\\item[30] 4.10062975\n\\end{description*}\n",
            "text/plain": [
              "        1         2         3         4         5         6         7         8 \n",
              "1.9812953 0.5459795 1.9812953 2.7485949 2.7485949 1.9812953 2.7485949 1.9812953 \n",
              "        9        10        11        12        13        14        15        16 \n",
              "1.9812953 1.9812953 2.7485949 2.7485949 2.7485949 2.7485949 2.7485949 2.7485949 \n",
              "       17        18        19        20        21        22        23        24 \n",
              "1.9812953 2.7485949 4.1006298 1.9812953 2.7485949 2.7485949 2.7485949 2.7485949 \n",
              "       25        26        27        28        29        30 \n",
              "2.7485949 2.7485949 2.7485949 2.7485949 4.1006298 4.1006298 "
            ]
          },
          "metadata": {}
        }
      ]
    },
    {
      "cell_type": "code",
      "source": [
        "# look at the alpha (cp) values from the fitted tree and set up values to check\n",
        "tg_regtr <- data.frame(cp = rtree_lpsa_01$cptable[,1])\n",
        "\n",
        "set.seed(1234)\n",
        "\n",
        "rtree_lpsa_10cv <- train(x = as.matrix(prostate_data_train[,1:8]), y = prostate_data_train$lpsa,\n",
        "                                       method = \"rpart\", control = rpart.control(minsplit = 20, minbucket = 5),\n",
        "                                       tuneGrid = tg_regtr, trControl = trainControl(method = \"cv\", number = 10, selectionFunction = \"oneSE\"))\n",
        "\n",
        "rtree_lpsa_10cv"
      ],
      "metadata": {
        "colab": {
          "base_uri": "https://localhost:8080/",
          "height": 410
        },
        "id": "PRAQPP0-k9_i",
        "outputId": "5e933403-9ea9-4f90-fa64-f1e3267bd4d5"
      },
      "execution_count": 58,
      "outputs": [
        {
          "output_type": "stream",
          "name": "stderr",
          "text": [
            "Warning message in nominalTrainWorkflow(x = x, y = y, wts = weights, info = trainInfo, :\n",
            "“There were missing values in resampled performance measures.”\n"
          ]
        },
        {
          "output_type": "display_data",
          "data": {
            "text/plain": [
              "CART \n",
              "\n",
              "67 samples\n",
              " 8 predictor\n",
              "\n",
              "No pre-processing\n",
              "Resampling: Cross-Validated (10 fold) \n",
              "Summary of sample sizes: 59, 61, 59, 60, 61, 62, ... \n",
              "Resampling results across tuning parameters:\n",
              "\n",
              "  cp          RMSE       Rsquared   MAE      \n",
              "  0.00000000  0.9689490  0.3888172  0.8384561\n",
              "  0.01590149  0.9689490  0.3888172  0.8384561\n",
              "  0.05350873  0.9873671  0.3833782  0.8550172\n",
              "  0.11639953  1.0406506  0.3182641  0.9104677\n",
              "  0.12295687  1.0621995  0.2901872  0.9222400\n",
              "  0.35852251  1.2040486  0.1684692  1.0278886\n",
              "\n",
              "RMSE was used to select the optimal model using  the one SE rule.\n",
              "The final value used for the model was cp = 0.1163995."
            ]
          },
          "metadata": {}
        }
      ]
    },
    {
      "cell_type": "markdown",
      "source": [
        "## Classification Tree Example in R"
      ],
      "metadata": {
        "id": "HOa5n0_ClbP6"
      }
    },
    {
      "cell_type": "code",
      "source": [
        "# data set for heart disease prediction models\n",
        "heart_data <- read_csv(\"/content/Heart(1).csv\")\n",
        "\n",
        "# convert ChestPain and Thal to factor variables\n",
        "heart_data$ChestPain <- factor(heart_data$ChestPain)\n",
        "heart_data$Thal <- factor(heart_data$Thal)\n",
        "\n",
        "# split into training and test sets\n",
        "set.seed(1234)\n",
        "\n",
        "heart_train_row <- sort(sample(1:303, size = 202))\n",
        "heart_test_row <- setdiff(1:303, heart_train_row)\n",
        "heart_data_train <- heart_data[heart_train_row,]\n",
        "heart_data_test <- heart_data[heart_test_row,]\n",
        "\n",
        "# remove subjects with missing data\n",
        "heart_data_train <- heart_data_train[complete.cases(heart_data_train),]\n",
        "heart_data_test <- heart_data_test[complete.cases(heart_data_test),]"
      ],
      "metadata": {
        "colab": {
          "base_uri": "https://localhost:8080/"
        },
        "id": "RqpswMcRlDB6",
        "outputId": "ab645ae1-e8e0-4bb4-9e63-6e82acf5561a"
      },
      "execution_count": 59,
      "outputs": [
        {
          "output_type": "stream",
          "name": "stderr",
          "text": [
            "\u001b[1mRows: \u001b[22m\u001b[34m303\u001b[39m \u001b[1mColumns: \u001b[22m\u001b[34m14\u001b[39m\n",
            "\u001b[36m──\u001b[39m \u001b[1mColumn specification\u001b[22m \u001b[36m────────────────────────────────────────────────────────\u001b[39m\n",
            "\u001b[1mDelimiter:\u001b[22m \",\"\n",
            "\u001b[31mchr\u001b[39m  (3): ChestPain, Thal, AHD\n",
            "\u001b[32mdbl\u001b[39m (11): Age, Sex, RestBP, Chol, Fbs, RestECG, MaxHR, ExAng, Oldpeak, Slope...\n",
            "\n",
            "\u001b[36mℹ\u001b[39m Use `spec()` to retrieve the full column specification for this data.\n",
            "\u001b[36mℹ\u001b[39m Specify the column types or set `show_col_types = FALSE` to quiet this message.\n"
          ]
        }
      ]
    },
    {
      "cell_type": "code",
      "source": [
        "#########################################################################################################\n",
        "# fit a classification tree via recursive partitioning for heart disease outcome using training data\n",
        "#########################################################################################################\n",
        "# note that default splitting crit based on gini\n",
        "set.seed(1234)\n",
        "\n",
        "ctree_heart_01 <- rpart(AHD ~ Age + Sex + ChestPain + RestBP + Chol + Fbs + RestECG +\n",
        "                              MaxHR + ExAng + Oldpeak + Slope + Ca + Thal,\n",
        "                        data = heart_data_train, method = \"class\", parms = list(split = \"gini\"),\n",
        "                        control = rpart.control(minsplit = 20, minbucket = 1), cp = 0)\n",
        "\n",
        "# get tuning grid for train function\n",
        "tg_clatr <- data.frame(cp = ctree_heart_01$cptable[,1])"
      ],
      "metadata": {
        "id": "woLIpwVVl3ys"
      },
      "execution_count": 60,
      "outputs": []
    },
    {
      "cell_type": "code",
      "source": [
        "# when training a classification tree using the train() function, make sure that\n",
        "# the response is a factor variable\n",
        "heart_data_train_X <- heart_data_train[,1:13]\n",
        "heart_data_train_Y <- factor(heart_data_train$AHD)\n",
        "\n",
        "set.seed(1234)\n",
        "\n",
        "ctree_heart_10cv <- train(x = heart_data_train_X, y = heart_data_train_Y,\n",
        "                          method = \"rpart\", parms = list(split = \"gini\"),\n",
        "                          control = rpart.control(minsplit = 20, minbucket = 1),\n",
        "                          tuneGrid = tg_clatr,\n",
        "                          trControl = trainControl(method = \"cv\", number = 10, selectionFunction = \"oneSE\"))\n",
        "\n",
        "ctree_heart_10cv"
      ],
      "metadata": {
        "colab": {
          "base_uri": "https://localhost:8080/",
          "height": 767
        },
        "id": "JNYqdxR0mCAc",
        "outputId": "87d4ce45-3d8b-4687-9922-ae85c88beab8"
      },
      "execution_count": 61,
      "outputs": [
        {
          "output_type": "stream",
          "name": "stderr",
          "text": [
            "Warning message:\n",
            "“Setting row names on a tibble is deprecated.”\n",
            "Warning message:\n",
            "“Setting row names on a tibble is deprecated.”\n",
            "Warning message:\n",
            "“Setting row names on a tibble is deprecated.”\n",
            "Warning message:\n",
            "“Setting row names on a tibble is deprecated.”\n",
            "Warning message:\n",
            "“Setting row names on a tibble is deprecated.”\n",
            "Warning message:\n",
            "“Setting row names on a tibble is deprecated.”\n",
            "Warning message:\n",
            "“Setting row names on a tibble is deprecated.”\n",
            "Warning message:\n",
            "“Setting row names on a tibble is deprecated.”\n",
            "Warning message:\n",
            "“Setting row names on a tibble is deprecated.”\n",
            "Warning message:\n",
            "“Setting row names on a tibble is deprecated.”\n",
            "Warning message:\n",
            "“Setting row names on a tibble is deprecated.”\n"
          ]
        },
        {
          "output_type": "display_data",
          "data": {
            "text/plain": [
              "CART \n",
              "\n",
              "198 samples\n",
              " 13 predictor\n",
              "  2 classes: 'No', 'Yes' \n",
              "\n",
              "No pre-processing\n",
              "Resampling: Cross-Validated (10 fold) \n",
              "Summary of sample sizes: 178, 179, 178, 177, 178, 179, ... \n",
              "Resampling results across tuning parameters:\n",
              "\n",
              "  cp          Accuracy   Kappa    \n",
              "  0.01000000  0.7438221  0.4922882\n",
              "  0.01075269  0.7438221  0.4922882\n",
              "  0.02150538  0.7543484  0.5129385\n",
              "  0.05913978  0.7330075  0.4651587\n",
              "  0.50537634  0.6443233  0.2611008\n",
              "\n",
              "Accuracy was used to select the optimal model using  the one SE rule.\n",
              "The final value used for the model was cp = 0.05913978."
            ]
          },
          "metadata": {}
        }
      ]
    },
    {
      "cell_type": "code",
      "source": [
        "# plot the selected classification tree\n",
        "rpart.plot(ctree_heart_10cv$finalModel)"
      ],
      "metadata": {
        "colab": {
          "base_uri": "https://localhost:8080/",
          "height": 437
        },
        "id": "UOVVfS4ZmGgj",
        "outputId": "1cd6b577-d766-439a-da6c-051a34d19c29"
      },
      "execution_count": 62,
      "outputs": [
        {
          "output_type": "display_data",
          "data": {
            "text/plain": [
              "plot without title"
            ],
            "image/png": "[encoded data removed]"
          },
          "metadata": {
            "image/png": {
              "width": 420,
              "height": 420
            }
          }
        }
      ]
    },
    {
      "cell_type": "code",
      "source": [
        "pred_ctree_heart <- predict(ctree_heart_10cv$finalModel,\n",
        "                            newdata = heart_data_test)\n",
        "\n",
        "head(pred_ctree_heart)"
      ],
      "metadata": {
        "colab": {
          "base_uri": "https://localhost:8080/",
          "height": 255
        },
        "id": "i7u69oZ7mPdJ",
        "outputId": "075e8091-35b7-4220-80a2-f2cf9f0bfd33"
      },
      "execution_count": 63,
      "outputs": [
        {
          "output_type": "display_data",
          "data": {
            "text/html": [
              "<table class=\"dataframe\">\n",
              "<caption>A matrix: 6 × 2 of type dbl</caption>\n",
              "<thead>\n",
              "\t<tr><th></th><th scope=col>No</th><th scope=col>Yes</th></tr>\n",
              "</thead>\n",
              "<tbody>\n",
              "\t<tr><th scope=row>1</th><td>0.2298851</td><td>0.7701149</td></tr>\n",
              "\t<tr><th scope=row>2</th><td>0.7657658</td><td>0.2342342</td></tr>\n",
              "\t<tr><th scope=row>3</th><td>0.7657658</td><td>0.2342342</td></tr>\n",
              "\t<tr><th scope=row>4</th><td>0.2298851</td><td>0.7701149</td></tr>\n",
              "\t<tr><th scope=row>5</th><td>0.2298851</td><td>0.7701149</td></tr>\n",
              "\t<tr><th scope=row>6</th><td>0.2298851</td><td>0.7701149</td></tr>\n",
              "</tbody>\n",
              "</table>\n"
            ],
            "text/markdown": "\nA matrix: 6 × 2 of type dbl\n\n| <!--/--> | No | Yes |\n|---|---|---|\n| 1 | 0.2298851 | 0.7701149 |\n| 2 | 0.7657658 | 0.2342342 |\n| 3 | 0.7657658 | 0.2342342 |\n| 4 | 0.2298851 | 0.7701149 |\n| 5 | 0.2298851 | 0.7701149 |\n| 6 | 0.2298851 | 0.7701149 |\n\n",
            "text/latex": "A matrix: 6 × 2 of type dbl\n\\begin{tabular}{r|ll}\n  & No & Yes\\\\\n\\hline\n\t1 & 0.2298851 & 0.7701149\\\\\n\t2 & 0.7657658 & 0.2342342\\\\\n\t3 & 0.7657658 & 0.2342342\\\\\n\t4 & 0.2298851 & 0.7701149\\\\\n\t5 & 0.2298851 & 0.7701149\\\\\n\t6 & 0.2298851 & 0.7701149\\\\\n\\end{tabular}\n",
            "text/plain": [
              "  No        Yes      \n",
              "1 0.2298851 0.7701149\n",
              "2 0.7657658 0.2342342\n",
              "3 0.7657658 0.2342342\n",
              "4 0.2298851 0.7701149\n",
              "5 0.2298851 0.7701149\n",
              "6 0.2298851 0.7701149"
            ]
          },
          "metadata": {}
        }
      ]
    },
    {
      "cell_type": "code",
      "source": [
        "rpart.plot(ctree_heart_10cv$finalModel)"
      ],
      "metadata": {
        "colab": {
          "base_uri": "https://localhost:8080/",
          "height": 437
        },
        "id": "0VDLRN3amTKy",
        "outputId": "1359b207-5f94-4dc3-e109-0d441025340a"
      },
      "execution_count": 64,
      "outputs": [
        {
          "output_type": "display_data",
          "data": {
            "text/plain": [
              "plot without title"
            ],
            "image/png": "[encoded data removed]"
          },
          "metadata": {
            "image/png": {
              "width": 420,
              "height": 420
            }
          }
        }
      ]
    },
    {
      "cell_type": "markdown",
      "source": [
        "## Bagging with Trees Example"
      ],
      "metadata": {
        "id": "h0WGmseAmWpR"
      }
    },
    {
      "cell_type": "code",
      "source": [
        "set.seed(1234)\n",
        "\n",
        "bag_lpsa_01 <- randomForest(lpsa ~ lcavol + lweight + age + lbph + svi + lcp + gleason + pgg45,\n",
        "                            data = prostate_data_train, ntree = 500, mtry = 8, importance = TRUE)\n",
        "\n",
        "bag_lpsa_01"
      ],
      "metadata": {
        "colab": {
          "base_uri": "https://localhost:8080/",
          "height": 196
        },
        "id": "iCJIoAg_maTZ",
        "outputId": "68cc755f-b07b-464c-a6e9-c5389f7fcd56"
      },
      "execution_count": 65,
      "outputs": [
        {
          "output_type": "display_data",
          "data": {
            "text/plain": [
              "\n",
              "Call:\n",
              " randomForest(formula = lpsa ~ lcavol + lweight + age + lbph +      svi + lcp + gleason + pgg45, data = prostate_data_train,      ntree = 500, mtry = 8, importance = TRUE) \n",
              "               Type of random forest: regression\n",
              "                     Number of trees: 500\n",
              "No. of variables tried at each split: 8\n",
              "\n",
              "          Mean of squared residuals: 0.7375386\n",
              "                    % Var explained: 48.68"
            ]
          },
          "metadata": {}
        }
      ]
    },
    {
      "cell_type": "code",
      "source": [
        "# can plot OOB MSE vs. number of trees\n",
        "plot(x = 1:500, y = bag_lpsa_01$mse, xlab = \"Number of Trees B\", ylab = \"OOB MSE\")"
      ],
      "metadata": {
        "colab": {
          "base_uri": "https://localhost:8080/",
          "height": 437
        },
        "id": "mvm4DnHum1RT",
        "outputId": "075634be-1911-43ab-c080-5d3a3ecce3ea"
      },
      "execution_count": 66,
      "outputs": [
        {
          "output_type": "display_data",
          "data": {
            "text/plain": [
              "plot without title"
            ],
            "image/png": "[encoded data removed]"
          },
          "metadata": {
            "image/png": {
              "width": 420,
              "height": 420
            }
          }
        }
      ]
    },
    {
      "cell_type": "code",
      "source": [
        "# get OOB estimate for RMSE\n",
        "sqrt(bag_lpsa_01$mse[500])"
      ],
      "metadata": {
        "colab": {
          "base_uri": "https://localhost:8080/",
          "height": 34
        },
        "id": "3OQaOFWtm3lL",
        "outputId": "7befc358-bf0e-4f52-def4-580c30a436de"
      },
      "execution_count": 67,
      "outputs": [
        {
          "output_type": "display_data",
          "data": {
            "text/html": [
              "0.858800683976517"
            ],
            "text/markdown": "0.858800683976517",
            "text/latex": "0.858800683976517",
            "text/plain": [
              "[1] 0.8588007"
            ]
          },
          "metadata": {}
        }
      ]
    },
    {
      "cell_type": "code",
      "source": [
        "pred_bag_lpsa <- predict(bag_lpsa_01, newdata = prostate_data_test)\n",
        "pred_bag_lpsa"
      ],
      "metadata": {
        "colab": {
          "base_uri": "https://localhost:8080/",
          "height": 104
        },
        "id": "H82OP5h5m5Fn",
        "outputId": "173db0fa-0b1f-4ff5-b500-d16f9fa5d6f4"
      },
      "execution_count": 68,
      "outputs": [
        {
          "output_type": "display_data",
          "data": {
            "text/html": [
              "<style>\n",
              ".dl-inline {width: auto; margin:0; padding: 0}\n",
              ".dl-inline>dt, .dl-inline>dd {float: none; width: auto; display: inline-block}\n",
              ".dl-inline>dt::after {content: \":\\0020\"; padding-right: .5ex}\n",
              ".dl-inline>dt:not(:first-of-type) {padding-left: .5ex}\n",
              "</style><dl class=dl-inline><dt>1</dt><dd>1.43109432844666</dd><dt>2</dt><dd>0.707153364979999</dd><dt>3</dt><dd>1.55085077625333</dd><dt>4</dt><dd>1.70116621732333</dd><dt>5</dt><dd>2.85075840557333</dd><dt>6</dt><dd>1.86935246629667</dd><dt>7</dt><dd>1.90800509935</dd><dt>8</dt><dd>2.14655685183</dd><dt>9</dt><dd>2.00324596607333</dd><dt>10</dt><dd>1.46565215154</dd><dt>11</dt><dd>2.64291404918</dd><dt>12</dt><dd>2.17734640421333</dd><dt>13</dt><dd>2.79333108315667</dd><dt>14</dt><dd>2.68659064454</dd><dt>15</dt><dd>2.05500579941333</dd><dt>16</dt><dd>2.01973730359666</dd><dt>17</dt><dd>2.12270659477667</dd><dt>18</dt><dd>2.92749895794333</dd><dt>19</dt><dd>3.10243201001333</dd><dt>20</dt><dd>1.81026561740333</dd><dt>21</dt><dd>3.16487087825</dd><dt>22</dt><dd>3.10136455344333</dd><dt>23</dt><dd>2.07961606329333</dd><dt>24</dt><dd>2.66787234567666</dd><dt>25</dt><dd>2.89196914530333</dd><dt>26</dt><dd>3.19192507736667</dd><dt>27</dt><dd>3.26117564945334</dd><dt>28</dt><dd>3.01196366425</dd><dt>29</dt><dd>3.45400188571999</dd><dt>30</dt><dd>3.90962851172667</dd></dl>\n"
            ],
            "text/markdown": "1\n:   1.431094328446662\n:   0.7071533649799993\n:   1.550850776253334\n:   1.701166217323335\n:   2.850758405573336\n:   1.869352466296677\n:   1.908005099358\n:   2.146556851839\n:   2.0032459660733310\n:   1.4656521515411\n:   2.6429140491812\n:   2.1773464042133313\n:   2.7933310831566714\n:   2.6865906445415\n:   2.0550057994133316\n:   2.0197373035966617\n:   2.1227065947766718\n:   2.9274989579433319\n:   3.1024320100133320\n:   1.8102656174033321\n:   3.1648708782522\n:   3.1013645534433323\n:   2.0796160632933324\n:   2.6678723456766625\n:   2.8919691453033326\n:   3.1919250773666727\n:   3.2611756494533428\n:   3.0119636642529\n:   3.4540018857199930\n:   3.90962851172667\n\n",
            "text/latex": "\\begin{description*}\n\\item[1] 1.43109432844666\n\\item[2] 0.707153364979999\n\\item[3] 1.55085077625333\n\\item[4] 1.70116621732333\n\\item[5] 2.85075840557333\n\\item[6] 1.86935246629667\n\\item[7] 1.90800509935\n\\item[8] 2.14655685183\n\\item[9] 2.00324596607333\n\\item[10] 1.46565215154\n\\item[11] 2.64291404918\n\\item[12] 2.17734640421333\n\\item[13] 2.79333108315667\n\\item[14] 2.68659064454\n\\item[15] 2.05500579941333\n\\item[16] 2.01973730359666\n\\item[17] 2.12270659477667\n\\item[18] 2.92749895794333\n\\item[19] 3.10243201001333\n\\item[20] 1.81026561740333\n\\item[21] 3.16487087825\n\\item[22] 3.10136455344333\n\\item[23] 2.07961606329333\n\\item[24] 2.66787234567666\n\\item[25] 2.89196914530333\n\\item[26] 3.19192507736667\n\\item[27] 3.26117564945334\n\\item[28] 3.01196366425\n\\item[29] 3.45400188571999\n\\item[30] 3.90962851172667\n\\end{description*}\n",
            "text/plain": [
              "        1         2         3         4         5         6         7         8 \n",
              "1.4310943 0.7071534 1.5508508 1.7011662 2.8507584 1.8693525 1.9080051 2.1465569 \n",
              "        9        10        11        12        13        14        15        16 \n",
              "2.0032460 1.4656522 2.6429140 2.1773464 2.7933311 2.6865906 2.0550058 2.0197373 \n",
              "       17        18        19        20        21        22        23        24 \n",
              "2.1227066 2.9274990 3.1024320 1.8102656 3.1648709 3.1013646 2.0796161 2.6678723 \n",
              "       25        26        27        28        29        30 \n",
              "2.8919691 3.1919251 3.2611756 3.0119637 3.4540019 3.9096285 "
            ]
          },
          "metadata": {}
        }
      ]
    },
    {
      "cell_type": "code",
      "source": [
        "# for fun, find test RMSE\n",
        "sqrt(mean((prostate_data_test$lpsa - pred_bag_lpsa)^2))"
      ],
      "metadata": {
        "colab": {
          "base_uri": "https://localhost:8080/",
          "height": 34
        },
        "id": "VxxZ9YnZm6si",
        "outputId": "1e1a37f3-44e8-4ece-e8fc-c7d959a01aea"
      },
      "execution_count": 69,
      "outputs": [
        {
          "output_type": "display_data",
          "data": {
            "text/html": [
              "0.640484474264677"
            ],
            "text/markdown": "0.640484474264677",
            "text/latex": "0.640484474264677",
            "text/plain": [
              "[1] 0.6404845"
            ]
          },
          "metadata": {}
        }
      ]
    },
    {
      "cell_type": "code",
      "source": [
        "set.seed(1234)\n",
        "\n",
        "bag_lpsa_10cv <- train(x = as.matrix(prostate_data_train[,1:8]), y = prostate_data_train$lpsa,\n",
        "                                     method = \"rf\", ntree = 500, tuneGrid = data.frame(mtry = 8),\n",
        "                                     trControl = trainControl(method = \"cv\", number = 10))\n",
        "\n",
        "bag_lpsa_10cv"
      ],
      "metadata": {
        "colab": {
          "base_uri": "https://localhost:8080/",
          "height": 267
        },
        "id": "Aw3ofnoIm8B8",
        "outputId": "522cf90f-aa00-4690-c165-d50b39c918b9"
      },
      "execution_count": 70,
      "outputs": [
        {
          "output_type": "display_data",
          "data": {
            "text/plain": [
              "Random Forest \n",
              "\n",
              "67 samples\n",
              " 8 predictor\n",
              "\n",
              "No pre-processing\n",
              "Resampling: Cross-Validated (10 fold) \n",
              "Summary of sample sizes: 59, 61, 59, 60, 61, 62, ... \n",
              "Resampling results:\n",
              "\n",
              "  RMSE       Rsquared   MAE      \n",
              "  0.8476413  0.5638751  0.7154039\n",
              "\n",
              "Tuning parameter 'mtry' was held constant at a value of 8"
            ]
          },
          "metadata": {}
        }
      ]
    },
    {
      "cell_type": "code",
      "source": [
        "# make variable importance plot\n",
        "# type = 1 is for %IncMSE, 2 is for IncNodePurity (measured by RSS)\n",
        "varImpPlot(bag_lpsa_10cv$finalModel, type = 2, main = \"\")"
      ],
      "metadata": {
        "colab": {
          "base_uri": "https://localhost:8080/",
          "height": 437
        },
        "id": "TtPzaYDgnABR",
        "outputId": "42385769-fc89-4e8b-91cc-71796a8238fb"
      },
      "execution_count": 71,
      "outputs": [
        {
          "output_type": "display_data",
          "data": {
            "text/plain": [
              "Plot with title “”"
            ],
            "image/png": "[encoded data removed]"
          },
          "metadata": {
            "image/png": {
              "width": 420,
              "height": 420
            }
          }
        }
      ]
    },
    {
      "cell_type": "markdown",
      "source": [
        "## Random Forest with Regression Trees Example"
      ],
      "metadata": {
        "id": "snLqym9HnHHl"
      }
    },
    {
      "cell_type": "code",
      "source": [
        "set.seed(1234)\n",
        "\n",
        "rf_lpsa_10cv <- train(x = as.matrix(prostate_data_train[,1:8]), y = prostate_data_train$lpsa,\n",
        "                                    method = \"rf\", ntree = 500, tuneGrid = data.frame(mtry = 1:8),\n",
        "                                    trControl = trainControl(method = \"cv\", number = 10))\n",
        "\n",
        "rf_lpsa_10cv"
      ],
      "metadata": {
        "colab": {
          "base_uri": "https://localhost:8080/",
          "height": 410
        },
        "id": "1Uxw4zVEnJNr",
        "outputId": "5438523d-f7c6-492e-a01c-ac906db6e915"
      },
      "execution_count": 72,
      "outputs": [
        {
          "output_type": "display_data",
          "data": {
            "text/plain": [
              "Random Forest \n",
              "\n",
              "67 samples\n",
              " 8 predictor\n",
              "\n",
              "No pre-processing\n",
              "Resampling: Cross-Validated (10 fold) \n",
              "Summary of sample sizes: 59, 61, 59, 60, 61, 62, ... \n",
              "Resampling results across tuning parameters:\n",
              "\n",
              "  mtry  RMSE       Rsquared   MAE      \n",
              "  1     0.8241238  0.6151008  0.6662603\n",
              "  2     0.8111902  0.6125655  0.6711516\n",
              "  3     0.8182353  0.6001650  0.6805532\n",
              "  4     0.8225155  0.5953565  0.6931608\n",
              "  5     0.8326976  0.5889966  0.6940795\n",
              "  6     0.8283493  0.5806107  0.6944727\n",
              "  7     0.8404905  0.5738430  0.7012668\n",
              "  8     0.8586723  0.5571010  0.7216395\n",
              "\n",
              "RMSE was used to select the optimal model using the smallest value.\n",
              "The final value used for the model was mtry = 2."
            ]
          },
          "metadata": {}
        }
      ]
    },
    {
      "cell_type": "code",
      "source": [
        "rf_lpsa_10cv$finalModel"
      ],
      "metadata": {
        "colab": {
          "base_uri": "https://localhost:8080/",
          "height": 178
        },
        "id": "YxV-Min8nRq4",
        "outputId": "db4f2510-38ee-498c-a6fc-8a2d2338ff7b"
      },
      "execution_count": 73,
      "outputs": [
        {
          "output_type": "display_data",
          "data": {
            "text/plain": [
              "\n",
              "Call:\n",
              " randomForest(x = x, y = y, ntree = 500, mtry = param$mtry) \n",
              "               Type of random forest: regression\n",
              "                     Number of trees: 500\n",
              "No. of variables tried at each split: 2\n",
              "\n",
              "          Mean of squared residuals: 0.696716\n",
              "                    % Var explained: 51.52"
            ]
          },
          "metadata": {}
        }
      ]
    }
  ]
}