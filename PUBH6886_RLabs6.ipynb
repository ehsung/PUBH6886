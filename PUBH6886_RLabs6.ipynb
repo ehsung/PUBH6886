{
  "nbformat": 4,
  "nbformat_minor": 0,
  "metadata": {
    "colab": {
      "provenance": [],
      "authorship_tag": "ABX9TyOVSB7M9gBUdU3kGzV+UoT+",
      "include_colab_link": true
    },
    "kernelspec": {
      "name": "ir",
      "display_name": "R"
    },
    "language_info": {
      "name": "R"
    }
  },
  "cells": [
    {
      "cell_type": "markdown",
      "metadata": {
        "id": "view-in-github",
        "colab_type": "text"
      },
      "source": [
        "<a href=\"https://colab.research.google.com/github/ehsung/PUBH6886/blob/main/PUBH6886_RLabs6.ipynb\" target=\"_parent\"><img src=\"https://colab.research.google.com/assets/colab-badge.svg\" alt=\"Open In Colab\"/></a>"
      ]
    },
    {
      "cell_type": "markdown",
      "source": [
        "# PUBH 6886: R Lab 06\n",
        "\n",
        "## Edward Sung\n",
        "\n",
        "## 10/08/24"
      ],
      "metadata": {
        "id": "w1uOpLNko9gN"
      }
    },
    {
      "cell_type": "markdown",
      "source": [
        "# 5.3 - Lab: Cross-Validation and the Bootstrap"
      ],
      "metadata": {
        "id": "jcgfWerEpyUj"
      }
    },
    {
      "cell_type": "markdown",
      "source": [
        ">[5.3 - Lab: Cross-Validation and the Bootstrap](#scrollTo=jcgfWerEpyUj)\n",
        "\n",
        ">>[5.3.1 - The Validation Set Approach](#scrollTo=FdfUFMcwpB0_)\n",
        "\n",
        ">>[5.3.2 - Leave-One-Out Cross-Validation](#scrollTo=nr5bT4lbq00g)\n",
        "\n",
        ">>[5.3.3 - k-Fold Cross-Validation](#scrollTo=fXYQ8qIurmph)\n",
        "\n",
        ">[Lecture 6 - Slides 25-39](#scrollTo=XrpJ0ybzsKPW)\n",
        "\n",
        ">>[prostate_data](#scrollTo=SD657pzF2O8l)\n",
        "\n",
        ">>[heart_data](#scrollTo=jsc7ZOgG2R8q)\n",
        "\n"
      ],
      "metadata": {
        "colab_type": "toc",
        "id": "WP3Ucjcz23EN"
      }
    },
    {
      "cell_type": "markdown",
      "source": [
        "## 5.3.1 - The Validation Set Approach"
      ],
      "metadata": {
        "id": "FdfUFMcwpB0_"
      }
    },
    {
      "cell_type": "code",
      "execution_count": 94,
      "metadata": {
        "id": "gHHnGF31cAug",
        "colab": {
          "base_uri": "https://localhost:8080/"
        },
        "outputId": "8de7cf96-c68b-4f4a-8c21-ad6e23281c1a"
      },
      "outputs": [
        {
          "output_type": "stream",
          "name": "stderr",
          "text": [
            "Installing package into ‘/usr/local/lib/R/site-library’\n",
            "(as ‘lib’ is unspecified)\n",
            "\n"
          ]
        }
      ],
      "source": [
        "install.packages(\"ISLR2\")\n",
        "library(ISLR2)\n",
        "set.seed(1)\n",
        "train <- sample(392, 196)"
      ]
    },
    {
      "cell_type": "code",
      "source": [
        "lm.fit <- lm(mpg ~ horsepower , data = Auto , subset = train)"
      ],
      "metadata": {
        "id": "sNuGniLGpWqd"
      },
      "execution_count": 95,
      "outputs": []
    },
    {
      "cell_type": "code",
      "source": [
        "attach(Auto)\n",
        "mean((mpg - predict(lm.fit , Auto))[-train]^2)"
      ],
      "metadata": {
        "colab": {
          "base_uri": "https://localhost:8080/",
          "height": 231
        },
        "id": "7ZkoQj0np45W",
        "outputId": "f223738b-9c59-484c-a353-474407ebb3fd"
      },
      "execution_count": 96,
      "outputs": [
        {
          "output_type": "stream",
          "name": "stderr",
          "text": [
            "The following object is masked from package:ggplot2:\n",
            "\n",
            "    mpg\n",
            "\n",
            "\n",
            "The following objects are masked from Auto (pos = 9):\n",
            "\n",
            "    acceleration, cylinders, displacement, horsepower, mpg, name,\n",
            "    origin, weight, year\n",
            "\n",
            "\n"
          ]
        },
        {
          "output_type": "display_data",
          "data": {
            "text/html": [
              "23.2660086465003"
            ],
            "text/markdown": "23.2660086465003",
            "text/latex": "23.2660086465003",
            "text/plain": [
              "[1] 23.26601"
            ]
          },
          "metadata": {}
        }
      ]
    },
    {
      "cell_type": "code",
      "source": [
        "lm.fit2 <- lm(mpg ~ poly(horsepower, 2), data = Auto, subset = train)\n",
        "mean((mpg - predict(lm.fit2 , Auto))[-train]^2)"
      ],
      "metadata": {
        "colab": {
          "base_uri": "https://localhost:8080/",
          "height": 34
        },
        "id": "vDSS_ZZCqAq8",
        "outputId": "0d8ad4d9-3cfe-44ab-ec5c-39f509d30d1c"
      },
      "execution_count": 97,
      "outputs": [
        {
          "output_type": "display_data",
          "data": {
            "text/html": [
              "18.7164594933828"
            ],
            "text/markdown": "18.7164594933828",
            "text/latex": "18.7164594933828",
            "text/plain": [
              "[1] 18.71646"
            ]
          },
          "metadata": {}
        }
      ]
    },
    {
      "cell_type": "code",
      "source": [
        "lm.fit3 <- lm(mpg ~ poly(horsepower, 3), data = Auto, subset = train)\n",
        "mean((mpg - predict(lm.fit3, Auto))[-train]^2)"
      ],
      "metadata": {
        "colab": {
          "base_uri": "https://localhost:8080/",
          "height": 34
        },
        "id": "pM0acSStqO4G",
        "outputId": "83863aa0-4de0-424b-f8f5-9a9fdde2c609"
      },
      "execution_count": 98,
      "outputs": [
        {
          "output_type": "display_data",
          "data": {
            "text/html": [
              "18.7940067973945"
            ],
            "text/markdown": "18.7940067973945",
            "text/latex": "18.7940067973945",
            "text/plain": [
              "[1] 18.79401"
            ]
          },
          "metadata": {}
        }
      ]
    },
    {
      "cell_type": "code",
      "source": [
        "set.seed(2)\n",
        "train <- sample(392, 196)\n",
        "m.fit <- lm(mpg ~ horsepower, subset = train)\n",
        "mean((mpg - predict(lm.fit, Auto))[-train ]^2)"
      ],
      "metadata": {
        "colab": {
          "base_uri": "https://localhost:8080/",
          "height": 34
        },
        "id": "qmgzw4S0qWVN",
        "outputId": "eb899e9b-98fe-47b4-94c7-81fb3b5c47dc"
      },
      "execution_count": 99,
      "outputs": [
        {
          "output_type": "display_data",
          "data": {
            "text/html": [
              "25.2927741840854"
            ],
            "text/markdown": "25.2927741840854",
            "text/latex": "25.2927741840854",
            "text/plain": [
              "[1] 25.29277"
            ]
          },
          "metadata": {}
        }
      ]
    },
    {
      "cell_type": "code",
      "source": [
        "lm.fit2 <- lm(mpg ~ poly(horsepower, 2), data = Auto, subset = train)\n",
        "mean((mpg - predict(lm.fit2, Auto))[-train ]^2)"
      ],
      "metadata": {
        "colab": {
          "base_uri": "https://localhost:8080/",
          "height": 34
        },
        "id": "1wLAMa6lqaSO",
        "outputId": "295fcae5-7d51-4aeb-af5f-cf1bb5bbd51f"
      },
      "execution_count": 100,
      "outputs": [
        {
          "output_type": "display_data",
          "data": {
            "text/html": [
              "20.4303642741463"
            ],
            "text/markdown": "20.4303642741463",
            "text/latex": "20.4303642741463",
            "text/plain": [
              "[1] 20.43036"
            ]
          },
          "metadata": {}
        }
      ]
    },
    {
      "cell_type": "code",
      "source": [
        "lm.fit3 <- lm(mpg ~ poly(horsepower, 3), data = Auto ,\n",
        "subset = train)\n",
        "mean((mpg - predict(lm.fit3, Auto))[-train]^2)"
      ],
      "metadata": {
        "colab": {
          "base_uri": "https://localhost:8080/",
          "height": 34
        },
        "id": "8_XLlIsCqvo2",
        "outputId": "9283902e-9bb2-40fa-b21b-8317c146f477"
      },
      "execution_count": 101,
      "outputs": [
        {
          "output_type": "display_data",
          "data": {
            "text/html": [
              "20.3853268638776"
            ],
            "text/markdown": "20.3853268638776",
            "text/latex": "20.3853268638776",
            "text/plain": [
              "[1] 20.38533"
            ]
          },
          "metadata": {}
        }
      ]
    },
    {
      "cell_type": "markdown",
      "source": [
        "## 5.3.2 - Leave-One-Out Cross-Validation"
      ],
      "metadata": {
        "id": "nr5bT4lbq00g"
      }
    },
    {
      "cell_type": "code",
      "source": [
        "glm.fit <- glm(mpg ~ horsepower, data = Auto)\n",
        "coef(glm.fit)"
      ],
      "metadata": {
        "colab": {
          "base_uri": "https://localhost:8080/",
          "height": 34
        },
        "id": "kf-szpMjq5L_",
        "outputId": "5957df2d-1334-46d7-b420-e1ef7e4e43c8"
      },
      "execution_count": 102,
      "outputs": [
        {
          "output_type": "display_data",
          "data": {
            "text/html": [
              "<style>\n",
              ".dl-inline {width: auto; margin:0; padding: 0}\n",
              ".dl-inline>dt, .dl-inline>dd {float: none; width: auto; display: inline-block}\n",
              ".dl-inline>dt::after {content: \":\\0020\"; padding-right: .5ex}\n",
              ".dl-inline>dt:not(:first-of-type) {padding-left: .5ex}\n",
              "</style><dl class=dl-inline><dt>(Intercept)</dt><dd>39.9358610211705</dd><dt>horsepower</dt><dd>-0.157844733353654</dd></dl>\n"
            ],
            "text/markdown": "(Intercept)\n:   39.9358610211705horsepower\n:   -0.157844733353654\n\n",
            "text/latex": "\\begin{description*}\n\\item[(Intercept)] 39.9358610211705\n\\item[horsepower] -0.157844733353654\n\\end{description*}\n",
            "text/plain": [
              "(Intercept)  horsepower \n",
              " 39.9358610  -0.1578447 "
            ]
          },
          "metadata": {}
        }
      ]
    },
    {
      "cell_type": "code",
      "source": [
        "lm.fit <- lm(mpg ~ horsepower, data = Auto)\n",
        "coef(lm.fit)"
      ],
      "metadata": {
        "colab": {
          "base_uri": "https://localhost:8080/",
          "height": 34
        },
        "id": "3WfVm3ynrAtv",
        "outputId": "2f756ad9-22d6-4de8-9ca2-d86efc27a412"
      },
      "execution_count": 103,
      "outputs": [
        {
          "output_type": "display_data",
          "data": {
            "text/html": [
              "<style>\n",
              ".dl-inline {width: auto; margin:0; padding: 0}\n",
              ".dl-inline>dt, .dl-inline>dd {float: none; width: auto; display: inline-block}\n",
              ".dl-inline>dt::after {content: \":\\0020\"; padding-right: .5ex}\n",
              ".dl-inline>dt:not(:first-of-type) {padding-left: .5ex}\n",
              "</style><dl class=dl-inline><dt>(Intercept)</dt><dd>39.9358610211705</dd><dt>horsepower</dt><dd>-0.157844733353654</dd></dl>\n"
            ],
            "text/markdown": "(Intercept)\n:   39.9358610211705horsepower\n:   -0.157844733353654\n\n",
            "text/latex": "\\begin{description*}\n\\item[(Intercept)] 39.9358610211705\n\\item[horsepower] -0.157844733353654\n\\end{description*}\n",
            "text/plain": [
              "(Intercept)  horsepower \n",
              " 39.9358610  -0.1578447 "
            ]
          },
          "metadata": {}
        }
      ]
    },
    {
      "cell_type": "code",
      "source": [
        "library(boot)\n",
        "glm.fit <- glm(mpg ~ horsepower, data = Auto)\n",
        "cv.err <- cv.glm(Auto, glm.fit)\n",
        "cv.err$delta"
      ],
      "metadata": {
        "colab": {
          "base_uri": "https://localhost:8080/",
          "height": 34
        },
        "id": "qOjA8hzorGQM",
        "outputId": "080ebfdd-6f88-4e7c-f0cd-7bc796a36aa7"
      },
      "execution_count": 104,
      "outputs": [
        {
          "output_type": "display_data",
          "data": {
            "text/html": [
              "<style>\n",
              ".list-inline {list-style: none; margin:0; padding: 0}\n",
              ".list-inline>li {display: inline-block}\n",
              ".list-inline>li:not(:last-child)::after {content: \"\\00b7\"; padding: 0 .5ex}\n",
              "</style>\n",
              "<ol class=list-inline><li>24.2315135179292</li><li>24.2311440937561</li></ol>\n"
            ],
            "text/markdown": "1. 24.2315135179292\n2. 24.2311440937561\n\n\n",
            "text/latex": "\\begin{enumerate*}\n\\item 24.2315135179292\n\\item 24.2311440937561\n\\end{enumerate*}\n",
            "text/plain": [
              "[1] 24.23151 24.23114"
            ]
          },
          "metadata": {}
        }
      ]
    },
    {
      "cell_type": "code",
      "source": [
        "cv.error <- rep(0, 10)\n",
        "for (i in 1:10) {\n",
        "  glm.fit <- glm(mpg ~ poly(horsepower, i), data = Auto)\n",
        "  cv.error[i] <- cv.glm(Auto, glm.fit)$delta[1]\n",
        "  }\n",
        "\n",
        "cv.error"
      ],
      "metadata": {
        "colab": {
          "base_uri": "https://localhost:8080/",
          "height": 34
        },
        "id": "tgOwWHlNrOOh",
        "outputId": "180cb892-6614-43a4-9b02-ffdd3f856062"
      },
      "execution_count": 105,
      "outputs": [
        {
          "output_type": "display_data",
          "data": {
            "text/html": [
              "<style>\n",
              ".list-inline {list-style: none; margin:0; padding: 0}\n",
              ".list-inline>li {display: inline-block}\n",
              ".list-inline>li:not(:last-child)::after {content: \"\\00b7\"; padding: 0 .5ex}\n",
              "</style>\n",
              "<ol class=list-inline><li>24.2315135179292</li><li>19.2482131244897</li><li>19.3349840640291</li><li>19.4244303104302</li><li>19.0332138547041</li><li>18.9786436582254</li><li>18.8330450653182</li><li>18.9611507120531</li><li>19.0686299814602</li><li>19.490932299329</li></ol>\n"
            ],
            "text/markdown": "1. 24.2315135179292\n2. 19.2482131244897\n3. 19.3349840640291\n4. 19.4244303104302\n5. 19.0332138547041\n6. 18.9786436582254\n7. 18.8330450653182\n8. 18.9611507120531\n9. 19.0686299814602\n10. 19.490932299329\n\n\n",
            "text/latex": "\\begin{enumerate*}\n\\item 24.2315135179292\n\\item 19.2482131244897\n\\item 19.3349840640291\n\\item 19.4244303104302\n\\item 19.0332138547041\n\\item 18.9786436582254\n\\item 18.8330450653182\n\\item 18.9611507120531\n\\item 19.0686299814602\n\\item 19.490932299329\n\\end{enumerate*}\n",
            "text/plain": [
              " [1] 24.23151 19.24821 19.33498 19.42443 19.03321 18.97864 18.83305 18.96115\n",
              " [9] 19.06863 19.49093"
            ]
          },
          "metadata": {}
        }
      ]
    },
    {
      "cell_type": "markdown",
      "source": [
        "## 5.3.3 - k-Fold Cross-Validation"
      ],
      "metadata": {
        "id": "fXYQ8qIurmph"
      }
    },
    {
      "cell_type": "code",
      "source": [
        "set.seed(17)\n",
        "cv.error.10 <- rep(0, 10)\n",
        "for (i in 1:10) {\n",
        "  glm.fit <- glm(mpg ~ poly(horsepower , i), data = Auto)\n",
        "  cv.error.10[i] <- cv.glm(Auto , glm.fit , K = 10)$delta[1]\n",
        "  }\n",
        "\n",
        "cv.error.10"
      ],
      "metadata": {
        "colab": {
          "base_uri": "https://localhost:8080/",
          "height": 52
        },
        "id": "6o5868ztrX0O",
        "outputId": "a1a99f42-6226-4884-b7b2-d613aacfc0b2"
      },
      "execution_count": 106,
      "outputs": [
        {
          "output_type": "display_data",
          "data": {
            "text/html": [
              "<style>\n",
              ".list-inline {list-style: none; margin:0; padding: 0}\n",
              ".list-inline>li {display: inline-block}\n",
              ".list-inline>li:not(:last-child)::after {content: \"\\00b7\"; padding: 0 .5ex}\n",
              "</style>\n",
              "<ol class=list-inline><li>24.2720671232254</li><li>19.2690928085129</li><li>19.3480535605547</li><li>19.2949648229745</li><li>19.0319790002896</li><li>18.8978121056401</li><li>19.1206066690695</li><li>19.1466631054789</li><li>18.8701307442148</li><li>20.9552042280394</li></ol>\n"
            ],
            "text/markdown": "1. 24.2720671232254\n2. 19.2690928085129\n3. 19.3480535605547\n4. 19.2949648229745\n5. 19.0319790002896\n6. 18.8978121056401\n7. 19.1206066690695\n8. 19.1466631054789\n9. 18.8701307442148\n10. 20.9552042280394\n\n\n",
            "text/latex": "\\begin{enumerate*}\n\\item 24.2720671232254\n\\item 19.2690928085129\n\\item 19.3480535605547\n\\item 19.2949648229745\n\\item 19.0319790002896\n\\item 18.8978121056401\n\\item 19.1206066690695\n\\item 19.1466631054789\n\\item 18.8701307442148\n\\item 20.9552042280394\n\\end{enumerate*}\n",
            "text/plain": [
              " [1] 24.27207 19.26909 19.34805 19.29496 19.03198 18.89781 19.12061 19.14666\n",
              " [9] 18.87013 20.95520"
            ]
          },
          "metadata": {}
        }
      ]
    },
    {
      "cell_type": "markdown",
      "source": [
        "# Lecture 6 - Slides 25-39"
      ],
      "metadata": {
        "id": "XrpJ0ybzsKPW"
      }
    },
    {
      "cell_type": "code",
      "source": [
        "# Install Libraries\n",
        "install.packages(\"caret\")\n",
        "install.packages(\"ggplot2\")"
      ],
      "metadata": {
        "colab": {
          "base_uri": "https://localhost:8080/"
        },
        "id": "rWbahMDhudt4",
        "outputId": "105fa072-9677-4f5d-8aed-ae3696017478"
      },
      "execution_count": 107,
      "outputs": [
        {
          "output_type": "stream",
          "name": "stderr",
          "text": [
            "Installing package into ‘/usr/local/lib/R/site-library’\n",
            "(as ‘lib’ is unspecified)\n",
            "\n",
            "Installing package into ‘/usr/local/lib/R/site-library’\n",
            "(as ‘lib’ is unspecified)\n",
            "\n"
          ]
        }
      ]
    },
    {
      "cell_type": "code",
      "source": [
        "# Libraries\n",
        "library(readr)\n",
        "library(caret)\n",
        "library(dplyr)\n",
        "library(ggplot2)"
      ],
      "metadata": {
        "id": "1LCunzDDvRNa"
      },
      "execution_count": 108,
      "outputs": []
    },
    {
      "cell_type": "markdown",
      "source": [
        "## prostate_data"
      ],
      "metadata": {
        "id": "SD657pzF2O8l"
      }
    },
    {
      "cell_type": "code",
      "source": [
        "# data set for psa prediction models\n",
        "prostate_data <- read_csv(\"/content/prostate_data.csv\", show_col_types = FALSE)\n",
        "# dimension of the data set\n",
        "dim(prostate_data)"
      ],
      "metadata": {
        "colab": {
          "base_uri": "https://localhost:8080/",
          "height": 34
        },
        "id": "gu5ztkhjsM5d",
        "outputId": "9e4aa1aa-8727-4a11-849e-d51fffcc49e1"
      },
      "execution_count": 109,
      "outputs": [
        {
          "output_type": "display_data",
          "data": {
            "text/html": [
              "<style>\n",
              ".list-inline {list-style: none; margin:0; padding: 0}\n",
              ".list-inline>li {display: inline-block}\n",
              ".list-inline>li:not(:last-child)::after {content: \"\\00b7\"; padding: 0 .5ex}\n",
              "</style>\n",
              "<ol class=list-inline><li>97</li><li>10</li></ol>\n"
            ],
            "text/markdown": "1. 97\n2. 10\n\n\n",
            "text/latex": "\\begin{enumerate*}\n\\item 97\n\\item 10\n\\end{enumerate*}\n",
            "text/plain": [
              "[1] 97 10"
            ]
          },
          "metadata": {}
        }
      ]
    },
    {
      "cell_type": "code",
      "source": [
        "# look at first few rows of prostate_data\n",
        "head(prostate_data)"
      ],
      "metadata": {
        "colab": {
          "base_uri": "https://localhost:8080/",
          "height": 286
        },
        "id": "hxrKuRbVuP6T",
        "outputId": "b4b33635-4fed-49c3-a190-e259628ed121"
      },
      "execution_count": 110,
      "outputs": [
        {
          "output_type": "display_data",
          "data": {
            "text/html": [
              "<table class=\"dataframe\">\n",
              "<caption>A tibble: 6 × 10</caption>\n",
              "<thead>\n",
              "\t<tr><th scope=col>lcavol</th><th scope=col>lweight</th><th scope=col>age</th><th scope=col>lbph</th><th scope=col>svi</th><th scope=col>lcp</th><th scope=col>gleason</th><th scope=col>pgg45</th><th scope=col>lpsa</th><th scope=col>train</th></tr>\n",
              "\t<tr><th scope=col>&lt;dbl&gt;</th><th scope=col>&lt;dbl&gt;</th><th scope=col>&lt;dbl&gt;</th><th scope=col>&lt;dbl&gt;</th><th scope=col>&lt;dbl&gt;</th><th scope=col>&lt;dbl&gt;</th><th scope=col>&lt;dbl&gt;</th><th scope=col>&lt;dbl&gt;</th><th scope=col>&lt;dbl&gt;</th><th scope=col>&lt;lgl&gt;</th></tr>\n",
              "</thead>\n",
              "<tbody>\n",
              "\t<tr><td>-0.5798185</td><td>2.769459</td><td>50</td><td>-1.386294</td><td>0</td><td>-1.386294</td><td>6</td><td> 0</td><td>-0.4307829</td><td>TRUE</td></tr>\n",
              "\t<tr><td>-0.9942523</td><td>3.319626</td><td>58</td><td>-1.386294</td><td>0</td><td>-1.386294</td><td>6</td><td> 0</td><td>-0.1625189</td><td>TRUE</td></tr>\n",
              "\t<tr><td>-0.5108256</td><td>2.691243</td><td>74</td><td>-1.386294</td><td>0</td><td>-1.386294</td><td>7</td><td>20</td><td>-0.1625189</td><td>TRUE</td></tr>\n",
              "\t<tr><td>-1.2039728</td><td>3.282789</td><td>58</td><td>-1.386294</td><td>0</td><td>-1.386294</td><td>6</td><td> 0</td><td>-0.1625189</td><td>TRUE</td></tr>\n",
              "\t<tr><td> 0.7514161</td><td>3.432373</td><td>62</td><td>-1.386294</td><td>0</td><td>-1.386294</td><td>6</td><td> 0</td><td> 0.3715636</td><td>TRUE</td></tr>\n",
              "\t<tr><td>-1.0498221</td><td>3.228826</td><td>50</td><td>-1.386294</td><td>0</td><td>-1.386294</td><td>6</td><td> 0</td><td> 0.7654678</td><td>TRUE</td></tr>\n",
              "</tbody>\n",
              "</table>\n"
            ],
            "text/markdown": "\nA tibble: 6 × 10\n\n| lcavol &lt;dbl&gt; | lweight &lt;dbl&gt; | age &lt;dbl&gt; | lbph &lt;dbl&gt; | svi &lt;dbl&gt; | lcp &lt;dbl&gt; | gleason &lt;dbl&gt; | pgg45 &lt;dbl&gt; | lpsa &lt;dbl&gt; | train &lt;lgl&gt; |\n|---|---|---|---|---|---|---|---|---|---|\n| -0.5798185 | 2.769459 | 50 | -1.386294 | 0 | -1.386294 | 6 |  0 | -0.4307829 | TRUE |\n| -0.9942523 | 3.319626 | 58 | -1.386294 | 0 | -1.386294 | 6 |  0 | -0.1625189 | TRUE |\n| -0.5108256 | 2.691243 | 74 | -1.386294 | 0 | -1.386294 | 7 | 20 | -0.1625189 | TRUE |\n| -1.2039728 | 3.282789 | 58 | -1.386294 | 0 | -1.386294 | 6 |  0 | -0.1625189 | TRUE |\n|  0.7514161 | 3.432373 | 62 | -1.386294 | 0 | -1.386294 | 6 |  0 |  0.3715636 | TRUE |\n| -1.0498221 | 3.228826 | 50 | -1.386294 | 0 | -1.386294 | 6 |  0 |  0.7654678 | TRUE |\n\n",
            "text/latex": "A tibble: 6 × 10\n\\begin{tabular}{llllllllll}\n lcavol & lweight & age & lbph & svi & lcp & gleason & pgg45 & lpsa & train\\\\\n <dbl> & <dbl> & <dbl> & <dbl> & <dbl> & <dbl> & <dbl> & <dbl> & <dbl> & <lgl>\\\\\n\\hline\n\t -0.5798185 & 2.769459 & 50 & -1.386294 & 0 & -1.386294 & 6 &  0 & -0.4307829 & TRUE\\\\\n\t -0.9942523 & 3.319626 & 58 & -1.386294 & 0 & -1.386294 & 6 &  0 & -0.1625189 & TRUE\\\\\n\t -0.5108256 & 2.691243 & 74 & -1.386294 & 0 & -1.386294 & 7 & 20 & -0.1625189 & TRUE\\\\\n\t -1.2039728 & 3.282789 & 58 & -1.386294 & 0 & -1.386294 & 6 &  0 & -0.1625189 & TRUE\\\\\n\t  0.7514161 & 3.432373 & 62 & -1.386294 & 0 & -1.386294 & 6 &  0 &  0.3715636 & TRUE\\\\\n\t -1.0498221 & 3.228826 & 50 & -1.386294 & 0 & -1.386294 & 6 &  0 &  0.7654678 & TRUE\\\\\n\\end{tabular}\n",
            "text/plain": [
              "  lcavol     lweight  age lbph      svi lcp       gleason pgg45 lpsa      \n",
              "1 -0.5798185 2.769459 50  -1.386294 0   -1.386294 6        0    -0.4307829\n",
              "2 -0.9942523 3.319626 58  -1.386294 0   -1.386294 6        0    -0.1625189\n",
              "3 -0.5108256 2.691243 74  -1.386294 0   -1.386294 7       20    -0.1625189\n",
              "4 -1.2039728 3.282789 58  -1.386294 0   -1.386294 6        0    -0.1625189\n",
              "5  0.7514161 3.432373 62  -1.386294 0   -1.386294 6        0     0.3715636\n",
              "6 -1.0498221 3.228826 50  -1.386294 0   -1.386294 6        0     0.7654678\n",
              "  train\n",
              "1 TRUE \n",
              "2 TRUE \n",
              "3 TRUE \n",
              "4 TRUE \n",
              "5 TRUE \n",
              "6 TRUE "
            ]
          },
          "metadata": {}
        }
      ]
    },
    {
      "cell_type": "code",
      "source": [
        "lm_lpsa_loocv <- suppressWarnings(train(x = prostate_data[,1:8], y = prostate_data$lpsa, method = \"lm\", trControl = trainControl(method = \"LOOCV\")))\n",
        "\n",
        "lm_lpsa_loocv"
      ],
      "metadata": {
        "colab": {
          "base_uri": "https://localhost:8080/",
          "height": 267
        },
        "id": "DnmVSxQjvCr9",
        "outputId": "b193cdce-a314-4918-f65e-8199c6a4ce54"
      },
      "execution_count": 111,
      "outputs": [
        {
          "output_type": "display_data",
          "data": {
            "text/plain": [
              "Linear Regression \n",
              "\n",
              "97 samples\n",
              " 8 predictor\n",
              "\n",
              "No pre-processing\n",
              "Resampling: Leave-One-Out Cross-Validation \n",
              "Summary of sample sizes: 96, 96, 96, 96, 96, 96, ... \n",
              "Resampling results:\n",
              "\n",
              "  RMSE       Rsquared  MAE      \n",
              "  0.7357507  0.591976  0.5573323\n",
              "\n",
              "Tuning parameter 'intercept' was held constant at a value of TRUE"
            ]
          },
          "metadata": {}
        }
      ]
    },
    {
      "cell_type": "code",
      "source": [
        "# pick off RMSE and square to get estimate of test MSE\n",
        "lm_lpsa_loocv$results$RMSE^2"
      ],
      "metadata": {
        "colab": {
          "base_uri": "https://localhost:8080/",
          "height": 34
        },
        "id": "RGgKprMKxRTI",
        "outputId": "e01f101b-f87f-448b-d98e-1cdb885b441e"
      },
      "execution_count": 112,
      "outputs": [
        {
          "output_type": "display_data",
          "data": {
            "text/html": [
              "0.541329053905335"
            ],
            "text/markdown": "0.541329053905335",
            "text/latex": "0.541329053905335",
            "text/plain": [
              "[1] 0.5413291"
            ]
          },
          "metadata": {}
        }
      ]
    },
    {
      "cell_type": "code",
      "source": [
        "# can pick off information about model fitted to entire data set\n",
        "# the object below is an lm object (fitted to all 97 observations)\n",
        "lm_lpsa_loocv$finalModel"
      ],
      "metadata": {
        "colab": {
          "base_uri": "https://localhost:8080/",
          "height": 178
        },
        "id": "XmXm7Qp2xaaq",
        "outputId": "81718def-0e43-41c0-c58f-24dd2374a9b9"
      },
      "execution_count": 113,
      "outputs": [
        {
          "output_type": "display_data",
          "data": {
            "text/plain": [
              "\n",
              "Call:\n",
              "lm(formula = .outcome ~ ., data = dat)\n",
              "\n",
              "Coefficients:\n",
              "(Intercept)       lcavol      lweight          age         lbph          svi  \n",
              "   0.181561     0.564341     0.622020    -0.021248     0.096713     0.761673  \n",
              "        lcp      gleason        pgg45  \n",
              "  -0.106051     0.049228     0.004458  \n"
            ]
          },
          "metadata": {}
        }
      ]
    },
    {
      "cell_type": "code",
      "source": [
        "# set up the tuneGrid object\n",
        "tg_01 <- data.frame(k = 1:20)\n",
        "\n",
        "# set seed (for reproducibility) and obtain LOOCV measures for each model\n",
        "set.seed(1234)\n",
        "knn20_lpsa_loocv <- suppressWarnings(train(x = prostate_data[,1:8],\n",
        "  y = prostate_data$lpsa,\n",
        "  method = \"knn\",\n",
        "  trControl = trainControl(method = \"LOOCV\"),\n",
        "  tuneGrid = tg_01))\n",
        "\n",
        "knn20_lpsa_loocv"
      ],
      "metadata": {
        "colab": {
          "base_uri": "https://localhost:8080/",
          "height": 624
        },
        "id": "nEHO6WWgyV2a",
        "outputId": "9dd30349-dcb0-4e4e-8011-1cd6af9f96f6"
      },
      "execution_count": 114,
      "outputs": [
        {
          "output_type": "display_data",
          "data": {
            "text/plain": [
              "k-Nearest Neighbors \n",
              "\n",
              "97 samples\n",
              " 8 predictor\n",
              "\n",
              "No pre-processing\n",
              "Resampling: Leave-One-Out Cross-Validation \n",
              "Summary of sample sizes: 96, 96, 96, 96, 96, 96, ... \n",
              "Resampling results across tuning parameters:\n",
              "\n",
              "  k   RMSE      Rsquared   MAE      \n",
              "   1  1.299602  0.1453803  0.9767271\n",
              "   2  1.196398  0.1549915  0.9201398\n",
              "   3  1.136676  0.1503936  0.8931937\n",
              "   4  1.105338  0.1602263  0.8587658\n",
              "   5  1.085584  0.1688127  0.8330246\n",
              "   6  1.080900  0.1623791  0.8347545\n",
              "   7  1.074900  0.1711441  0.8299665\n",
              "   8  1.058084  0.1814229  0.8114736\n",
              "   9  1.044822  0.1939973  0.7913612\n",
              "  10  1.038327  0.2000895  0.7886105\n",
              "  11  1.049848  0.1864721  0.7939264\n",
              "  12  1.049086  0.1875993  0.7988016\n",
              "  13  1.040135  0.1958307  0.7963214\n",
              "  14  1.030857  0.2081088  0.7920424\n",
              "  15  1.040122  0.1956275  0.7938970\n",
              "  16  1.056455  0.1738153  0.8059622\n",
              "  17  1.057689  0.1700175  0.8037267\n",
              "  18  1.056052  0.1712676  0.7986589\n",
              "  19  1.055994  0.1713088  0.7937933\n",
              "  20  1.041190  0.1888010  0.7824015\n",
              "\n",
              "RMSE was used to select the optimal model using the smallest value.\n",
              "The final value used for the model was k = 14."
            ]
          },
          "metadata": {}
        }
      ]
    },
    {
      "cell_type": "code",
      "source": [
        "knn20_lpsa_loocv$results %>%\n",
        "  ggplot(aes(x = k, y = RMSE)) +\n",
        "  geom_point(col = \"salmon\") +\n",
        "  geom_line(col = \"salmon\") +\n",
        "  theme_bw()"
      ],
      "metadata": {
        "colab": {
          "base_uri": "https://localhost:8080/",
          "height": 437
        },
        "id": "vHYyXoCgyZlI",
        "outputId": "03c0b40d-3283-477f-8365-2ea3489582b1"
      },
      "execution_count": 115,
      "outputs": [
        {
          "output_type": "display_data",
          "data": {
            "text/plain": [
              "plot without title"
            ],
            "image/png": "[encoded data removed]"
          },
          "metadata": {
            "image/png": {
              "width": 420,
              "height": 420
            }
          }
        }
      ]
    },
    {
      "cell_type": "code",
      "source": [
        "knn20_lpsa_loocv$finalModel"
      ],
      "metadata": {
        "colab": {
          "base_uri": "https://localhost:8080/",
          "height": 35
        },
        "id": "_JTvBp9qzJVZ",
        "outputId": "0e420009-6f60-4b68-fa5b-79c300c88fcf"
      },
      "execution_count": 116,
      "outputs": [
        {
          "output_type": "display_data",
          "data": {
            "text/plain": [
              "14-nearest neighbor regression model"
            ]
          },
          "metadata": {}
        }
      ]
    },
    {
      "cell_type": "code",
      "source": [
        "# set seed (for reproducibility) and obtain 10-fold CV error for the linear model\n",
        "set.seed(12345)\n",
        "\n",
        "lm_lpsa_10cv <- suppressWarnings(train(x = prostate_data[,1:8], y = prostate_data$lpsa,\n",
        "method = \"lm\", trControl = trainControl(method = \"cv\", number = 10)))\n",
        "\n",
        "lm_lpsa_10cv"
      ],
      "metadata": {
        "colab": {
          "base_uri": "https://localhost:8080/",
          "height": 267
        },
        "id": "DJoCple814S2",
        "outputId": "cf48001c-4dd5-475c-84d4-53496b4f4f6d"
      },
      "execution_count": 117,
      "outputs": [
        {
          "output_type": "display_data",
          "data": {
            "text/plain": [
              "Linear Regression \n",
              "\n",
              "97 samples\n",
              " 8 predictor\n",
              "\n",
              "No pre-processing\n",
              "Resampling: Cross-Validated (10 fold) \n",
              "Summary of sample sizes: 87, 87, 86, 88, 87, 87, ... \n",
              "Resampling results:\n",
              "\n",
              "  RMSE      Rsquared   MAE      \n",
              "  0.719887  0.6699834  0.5630662\n",
              "\n",
              "Tuning parameter 'intercept' was held constant at a value of TRUE"
            ]
          },
          "metadata": {}
        }
      ]
    },
    {
      "cell_type": "code",
      "source": [
        "# set seed (for reproducibility) and obtain 10-fold CV error for each model\n",
        "set.seed(12345)\n",
        "\n",
        "knn20_lpsa_10cv <- suppressWarnings(train(x = prostate_data[,1:8], y = prostate_data$lpsa,\n",
        "method = \"knn\", trControl = trainControl(method = \"cv\", number = 10),\n",
        "tuneGrid = tg_01))\n",
        "\n",
        "knn20_lpsa_10cv"
      ],
      "metadata": {
        "colab": {
          "base_uri": "https://localhost:8080/",
          "height": 624
        },
        "id": "taBIubaC17Es",
        "outputId": "5d71bed5-e2f2-4c75-ae55-1f6af4b28ed7"
      },
      "execution_count": 118,
      "outputs": [
        {
          "output_type": "display_data",
          "data": {
            "text/plain": [
              "k-Nearest Neighbors \n",
              "\n",
              "97 samples\n",
              " 8 predictor\n",
              "\n",
              "No pre-processing\n",
              "Resampling: Cross-Validated (10 fold) \n",
              "Summary of sample sizes: 87, 87, 86, 88, 87, 87, ... \n",
              "Resampling results across tuning parameters:\n",
              "\n",
              "  k   RMSE       Rsquared   MAE      \n",
              "   1  1.2425685  0.2910317  1.0007210\n",
              "   2  1.1515293  0.2583895  0.9167156\n",
              "   3  1.1140353  0.2122385  0.9098689\n",
              "   4  1.0773898  0.2331635  0.8660722\n",
              "   5  1.0661972  0.2602633  0.8664271\n",
              "   6  1.0373570  0.2626635  0.8409641\n",
              "   7  1.0268380  0.2668873  0.8258085\n",
              "   8  1.0033104  0.2907916  0.8050998\n",
              "   9  0.9998212  0.3106420  0.7878185\n",
              "  10  0.9926295  0.3033387  0.7909425\n",
              "  11  1.0053303  0.2819859  0.8080868\n",
              "  12  0.9998802  0.2849951  0.8054119\n",
              "  13  0.9938388  0.2988811  0.7989707\n",
              "  14  0.9857397  0.3175317  0.7953058\n",
              "  15  0.9924162  0.3091931  0.7999174\n",
              "  16  0.9961486  0.3119749  0.8031246\n",
              "  17  0.9871293  0.3180132  0.7944415\n",
              "  18  0.9756084  0.3269071  0.7807331\n",
              "  19  0.9727598  0.3294804  0.7764059\n",
              "  20  0.9723691  0.3293222  0.7756721\n",
              "\n",
              "RMSE was used to select the optimal model using the smallest value.\n",
              "The final value used for the model was k = 20."
            ]
          },
          "metadata": {}
        }
      ]
    },
    {
      "cell_type": "code",
      "source": [
        "knn20_lpsa_10cv$results %>%\n",
        "  ggplot(aes(x = k, y = RMSE)) +\n",
        "  geom_point(col = \"salmon\") +\n",
        "  geom_line(col = \"salmon\") +\n",
        "  theme_bw()"
      ],
      "metadata": {
        "colab": {
          "base_uri": "https://localhost:8080/",
          "height": 437
        },
        "id": "fEmUkoUj2Df8",
        "outputId": "b4f8431d-2082-4a3d-fa25-bfe913a9522b"
      },
      "execution_count": 119,
      "outputs": [
        {
          "output_type": "display_data",
          "data": {
            "text/plain": [
              "plot without title"
            ],
            "image/png": "[encoded data removed]"
          },
          "metadata": {
            "image/png": {
              "width": 420,
              "height": 420
            }
          }
        }
      ]
    },
    {
      "cell_type": "markdown",
      "source": [
        "## heart_data"
      ],
      "metadata": {
        "id": "jsc7ZOgG2R8q"
      }
    },
    {
      "cell_type": "code",
      "source": [
        "# data set for heart disease prediction models\n",
        "heart_data <- read_csv(\"/content/Heart.csv\", show_col_types = FALSE)\n",
        "\n",
        "# convert Sex, ChestPain, Fbs, RestECG, ExAng, Slope, and Thal to factor variables\n",
        "heart_data$Sex <- factor(heart_data$Sex)\n",
        "heart_data$ChestPain <- factor(heart_data$ChestPain)\n",
        "heart_data$Fbs <- factor(heart_data$Fbs)\n",
        "heart_data$RestECG <- factor(heart_data$RestECG)\n",
        "heart_data$ExAng <- factor(heart_data$ExAng)\n",
        "heart_data$Slope <- factor(heart_data$Slope)\n",
        "heart_data$Thal <- factor(heart_data$Thal)\n",
        "\n",
        "# look at first few rows of prostate_data\n",
        "head(heart_data)"
      ],
      "metadata": {
        "colab": {
          "base_uri": "https://localhost:8080/",
          "height": 286
        },
        "id": "xHbrbu-Y2KwT",
        "outputId": "4c272f30-f22e-45ee-f777-1e3a22c386a0"
      },
      "execution_count": 120,
      "outputs": [
        {
          "output_type": "display_data",
          "data": {
            "text/html": [
              "<table class=\"dataframe\">\n",
              "<caption>A tibble: 6 × 14</caption>\n",
              "<thead>\n",
              "\t<tr><th scope=col>Age</th><th scope=col>Sex</th><th scope=col>ChestPain</th><th scope=col>RestBP</th><th scope=col>Chol</th><th scope=col>Fbs</th><th scope=col>RestECG</th><th scope=col>MaxHR</th><th scope=col>ExAng</th><th scope=col>Oldpeak</th><th scope=col>Slope</th><th scope=col>Ca</th><th scope=col>Thal</th><th scope=col>AHD</th></tr>\n",
              "\t<tr><th scope=col>&lt;dbl&gt;</th><th scope=col>&lt;fct&gt;</th><th scope=col>&lt;fct&gt;</th><th scope=col>&lt;dbl&gt;</th><th scope=col>&lt;dbl&gt;</th><th scope=col>&lt;fct&gt;</th><th scope=col>&lt;fct&gt;</th><th scope=col>&lt;dbl&gt;</th><th scope=col>&lt;fct&gt;</th><th scope=col>&lt;dbl&gt;</th><th scope=col>&lt;fct&gt;</th><th scope=col>&lt;dbl&gt;</th><th scope=col>&lt;fct&gt;</th><th scope=col>&lt;chr&gt;</th></tr>\n",
              "</thead>\n",
              "<tbody>\n",
              "\t<tr><td>63</td><td>1</td><td>typical     </td><td>145</td><td>233</td><td>1</td><td>2</td><td>150</td><td>0</td><td>2.3</td><td>3</td><td>0</td><td>fixed     </td><td>No </td></tr>\n",
              "\t<tr><td>67</td><td>1</td><td>asymptomatic</td><td>160</td><td>286</td><td>0</td><td>2</td><td>108</td><td>1</td><td>1.5</td><td>2</td><td>3</td><td>normal    </td><td>Yes</td></tr>\n",
              "\t<tr><td>67</td><td>1</td><td>asymptomatic</td><td>120</td><td>229</td><td>0</td><td>2</td><td>129</td><td>1</td><td>2.6</td><td>2</td><td>2</td><td>reversable</td><td>Yes</td></tr>\n",
              "\t<tr><td>37</td><td>1</td><td>nonanginal  </td><td>130</td><td>250</td><td>0</td><td>0</td><td>187</td><td>0</td><td>3.5</td><td>3</td><td>0</td><td>normal    </td><td>No </td></tr>\n",
              "\t<tr><td>41</td><td>0</td><td>nontypical  </td><td>130</td><td>204</td><td>0</td><td>2</td><td>172</td><td>0</td><td>1.4</td><td>1</td><td>0</td><td>normal    </td><td>No </td></tr>\n",
              "\t<tr><td>56</td><td>1</td><td>nontypical  </td><td>120</td><td>236</td><td>0</td><td>0</td><td>178</td><td>0</td><td>0.8</td><td>1</td><td>0</td><td>normal    </td><td>No </td></tr>\n",
              "</tbody>\n",
              "</table>\n"
            ],
            "text/markdown": "\nA tibble: 6 × 14\n\n| Age &lt;dbl&gt; | Sex &lt;fct&gt; | ChestPain &lt;fct&gt; | RestBP &lt;dbl&gt; | Chol &lt;dbl&gt; | Fbs &lt;fct&gt; | RestECG &lt;fct&gt; | MaxHR &lt;dbl&gt; | ExAng &lt;fct&gt; | Oldpeak &lt;dbl&gt; | Slope &lt;fct&gt; | Ca &lt;dbl&gt; | Thal &lt;fct&gt; | AHD &lt;chr&gt; |\n|---|---|---|---|---|---|---|---|---|---|---|---|---|---|\n| 63 | 1 | typical      | 145 | 233 | 1 | 2 | 150 | 0 | 2.3 | 3 | 0 | fixed      | No  |\n| 67 | 1 | asymptomatic | 160 | 286 | 0 | 2 | 108 | 1 | 1.5 | 2 | 3 | normal     | Yes |\n| 67 | 1 | asymptomatic | 120 | 229 | 0 | 2 | 129 | 1 | 2.6 | 2 | 2 | reversable | Yes |\n| 37 | 1 | nonanginal   | 130 | 250 | 0 | 0 | 187 | 0 | 3.5 | 3 | 0 | normal     | No  |\n| 41 | 0 | nontypical   | 130 | 204 | 0 | 2 | 172 | 0 | 1.4 | 1 | 0 | normal     | No  |\n| 56 | 1 | nontypical   | 120 | 236 | 0 | 0 | 178 | 0 | 0.8 | 1 | 0 | normal     | No  |\n\n",
            "text/latex": "A tibble: 6 × 14\n\\begin{tabular}{llllllllllllll}\n Age & Sex & ChestPain & RestBP & Chol & Fbs & RestECG & MaxHR & ExAng & Oldpeak & Slope & Ca & Thal & AHD\\\\\n <dbl> & <fct> & <fct> & <dbl> & <dbl> & <fct> & <fct> & <dbl> & <fct> & <dbl> & <fct> & <dbl> & <fct> & <chr>\\\\\n\\hline\n\t 63 & 1 & typical      & 145 & 233 & 1 & 2 & 150 & 0 & 2.3 & 3 & 0 & fixed      & No \\\\\n\t 67 & 1 & asymptomatic & 160 & 286 & 0 & 2 & 108 & 1 & 1.5 & 2 & 3 & normal     & Yes\\\\\n\t 67 & 1 & asymptomatic & 120 & 229 & 0 & 2 & 129 & 1 & 2.6 & 2 & 2 & reversable & Yes\\\\\n\t 37 & 1 & nonanginal   & 130 & 250 & 0 & 0 & 187 & 0 & 3.5 & 3 & 0 & normal     & No \\\\\n\t 41 & 0 & nontypical   & 130 & 204 & 0 & 2 & 172 & 0 & 1.4 & 1 & 0 & normal     & No \\\\\n\t 56 & 1 & nontypical   & 120 & 236 & 0 & 0 & 178 & 0 & 0.8 & 1 & 0 & normal     & No \\\\\n\\end{tabular}\n",
            "text/plain": [
              "  Age Sex ChestPain    RestBP Chol Fbs RestECG MaxHR ExAng Oldpeak Slope Ca\n",
              "1 63  1   typical      145    233  1   2       150   0     2.3     3     0 \n",
              "2 67  1   asymptomatic 160    286  0   2       108   1     1.5     2     3 \n",
              "3 67  1   asymptomatic 120    229  0   2       129   1     2.6     2     2 \n",
              "4 37  1   nonanginal   130    250  0   0       187   0     3.5     3     0 \n",
              "5 41  0   nontypical   130    204  0   2       172   0     1.4     1     0 \n",
              "6 56  1   nontypical   120    236  0   0       178   0     0.8     1     0 \n",
              "  Thal       AHD\n",
              "1 fixed      No \n",
              "2 normal     Yes\n",
              "3 reversable Yes\n",
              "4 normal     No \n",
              "5 normal     No \n",
              "6 normal     No "
            ]
          },
          "metadata": {}
        }
      ]
    },
    {
      "cell_type": "code",
      "source": [
        "# look at distribution of response\n",
        "table(heart_data$AHD)"
      ],
      "metadata": {
        "colab": {
          "base_uri": "https://localhost:8080/",
          "height": 71
        },
        "id": "hXAKSYNI2Wik",
        "outputId": "a0b74f6a-1afe-454e-a1ff-1dfa9552a176"
      },
      "execution_count": 121,
      "outputs": [
        {
          "output_type": "display_data",
          "data": {
            "text/plain": [
              "\n",
              " No Yes \n",
              "164 139 "
            ]
          },
          "metadata": {}
        }
      ]
    },
    {
      "cell_type": "code",
      "source": [
        "set.seed(1234)\n",
        "\n",
        "lr_heart_10cv_1 <- suppressWarnings(train(x = heart_data[,1:13], y = heart_data$AHD,\n",
        "method = \"glm\", family = binomial(link = \"logit\"),\n",
        "trControl = trainControl(method = \"cv\", number = 10,\n",
        "classProbs = TRUE, savePredictions = TRUE)))\n",
        "\n",
        "lr_heart_10cv_1"
      ],
      "metadata": {
        "colab": {
          "base_uri": "https://localhost:8080/",
          "height": 249
        },
        "id": "mO904cRp2f6_",
        "outputId": "47fa4050-6f1d-4c66-832a-e83addc2479c"
      },
      "execution_count": 122,
      "outputs": [
        {
          "output_type": "display_data",
          "data": {
            "text/plain": [
              "Generalized Linear Model \n",
              "\n",
              "303 samples\n",
              " 13 predictor\n",
              "  2 classes: 'No', 'Yes' \n",
              "\n",
              "No pre-processing\n",
              "Resampling: Cross-Validated (10 fold) \n",
              "Summary of sample sizes: 272, 273, 272, 272, 273, 273, ... \n",
              "Resampling results:\n",
              "\n",
              "  Accuracy   Kappa    \n",
              "  0.8244457  0.6457533\n"
            ]
          },
          "metadata": {}
        }
      ]
    },
    {
      "cell_type": "code",
      "source": [
        "set.seed(1234)\n",
        "\n",
        "lr_heart_10cv_2 <- suppressWarnings(train(x = heart_data[,1:13], y = heart_data$AHD,\n",
        "method = \"glm\", family = binomial(link = \"logit\"),\n",
        "trControl = trainControl(method = \"cv\", number = 10,\n",
        "summaryFunction = twoClassSummary,\n",
        "classProbs = TRUE, savePredictions = TRUE)))\n",
        "\n",
        "lr_heart_10cv_2"
      ],
      "metadata": {
        "colab": {
          "base_uri": "https://localhost:8080/",
          "height": 249
        },
        "id": "qdd4_2pS2ipW",
        "outputId": "88eee107-e485-4fc7-f28d-3551d3fe9073"
      },
      "execution_count": 123,
      "outputs": [
        {
          "output_type": "display_data",
          "data": {
            "text/plain": [
              "Generalized Linear Model \n",
              "\n",
              "303 samples\n",
              " 13 predictor\n",
              "  2 classes: 'No', 'Yes' \n",
              "\n",
              "No pre-processing\n",
              "Resampling: Cross-Validated (10 fold) \n",
              "Summary of sample sizes: 272, 273, 272, 272, 273, 273, ... \n",
              "Resampling results:\n",
              "\n",
              "  ROC        Sens       Spec     \n",
              "  0.8890459  0.8622549  0.7818681\n"
            ]
          },
          "metadata": {}
        }
      ]
    },
    {
      "cell_type": "code",
      "source": [
        "# first, provide a sequence of threshold values\n",
        "prob_thresh <- seq(0.10, 0.90, by = 0.10)\n",
        "prob_thresh"
      ],
      "metadata": {
        "colab": {
          "base_uri": "https://localhost:8080/",
          "height": 34
        },
        "id": "OCUXWrDA2qKR",
        "outputId": "5f60ab22-c856-4569-9799-caefa1e495b6"
      },
      "execution_count": 124,
      "outputs": [
        {
          "output_type": "display_data",
          "data": {
            "text/html": [
              "<style>\n",
              ".list-inline {list-style: none; margin:0; padding: 0}\n",
              ".list-inline>li {display: inline-block}\n",
              ".list-inline>li:not(:last-child)::after {content: \"\\00b7\"; padding: 0 .5ex}\n",
              "</style>\n",
              "<ol class=list-inline><li>0.1</li><li>0.2</li><li>0.3</li><li>0.4</li><li>0.5</li><li>0.6</li><li>0.7</li><li>0.8</li><li>0.9</li></ol>\n"
            ],
            "text/markdown": "1. 0.1\n2. 0.2\n3. 0.3\n4. 0.4\n5. 0.5\n6. 0.6\n7. 0.7\n8. 0.8\n9. 0.9\n\n\n",
            "text/latex": "\\begin{enumerate*}\n\\item 0.1\n\\item 0.2\n\\item 0.3\n\\item 0.4\n\\item 0.5\n\\item 0.6\n\\item 0.7\n\\item 0.8\n\\item 0.9\n\\end{enumerate*}\n",
            "text/plain": [
              "[1] 0.1 0.2 0.3 0.4 0.5 0.6 0.7 0.8 0.9"
            ]
          },
          "metadata": {}
        }
      ]
    },
    {
      "cell_type": "code",
      "source": [
        "# use thresholder() function to obtain accuracy measures at each threshold\n",
        "lr_heart_ths <- thresholder(lr_heart_10cv_2,\n",
        "threshold = prob_thresh,\n",
        "final = TRUE,\n",
        "statistics = c(\"Sensitivity\", \"Specificity\", \"Accuracy\", \"Kappa\")) # also try \"all\"\n",
        "\n",
        "lr_heart_ths"
      ],
      "metadata": {
        "colab": {
          "base_uri": "https://localhost:8080/",
          "height": 380
        },
        "id": "TGZXHwWP2uDK",
        "outputId": "1f442917-e90e-4345-e7d6-77c3c57dddbe"
      },
      "execution_count": 125,
      "outputs": [
        {
          "output_type": "display_data",
          "data": {
            "text/html": [
              "<table class=\"dataframe\">\n",
              "<caption>A data.frame: 9 × 6</caption>\n",
              "<thead>\n",
              "\t<tr><th scope=col>parameter</th><th scope=col>prob_threshold</th><th scope=col>Sensitivity</th><th scope=col>Specificity</th><th scope=col>Accuracy</th><th scope=col>Kappa</th></tr>\n",
              "\t<tr><th scope=col>&lt;chr&gt;</th><th scope=col>&lt;dbl&gt;</th><th scope=col>&lt;dbl&gt;</th><th scope=col>&lt;dbl&gt;</th><th scope=col>&lt;dbl&gt;</th><th scope=col>&lt;dbl&gt;</th></tr>\n",
              "</thead>\n",
              "<tbody>\n",
              "\t<tr><td>none</td><td>0.1</td><td>0.9632353</td><td>0.5263736</td><td>0.7605376</td><td>0.5037681</td></tr>\n",
              "\t<tr><td>none</td><td>0.2</td><td>0.9511029</td><td>0.6197802</td><td>0.7976567</td><td>0.5828195</td></tr>\n",
              "\t<tr><td>none</td><td>0.3</td><td>0.9264216</td><td>0.6928571</td><td>0.8180015</td><td>0.6270403</td></tr>\n",
              "\t<tr><td>none</td><td>0.4</td><td>0.9076716</td><td>0.7313187</td><td>0.8248980</td><td>0.6437943</td></tr>\n",
              "\t<tr><td>none</td><td>0.5</td><td>0.8622549</td><td>0.7818681</td><td>0.8244457</td><td>0.6457533</td></tr>\n",
              "\t<tr><td>none</td><td>0.6</td><td>0.8188235</td><td>0.8258242</td><td>0.8214498</td><td>0.6421778</td></tr>\n",
              "\t<tr><td>none</td><td>0.7</td><td>0.7436765</td><td>0.8472527</td><td>0.7914423</td><td>0.5850851</td></tr>\n",
              "\t<tr><td>none</td><td>0.8</td><td>0.6302451</td><td>0.8989011</td><td>0.7543085</td><td>0.5165586</td></tr>\n",
              "\t<tr><td>none</td><td>0.9</td><td>0.4890686</td><td>0.9637363</td><td>0.7075195</td><td>0.4355522</td></tr>\n",
              "</tbody>\n",
              "</table>\n"
            ],
            "text/markdown": "\nA data.frame: 9 × 6\n\n| parameter &lt;chr&gt; | prob_threshold &lt;dbl&gt; | Sensitivity &lt;dbl&gt; | Specificity &lt;dbl&gt; | Accuracy &lt;dbl&gt; | Kappa &lt;dbl&gt; |\n|---|---|---|---|---|---|\n| none | 0.1 | 0.9632353 | 0.5263736 | 0.7605376 | 0.5037681 |\n| none | 0.2 | 0.9511029 | 0.6197802 | 0.7976567 | 0.5828195 |\n| none | 0.3 | 0.9264216 | 0.6928571 | 0.8180015 | 0.6270403 |\n| none | 0.4 | 0.9076716 | 0.7313187 | 0.8248980 | 0.6437943 |\n| none | 0.5 | 0.8622549 | 0.7818681 | 0.8244457 | 0.6457533 |\n| none | 0.6 | 0.8188235 | 0.8258242 | 0.8214498 | 0.6421778 |\n| none | 0.7 | 0.7436765 | 0.8472527 | 0.7914423 | 0.5850851 |\n| none | 0.8 | 0.6302451 | 0.8989011 | 0.7543085 | 0.5165586 |\n| none | 0.9 | 0.4890686 | 0.9637363 | 0.7075195 | 0.4355522 |\n\n",
            "text/latex": "A data.frame: 9 × 6\n\\begin{tabular}{llllll}\n parameter & prob\\_threshold & Sensitivity & Specificity & Accuracy & Kappa\\\\\n <chr> & <dbl> & <dbl> & <dbl> & <dbl> & <dbl>\\\\\n\\hline\n\t none & 0.1 & 0.9632353 & 0.5263736 & 0.7605376 & 0.5037681\\\\\n\t none & 0.2 & 0.9511029 & 0.6197802 & 0.7976567 & 0.5828195\\\\\n\t none & 0.3 & 0.9264216 & 0.6928571 & 0.8180015 & 0.6270403\\\\\n\t none & 0.4 & 0.9076716 & 0.7313187 & 0.8248980 & 0.6437943\\\\\n\t none & 0.5 & 0.8622549 & 0.7818681 & 0.8244457 & 0.6457533\\\\\n\t none & 0.6 & 0.8188235 & 0.8258242 & 0.8214498 & 0.6421778\\\\\n\t none & 0.7 & 0.7436765 & 0.8472527 & 0.7914423 & 0.5850851\\\\\n\t none & 0.8 & 0.6302451 & 0.8989011 & 0.7543085 & 0.5165586\\\\\n\t none & 0.9 & 0.4890686 & 0.9637363 & 0.7075195 & 0.4355522\\\\\n\\end{tabular}\n",
            "text/plain": [
              "  parameter prob_threshold Sensitivity Specificity Accuracy  Kappa    \n",
              "1 none      0.1            0.9632353   0.5263736   0.7605376 0.5037681\n",
              "2 none      0.2            0.9511029   0.6197802   0.7976567 0.5828195\n",
              "3 none      0.3            0.9264216   0.6928571   0.8180015 0.6270403\n",
              "4 none      0.4            0.9076716   0.7313187   0.8248980 0.6437943\n",
              "5 none      0.5            0.8622549   0.7818681   0.8244457 0.6457533\n",
              "6 none      0.6            0.8188235   0.8258242   0.8214498 0.6421778\n",
              "7 none      0.7            0.7436765   0.8472527   0.7914423 0.5850851\n",
              "8 none      0.8            0.6302451   0.8989011   0.7543085 0.5165586\n",
              "9 none      0.9            0.4890686   0.9637363   0.7075195 0.4355522"
            ]
          },
          "metadata": {}
        }
      ]
    }
  ]
}