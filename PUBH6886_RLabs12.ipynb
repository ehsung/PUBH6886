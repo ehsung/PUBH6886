{
  "nbformat": 4,
  "nbformat_minor": 0,
  "metadata": {
    "colab": {
      "provenance": [],
      "toc_visible": true,
      "authorship_tag": "ABX9TyProbl5zZOu8Spr6JYzxLKT",
      "include_colab_link": true
    },
    "kernelspec": {
      "name": "ir",
      "display_name": "R"
    },
    "language_info": {
      "name": "R"
    }
  },
  "cells": [
    {
      "cell_type": "markdown",
      "metadata": {
        "id": "view-in-github",
        "colab_type": "text"
      },
      "source": [
        "<a href=\"https://colab.research.google.com/github/ehsung/PUBH6886/blob/main/PUBH6886_RLabs12.ipynb\" target=\"_parent\"><img src=\"https://colab.research.google.com/assets/colab-badge.svg\" alt=\"Open In Colab\"/></a>"
      ]
    },
    {
      "cell_type": "markdown",
      "source": [
        "# PUBH 6886: R Lab 12\n",
        "\n",
        "## Edward Sung\n",
        "\n",
        "## 12/10/24"
      ],
      "metadata": {
        "id": "hdek25-Kxhmy"
      }
    },
    {
      "cell_type": "code",
      "source": [
        "# Install Libraries\n",
        "install.packages(\"kernlab\")\n",
        "install.packages(\"caret\")\n",
        "install.packages(\"ISLR2\")"
      ],
      "metadata": {
        "id": "elKy5W5GzBxC"
      },
      "execution_count": null,
      "outputs": []
    },
    {
      "cell_type": "code",
      "execution_count": 44,
      "metadata": {
        "id": "aix3Gg9PxePX"
      },
      "outputs": [],
      "source": [
        "# Libraries\n",
        "library(readr)\n",
        "library(dplyr)\n",
        "library(kernlab)\n",
        "library(caret)"
      ]
    },
    {
      "cell_type": "markdown",
      "source": [
        "# Lecture 12 Codes\n",
        "\n",
        ">[SVM Binary Classification Example](#updateTitle=true&folderId=1r-g8wJfeKaGd9a8yLWY3NoKaegmzbrzB&scrollTo=8_0qFifGyPr_)\n",
        "\n",
        ">[SVM Multiple Class Example](#updateTitle=true&folderId=1r-g8wJfeKaGd9a8yLWY3NoKaegmzbrzB&scrollTo=hGLUHFqF6KSK)\n",
        "\n"
      ],
      "metadata": {
        "colab_type": "toc",
        "id": "hby6zs8e6z4z"
      }
    },
    {
      "cell_type": "markdown",
      "source": [
        "# SVM Binary Classification Example"
      ],
      "metadata": {
        "id": "8_0qFifGyPr_"
      }
    },
    {
      "cell_type": "code",
      "source": [
        "heart_data <- read_csv(\"/content/Heart.csv\")\n",
        "\n",
        "# convert ChestPain and Thal to factor variables\n",
        "heart_data$ChestPain <- factor(heart_data$ChestPain)\n",
        "heart_data$Thal <- factor(heart_data$Thal)\n",
        "heart_data$AHD <- factor(heart_data$AHD)\n",
        "\n",
        "# split into training and test sets\n",
        "set.seed(1234)\n",
        "heart_train_row <- sort(sample(1:303, size = 202))\n",
        "heart_test_row <- setdiff(1:303, heart_train_row)\n",
        "heart_data_train <- heart_data[heart_train_row,]\n",
        "heart_data_test <- heart_data[heart_test_row,]\n",
        "\n",
        "# remove subjects with missing data\n",
        "heart_data_train <- heart_data_train[complete.cases(heart_data_train),]\n",
        "heart_data_test <- heart_data_test[complete.cases(heart_data_test),]"
      ],
      "metadata": {
        "id": "CfPZ0NeYySCL"
      },
      "execution_count": null,
      "outputs": []
    },
    {
      "cell_type": "code",
      "source": [
        "set.seed(1234)\n",
        "\n",
        "svm_lin_C10 <- ksvm(AHD ~., data = heart_data_train,\n",
        "                    kernel = \"vanilladot\",\n",
        "                    C = 10, scale = FALSE, cross = 10)\n",
        "\n",
        "svm_lin_C10"
      ],
      "metadata": {
        "colab": {
          "base_uri": "https://localhost:8080/",
          "height": 249
        },
        "id": "Qmfex3Gqy3UL",
        "outputId": "af46e6e8-8f19-4a50-de47-4f50a28fe41a"
      },
      "execution_count": 46,
      "outputs": [
        {
          "output_type": "stream",
          "name": "stdout",
          "text": [
            " Setting default kernel parameters  \n"
          ]
        },
        {
          "output_type": "display_data",
          "data": {
            "text/plain": [
              "Support Vector Machine object of class \"ksvm\" \n",
              "\n",
              "SV type: C-svc  (classification) \n",
              " parameter : cost C = 10 \n",
              "\n",
              "Linear (vanilla) kernel function. \n",
              "\n",
              "Number of Support Vectors : 72 \n",
              "\n",
              "Objective Function Value : -631.0882 \n",
              "Training error : 0.131313 \n",
              "Cross validation error : 0.166842 "
            ]
          },
          "metadata": {}
        }
      ]
    },
    {
      "cell_type": "code",
      "source": [
        "# first 5 indices for support vectors\n",
        "svm_lin_C10@SVindex[1:5]"
      ],
      "metadata": {
        "colab": {
          "base_uri": "https://localhost:8080/",
          "height": 34
        },
        "id": "q8CTmNkCy6Hq",
        "outputId": "00f1722e-e858-4d31-b599-39812881983d"
      },
      "execution_count": 47,
      "outputs": [
        {
          "output_type": "display_data",
          "data": {
            "text/html": [
              "<style>\n",
              ".list-inline {list-style: none; margin:0; padding: 0}\n",
              ".list-inline>li {display: inline-block}\n",
              ".list-inline>li:not(:last-child)::after {content: \"\\00b7\"; padding: 0 .5ex}\n",
              "</style>\n",
              "<ol class=list-inline><li>2</li><li>8</li><li>10</li><li>18</li><li>19</li></ol>\n"
            ],
            "text/markdown": "1. 2\n2. 8\n3. 10\n4. 18\n5. 19\n\n\n",
            "text/latex": "\\begin{enumerate*}\n\\item 2\n\\item 8\n\\item 10\n\\item 18\n\\item 19\n\\end{enumerate*}\n",
            "text/plain": [
              "[1]  2  8 10 18 19"
            ]
          },
          "metadata": {}
        }
      ]
    },
    {
      "cell_type": "code",
      "source": [
        "set.seed(1234)\n",
        "\n",
        "svm_lin_C0.1 <- ksvm(AHD ~., data = heart_data_train,\n",
        "                     kernel = \"vanilladot\",\n",
        "                     C = 0.10, scale = FALSE, cross = 10)\n",
        "\n",
        "svm_lin_C0.1"
      ],
      "metadata": {
        "colab": {
          "base_uri": "https://localhost:8080/",
          "height": 249
        },
        "id": "HiiRzBqT0dPt",
        "outputId": "c239cfbc-f73e-47d8-c14f-4c33762cb580"
      },
      "execution_count": 48,
      "outputs": [
        {
          "output_type": "stream",
          "name": "stdout",
          "text": [
            " Setting default kernel parameters  \n"
          ]
        },
        {
          "output_type": "display_data",
          "data": {
            "text/plain": [
              "Support Vector Machine object of class \"ksvm\" \n",
              "\n",
              "SV type: C-svc  (classification) \n",
              " parameter : cost C = 0.1 \n",
              "\n",
              "Linear (vanilla) kernel function. \n",
              "\n",
              "Number of Support Vectors : 87 \n",
              "\n",
              "Objective Function Value : -7.409 \n",
              "Training error : 0.126263 \n",
              "Cross validation error : 0.172105 "
            ]
          },
          "metadata": {}
        }
      ]
    },
    {
      "cell_type": "code",
      "source": [
        "# first 5 indices for support vectors\n",
        "svm_lin_C0.1@SVindex[1:5]"
      ],
      "metadata": {
        "colab": {
          "base_uri": "https://localhost:8080/",
          "height": 34
        },
        "id": "Uxtk24AP0dNR",
        "outputId": "716d0a0a-2fc6-4aea-8567-bce76027e785"
      },
      "execution_count": 49,
      "outputs": [
        {
          "output_type": "display_data",
          "data": {
            "text/html": [
              "<style>\n",
              ".list-inline {list-style: none; margin:0; padding: 0}\n",
              ".list-inline>li {display: inline-block}\n",
              ".list-inline>li:not(:last-child)::after {content: \"\\00b7\"; padding: 0 .5ex}\n",
              "</style>\n",
              "<ol class=list-inline><li>2</li><li>4</li><li>6</li><li>8</li><li>10</li></ol>\n"
            ],
            "text/markdown": "1. 2\n2. 4\n3. 6\n4. 8\n5. 10\n\n\n",
            "text/latex": "\\begin{enumerate*}\n\\item 2\n\\item 4\n\\item 6\n\\item 8\n\\item 10\n\\end{enumerate*}\n",
            "text/plain": [
              "[1]  2  4  6  8 10"
            ]
          },
          "metadata": {}
        }
      ]
    },
    {
      "cell_type": "code",
      "source": [
        "set.seed(1234)\n",
        "\n",
        "svm_poly_C10 <- ksvm(AHD ~., data = heart_data_train,\n",
        "                     kernel = \"polydot\",\n",
        "                     kpar = list(degree = 2, scale = 1,\n",
        "                     offset = 1),\n",
        "                     C = 10, scale = FALSE, cross = 10)\n",
        "\n",
        "svm_poly_C10"
      ],
      "metadata": {
        "colab": {
          "base_uri": "https://localhost:8080/",
          "height": 249
        },
        "id": "3ZCSJAMr0dK8",
        "outputId": "24a5516a-a89f-440e-e0b9-049e818c553b"
      },
      "execution_count": 50,
      "outputs": [
        {
          "output_type": "display_data",
          "data": {
            "text/plain": [
              "Support Vector Machine object of class \"ksvm\" \n",
              "\n",
              "SV type: C-svc  (classification) \n",
              " parameter : cost C = 10 \n",
              "\n",
              "Polynomial kernel function. \n",
              " Hyperparameters : degree =  2  scale =  1  offset =  1 \n",
              "\n",
              "Number of Support Vectors : 81 \n",
              "\n",
              "Objective Function Value : -4.0618 \n",
              "Training error : 0 \n",
              "Cross validation error : 0.307632 "
            ]
          },
          "metadata": {}
        }
      ]
    },
    {
      "cell_type": "code",
      "source": [
        "# first 5 indices for support vectors\n",
        "svm_poly_C10@SVindex[1:5]"
      ],
      "metadata": {
        "colab": {
          "base_uri": "https://localhost:8080/",
          "height": 34
        },
        "id": "3FAi2gHJ0dIj",
        "outputId": "6beb5621-e0ca-4bf9-a340-525c661cd8dc"
      },
      "execution_count": 51,
      "outputs": [
        {
          "output_type": "display_data",
          "data": {
            "text/html": [
              "<style>\n",
              ".list-inline {list-style: none; margin:0; padding: 0}\n",
              ".list-inline>li {display: inline-block}\n",
              ".list-inline>li:not(:last-child)::after {content: \"\\00b7\"; padding: 0 .5ex}\n",
              "</style>\n",
              "<ol class=list-inline><li>8</li><li>9</li><li>10</li><li>18</li><li>22</li></ol>\n"
            ],
            "text/markdown": "1. 8\n2. 9\n3. 10\n4. 18\n5. 22\n\n\n",
            "text/latex": "\\begin{enumerate*}\n\\item 8\n\\item 9\n\\item 10\n\\item 18\n\\item 22\n\\end{enumerate*}\n",
            "text/plain": [
              "[1]  8  9 10 18 22"
            ]
          },
          "metadata": {}
        }
      ]
    },
    {
      "cell_type": "code",
      "source": [
        "set.seed(1234)\n",
        "\n",
        "svm_poly_C0.1 <- ksvm(AHD ~., data = heart_data_train,\n",
        "                      kernel = \"polydot\",\n",
        "                      kpar = list(degree = 2, scale = 1,\n",
        "                      offset = 1),\n",
        "                      C = 0.10, scale = FALSE, cross = 10)\n",
        "\n",
        "svm_poly_C0.1"
      ],
      "metadata": {
        "colab": {
          "base_uri": "https://localhost:8080/",
          "height": 249
        },
        "id": "IhbA9Sut0dF8",
        "outputId": "13b7d1c1-fdea-4c63-8a6b-39c03cc43d41"
      },
      "execution_count": 52,
      "outputs": [
        {
          "output_type": "display_data",
          "data": {
            "text/plain": [
              "Support Vector Machine object of class \"ksvm\" \n",
              "\n",
              "SV type: C-svc  (classification) \n",
              " parameter : cost C = 0.1 \n",
              "\n",
              "Polynomial kernel function. \n",
              " Hyperparameters : degree =  2  scale =  1  offset =  1 \n",
              "\n",
              "Number of Support Vectors : 97 \n",
              "\n",
              "Objective Function Value : -2.5734 \n",
              "Training error : 0.025253 \n",
              "Cross validation error : 0.297895 "
            ]
          },
          "metadata": {}
        }
      ]
    },
    {
      "cell_type": "code",
      "source": [
        "# first 5 indices for support vectors\n",
        "svm_poly_C0.1@SVindex[1:5]"
      ],
      "metadata": {
        "colab": {
          "base_uri": "https://localhost:8080/",
          "height": 34
        },
        "id": "b_LTSV1S0dDL",
        "outputId": "da6909bf-12da-4ed3-c8fa-8a832d664ff2"
      },
      "execution_count": 53,
      "outputs": [
        {
          "output_type": "display_data",
          "data": {
            "text/html": [
              "<style>\n",
              ".list-inline {list-style: none; margin:0; padding: 0}\n",
              ".list-inline>li {display: inline-block}\n",
              ".list-inline>li:not(:last-child)::after {content: \"\\00b7\"; padding: 0 .5ex}\n",
              "</style>\n",
              "<ol class=list-inline><li>2</li><li>8</li><li>9</li><li>10</li><li>18</li></ol>\n"
            ],
            "text/markdown": "1. 2\n2. 8\n3. 9\n4. 10\n5. 18\n\n\n",
            "text/latex": "\\begin{enumerate*}\n\\item 2\n\\item 8\n\\item 9\n\\item 10\n\\item 18\n\\end{enumerate*}\n",
            "text/plain": [
              "[1]  2  8  9 10 18"
            ]
          },
          "metadata": {}
        }
      ]
    },
    {
      "cell_type": "code",
      "source": [
        "set.seed(1234)\n",
        "\n",
        "svm_rbf_C10 <- ksvm(AHD ~., data = heart_data_train,\n",
        "                    kernel = \"rbfdot\",\n",
        "                    kpar = list(sigma = 1),\n",
        "                    C = 10, scale = FALSE, cross = 10)\n",
        "\n",
        "svm_rbf_C10"
      ],
      "metadata": {
        "colab": {
          "base_uri": "https://localhost:8080/",
          "height": 249
        },
        "id": "Rr50gDSV00m5",
        "outputId": "edb54081-568d-491a-8e78-1719bb49cc21"
      },
      "execution_count": 54,
      "outputs": [
        {
          "output_type": "display_data",
          "data": {
            "text/plain": [
              "Support Vector Machine object of class \"ksvm\" \n",
              "\n",
              "SV type: C-svc  (classification) \n",
              " parameter : cost C = 10 \n",
              "\n",
              "Gaussian Radial Basis kernel function. \n",
              " Hyperparameter : sigma =  1 \n",
              "\n",
              "Number of Support Vectors : 198 \n",
              "\n",
              "Objective Function Value : -92.5452 \n",
              "Training error : 0 \n",
              "Cross validation error : 0.388158 "
            ]
          },
          "metadata": {}
        }
      ]
    },
    {
      "cell_type": "code",
      "source": [
        "# first 5 indices for support vectors\n",
        "svm_rbf_C10@SVindex[1:5]"
      ],
      "metadata": {
        "colab": {
          "base_uri": "https://localhost:8080/",
          "height": 34
        },
        "id": "HH7fsxVQ00kd",
        "outputId": "93a1ef5d-1de1-4e2c-ee1a-6428a671d864"
      },
      "execution_count": 55,
      "outputs": [
        {
          "output_type": "display_data",
          "data": {
            "text/html": [
              "<style>\n",
              ".list-inline {list-style: none; margin:0; padding: 0}\n",
              ".list-inline>li {display: inline-block}\n",
              ".list-inline>li:not(:last-child)::after {content: \"\\00b7\"; padding: 0 .5ex}\n",
              "</style>\n",
              "<ol class=list-inline><li>1</li><li>2</li><li>3</li><li>4</li><li>5</li></ol>\n"
            ],
            "text/markdown": "1. 1\n2. 2\n3. 3\n4. 4\n5. 5\n\n\n",
            "text/latex": "\\begin{enumerate*}\n\\item 1\n\\item 2\n\\item 3\n\\item 4\n\\item 5\n\\end{enumerate*}\n",
            "text/plain": [
              "[1] 1 2 3 4 5"
            ]
          },
          "metadata": {}
        }
      ]
    },
    {
      "cell_type": "code",
      "source": [
        "set.seed(1234)\n",
        "\n",
        "svm_rbf_C0.1 <- ksvm(AHD ~., data = heart_data_train,\n",
        "                     kernel = \"rbfdot\",\n",
        "                     kpar = list(sigma = 1),\n",
        "                     C = 0.10, scale = FALSE, cross = 10)\n",
        "\n",
        "svm_rbf_C0.1"
      ],
      "metadata": {
        "colab": {
          "base_uri": "https://localhost:8080/",
          "height": 249
        },
        "id": "TFhnO_fK00iI",
        "outputId": "8924839e-862d-4ac9-984e-69a3c9b026e6"
      },
      "execution_count": 56,
      "outputs": [
        {
          "output_type": "display_data",
          "data": {
            "text/plain": [
              "Support Vector Machine object of class \"ksvm\" \n",
              "\n",
              "SV type: C-svc  (classification) \n",
              " parameter : cost C = 0.1 \n",
              "\n",
              "Gaussian Radial Basis kernel function. \n",
              " Hyperparameter : sigma =  1 \n",
              "\n",
              "Number of Support Vectors : 198 \n",
              "\n",
              "Objective Function Value : -17.6501 \n",
              "Training error : 0.469697 \n",
              "Cross validation error : 0.468947 "
            ]
          },
          "metadata": {}
        }
      ]
    },
    {
      "cell_type": "code",
      "source": [
        "# first 5 indices for support vectors\n",
        "svm_rbf_C0.1@SVindex[1:5]"
      ],
      "metadata": {
        "colab": {
          "base_uri": "https://localhost:8080/",
          "height": 34
        },
        "id": "mq4F2Ddt00fl",
        "outputId": "a2e6a8da-664f-4b11-876d-b957641a6a9f"
      },
      "execution_count": 57,
      "outputs": [
        {
          "output_type": "display_data",
          "data": {
            "text/html": [
              "<style>\n",
              ".list-inline {list-style: none; margin:0; padding: 0}\n",
              ".list-inline>li {display: inline-block}\n",
              ".list-inline>li:not(:last-child)::after {content: \"\\00b7\"; padding: 0 .5ex}\n",
              "</style>\n",
              "<ol class=list-inline><li>1</li><li>2</li><li>3</li><li>4</li><li>5</li></ol>\n"
            ],
            "text/markdown": "1. 1\n2. 2\n3. 3\n4. 4\n5. 5\n\n\n",
            "text/latex": "\\begin{enumerate*}\n\\item 1\n\\item 2\n\\item 3\n\\item 4\n\\item 5\n\\end{enumerate*}\n",
            "text/plain": [
              "[1] 1 2 3 4 5"
            ]
          },
          "metadata": {}
        }
      ]
    },
    {
      "cell_type": "code",
      "source": [
        "# create predictor matrix and response vector\n",
        "# since the predictors are a mix of numerical and categorical variables,\n",
        "# it is simplest to set up a model matrix that converts categorical variables\n",
        "# to sets of dummy variables\n",
        "f1 <- formula(AHD ~ Age + Sex + ChestPain + RestBP + Chol + Fbs + RestECG + MaxHR +\n",
        "                    ExAng + Oldpeak + Slope + Ca + Thal)\n",
        "\n",
        "mf <- model.frame(f1, data = heart_data_train)\n",
        "heart_data_train_X <- model.matrix(mf, data = heart_data_train)[,-1] # remove the intercept column\n",
        "heart_data_train_Y <- heart_data_train$AHD\n",
        "\n",
        "# set up tuning grid\n",
        "tg_svmrbk <- expand.grid(C = c(0.001, 0.01, 0.1 , 1, 10),\n",
        "                         sigma = seq(0.005, 0.10, by = 0.005))\n",
        "\n",
        "set.seed(1234)\n",
        "\n",
        "train_svmrbk <- train(x = heart_data_train_X, y = heart_data_train_Y,\n",
        "                      method = \"svmRadial\", tuneGrid = tg_svmrbk,\n",
        "                      trControl = trainControl(method = \"cv\", number = 10))\n",
        "\n",
        "train_svmrbk$results[which.max(train_svmrbk$results$Accuracy),]"
      ],
      "metadata": {
        "colab": {
          "base_uri": "https://localhost:8080/",
          "height": 129
        },
        "id": "jIVeaRKF00dW",
        "outputId": "6ff57722-fb47-41dc-8abe-dec2e7ad6ddc"
      },
      "execution_count": 58,
      "outputs": [
        {
          "output_type": "display_data",
          "data": {
            "text/html": [
              "<table class=\"dataframe\">\n",
              "<caption>A data.frame: 1 × 6</caption>\n",
              "<thead>\n",
              "\t<tr><th></th><th scope=col>C</th><th scope=col>sigma</th><th scope=col>Accuracy</th><th scope=col>Kappa</th><th scope=col>AccuracySD</th><th scope=col>KappaSD</th></tr>\n",
              "\t<tr><th></th><th scope=col>&lt;dbl&gt;</th><th scope=col>&lt;dbl&gt;</th><th scope=col>&lt;dbl&gt;</th><th scope=col>&lt;dbl&gt;</th><th scope=col>&lt;dbl&gt;</th><th scope=col>&lt;dbl&gt;</th></tr>\n",
              "</thead>\n",
              "<tbody>\n",
              "\t<tr><th scope=row>50</th><td>0.1</td><td>0.05</td><td>0.8436591</td><td>0.6847598</td><td>0.0867336</td><td>0.1763347</td></tr>\n",
              "</tbody>\n",
              "</table>\n"
            ],
            "text/markdown": "\nA data.frame: 1 × 6\n\n| <!--/--> | C &lt;dbl&gt; | sigma &lt;dbl&gt; | Accuracy &lt;dbl&gt; | Kappa &lt;dbl&gt; | AccuracySD &lt;dbl&gt; | KappaSD &lt;dbl&gt; |\n|---|---|---|---|---|---|---|\n| 50 | 0.1 | 0.05 | 0.8436591 | 0.6847598 | 0.0867336 | 0.1763347 |\n\n",
            "text/latex": "A data.frame: 1 × 6\n\\begin{tabular}{r|llllll}\n  & C & sigma & Accuracy & Kappa & AccuracySD & KappaSD\\\\\n  & <dbl> & <dbl> & <dbl> & <dbl> & <dbl> & <dbl>\\\\\n\\hline\n\t50 & 0.1 & 0.05 & 0.8436591 & 0.6847598 & 0.0867336 & 0.1763347\\\\\n\\end{tabular}\n",
            "text/plain": [
              "   C   sigma Accuracy  Kappa     AccuracySD KappaSD  \n",
              "50 0.1 0.05  0.8436591 0.6847598 0.0867336  0.1763347"
            ]
          },
          "metadata": {}
        }
      ]
    },
    {
      "cell_type": "code",
      "source": [
        "# have to create dummy variables for categorical variables in test set\n",
        "mftest <- model.frame(f1, data = heart_data_test)\n",
        "heart_data_test_X <- model.matrix(mftest, data = heart_data_test)[,-1] # remove the intercept column\n",
        "\n",
        "# obtain predicted classes\n",
        "pred_test <- predict(train_svmrbk$finalModel, newdata = heart_data_test_X)\n",
        "\n",
        "# construct confusion matrix\n",
        "table(obs = heart_data_test$AHD, pred = pred_test) # accuracy = 80/99 = 0.81"
      ],
      "metadata": {
        "colab": {
          "base_uri": "https://localhost:8080/",
          "height": 88
        },
        "id": "2M0aJW7B1MEl",
        "outputId": "85f5805d-fe39-4b9e-aafd-5295eee19c28"
      },
      "execution_count": 59,
      "outputs": [
        {
          "output_type": "display_data",
          "data": {
            "text/plain": [
              "     pred\n",
              "obs   No Yes\n",
              "  No  48   7\n",
              "  Yes 12  32"
            ]
          },
          "metadata": {}
        }
      ]
    },
    {
      "cell_type": "markdown",
      "source": [
        "# SVM Multiple Class Example"
      ],
      "metadata": {
        "id": "hGLUHFqF6KSK"
      }
    },
    {
      "cell_type": "code",
      "source": [
        "library(ISLR2)\n",
        "str(Khan)"
      ],
      "metadata": {
        "colab": {
          "base_uri": "https://localhost:8080/"
        },
        "id": "XOXpE4MR6NF5",
        "outputId": "ecffba0c-cee2-43dc-d8a0-87b83617fed6"
      },
      "execution_count": 60,
      "outputs": [
        {
          "output_type": "stream",
          "name": "stdout",
          "text": [
            "List of 4\n",
            " $ xtrain: num [1:63, 1:2308] 0.7733 -0.0782 -0.0845 0.9656 0.0757 ...\n",
            "  ..- attr(*, \"dimnames\")=List of 2\n",
            "  .. ..$ : chr [1:63] \"V1\" \"V2\" \"V3\" \"V4\" ...\n",
            "  .. ..$ : NULL\n",
            " $ xtest : num [1:20, 1:2308] 0.14 1.164 0.841 0.685 -1.956 ...\n",
            "  ..- attr(*, \"dimnames\")=List of 2\n",
            "  .. ..$ : chr [1:20] \"V1\" \"V2\" \"V4\" \"V6\" ...\n",
            "  .. ..$ : NULL\n",
            " $ ytrain: num [1:63] 2 2 2 2 2 2 2 2 2 2 ...\n",
            " $ ytest : num [1:20] 3 2 4 2 1 3 4 2 3 1 ...\n"
          ]
        }
      ]
    },
    {
      "cell_type": "code",
      "source": [
        "# look at frequencies for outcome classes in training set\n",
        "table(Khan$ytrain)"
      ],
      "metadata": {
        "colab": {
          "base_uri": "https://localhost:8080/",
          "height": 71
        },
        "id": "iC8OgGlm6ZhV",
        "outputId": "4c8fdc55-dcea-4779-c1c4-2e2de5705df9"
      },
      "execution_count": 61,
      "outputs": [
        {
          "output_type": "display_data",
          "data": {
            "text/plain": [
              "\n",
              " 1  2  3  4 \n",
              " 8 23 12 20 "
            ]
          },
          "metadata": {}
        }
      ]
    },
    {
      "cell_type": "code",
      "source": [
        "# set up training data\n",
        "xtrain <- Khan$xtrain\n",
        "xtest <- Khan$xtest\n",
        "colnames(xtrain) <- paste0(\"x\",1:2308)\n",
        "colnames(xtest) <- paste0(\"x\",1:2308)\n",
        "ytrain_fac <- factor(Khan$ytrain)\n",
        "ytest_fac <- factor(Khan$ytest)\n",
        "\n",
        "# set up tuning grid\n",
        "tg_svmlin <- expand.grid(C = c(0.001, 0.01, 0.1 , 1, 10, 100))\n",
        "\n",
        "set.seed(1234)\n",
        "\n",
        "train_svmlin <- train(x = xtrain, y = ytrain_fac,\n",
        "                      method = \"svmLinear\", tuneGrid = tg_svmlin,\n",
        "                      trControl = trainControl(method = \"cv\", number = 10))\n",
        "\n",
        "train_svmlin"
      ],
      "metadata": {
        "colab": {
          "base_uri": "https://localhost:8080/",
          "height": 392
        },
        "id": "scFJjVIm6hA3",
        "outputId": "da299f41-7f1e-4664-a3c5-330de8b7ea1b"
      },
      "execution_count": 62,
      "outputs": [
        {
          "output_type": "display_data",
          "data": {
            "text/plain": [
              "Support Vector Machines with Linear Kernel \n",
              "\n",
              "  63 samples\n",
              "2308 predictors\n",
              "   4 classes: '1', '2', '3', '4' \n",
              "\n",
              "No pre-processing\n",
              "Resampling: Cross-Validated (10 fold) \n",
              "Summary of sample sizes: 57, 57, 57, 56, 57, 58, ... \n",
              "Resampling results across tuning parameters:\n",
              "\n",
              "  C      Accuracy   Kappa\n",
              "  1e-03  0.9857143  0.98 \n",
              "  1e-02  0.9857143  0.98 \n",
              "  1e-01  0.9857143  0.98 \n",
              "  1e+00  0.9857143  0.98 \n",
              "  1e+01  0.9857143  0.98 \n",
              "  1e+02  0.9857143  0.98 \n",
              "\n",
              "Accuracy was used to select the optimal model using the largest value.\n",
              "The final value used for the model was C = 0.001."
            ]
          },
          "metadata": {}
        }
      ]
    },
    {
      "cell_type": "code",
      "source": [
        "# confusion matrix for training data\n",
        "table(pred = predict(train_svmlin$finalModel), obs = ytrain_fac)"
      ],
      "metadata": {
        "colab": {
          "base_uri": "https://localhost:8080/",
          "height": 124
        },
        "id": "1w995w3C6lhs",
        "outputId": "6fd9f724-6649-4380-fd40-ed186cbe4f0d"
      },
      "execution_count": 63,
      "outputs": [
        {
          "output_type": "display_data",
          "data": {
            "text/plain": [
              "    obs\n",
              "pred  1  2  3  4\n",
              "   1  8  0  0  0\n",
              "   2  0 23  0  0\n",
              "   3  0  0 12  0\n",
              "   4  0  0  0 20"
            ]
          },
          "metadata": {}
        }
      ]
    },
    {
      "cell_type": "code",
      "source": [
        "# confusion matrix for test data\n",
        "table(pred = predict(train_svmlin$finalModel, newdata = xtest), obs = ytest_fac)"
      ],
      "metadata": {
        "colab": {
          "base_uri": "https://localhost:8080/",
          "height": 124
        },
        "id": "fpdLSBlq6tr8",
        "outputId": "08a8ce4d-eb1f-4502-af20-79d9d0c36442"
      },
      "execution_count": 64,
      "outputs": [
        {
          "output_type": "display_data",
          "data": {
            "text/plain": [
              "    obs\n",
              "pred 1 2 3 4\n",
              "   1 3 0 0 0\n",
              "   2 0 6 2 0\n",
              "   3 0 0 4 0\n",
              "   4 0 0 0 5"
            ]
          },
          "metadata": {}
        }
      ]
    }
  ]
}